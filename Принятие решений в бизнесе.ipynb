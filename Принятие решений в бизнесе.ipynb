{
 "cells": [
  {
   "cell_type": "markdown",
   "metadata": {},
   "source": [
    "# <h1>Принятие решений в бизнесе</h1>"
   ]
  },
  {
   "cell_type": "markdown",
   "metadata": {},
   "source": [
    "\n",
    "\n",
    "<b>Цели проекта</b>\n",
    "<ul>\n",
    "    <li>Провести приоритизацию гипотез с использованием фреймворков ICE и RICE</li>\n",
    "    <li>Изучить изменение приоритизации гипотез</li>\n",
    "    <li>Провести анализ A/B-теста</li>\n",
    "    <li>Принять и обосновать решение по результатам теста</li>\n",
    "</ul>\n",
    "\n",
    "<b>Описание данных</b>\n",
    "\n",
    "<h3> Данные для первой части Файл /datasets/hypothesis.csv</h3>\n",
    "<ul>\n",
    "    <li><strong>Hypothesis</strong> — краткое описание гипотезы;</li>\n",
    "    <li><strong>Reach</strong> — охват пользователей по 10-балльной шкале;</li>\n",
    "    <li><strong>Impact</strong> — влияние на пользователей по 10-балльной шкале;</li>\n",
    "    <li><strong>Confidence</strong> — уверенность в гипотезе по 10-балльной шкале;</li>\n",
    "    <li><strong>Efforts</strong> — затраты ресурсов на проверку гипотезы по 10-балльной шкале.</li>\n",
    "</ul>\n",
    "\n",
    "<h3>Данные для второй части</h3>\n",
    "\n",
    "<b>Файл /datasets/orders.csv<b/>\n",
    "<ul>\n",
    "    <li><strong>transactionId</strong> — идентификатор заказа;</li>\n",
    "    <li><strong>visitorId</strong> — идентификатор пользователя, совершившего заказ;</li>\n",
    "    <li><strong>date</strong> — дата, когда был совершен заказ;</li>\n",
    "    <li><strong>revenue</strong> — выручка заказа;</li>\n",
    "    <li><strong>group</strong> — группа A/B-теста, в которую попал заказ.</li>\n",
    "</ul>\n",
    "\n",
    "<b>Файл /datasets/visitors.csv</b>\n",
    "<ul>\n",
    "    <li><strong>date</strong> — дата;</li>\n",
    "    <li><strong>group</strong> — группа A/B-теста;</li>\n",
    "    <li><strong>visitors</strong> — количество пользователей в указанную дату в указанной группе A/B-теста.</li>\n",
    "</ul>"
   ]
  },
  {
   "cell_type": "markdown",
   "metadata": {},
   "source": ""
  },
  {
   "cell_type": "code",
   "execution_count": 1,
   "metadata": {},
   "outputs": [],
   "source": [
    "import pandas as pd \n",
    "import numpy as np\n",
    "from scipy import stats as st\n",
    "import math\n",
    "import seaborn as sns\n",
    "import matplotlib.pyplot as plt\n",
    "import datetime as dt"
   ]
  },
  {
   "cell_type": "code",
   "execution_count": 2,
   "metadata": {},
   "outputs": [],
   "source": [
    "try:\n",
    "    hypothesis, orders, visitors = (\n",
    "        pd.read_csv('/datasets/hypothesis.csv'),\n",
    "        pd.read_csv('/datasets/orders.csv'),\n",
    "        pd.read_csv('/datasets/visitors.csv')\n",
    "    )\n",
    "\n",
    "\n",
    "except:\n",
    "    hypothesis, orders, visitors = (\n",
    "        pd.read_csv('hypothesis.csv'),\n",
    "        pd.read_csv('orders.csv'),\n",
    "        pd.read_csv('visitors.csv')\n",
    "    )\n",
    "    \n",
    "pd.set_option('display.max_columns', None)\n",
    "pd.set_option('display.max_rows', None)\n",
    "pd.set_option('display.precision',2)"
   ]
  },
  {
   "cell_type": "markdown",
   "metadata": {},
   "source": [
    "# Предобработка данных"
   ]
  },
  {
   "cell_type": "code",
   "execution_count": 3,
   "metadata": {},
   "outputs": [],
   "source": [
    "def data_check(dataframe):\n",
    "    print(\"\\nОбщая информация о датафрейме:\\n\")\n",
    "    dataframe.info()\n",
    "    print(\"\\nПропуски в каждом столбце:\\n\", dataframe.isnull().sum())\n",
    "    print(\"\\nКоличество дубликатов:\", dataframe.duplicated().sum())  "
   ]
  },
  {
   "cell_type": "code",
   "execution_count": 4,
   "metadata": {},
   "outputs": [
    {
     "name": "stdout",
     "output_type": "stream",
     "text": [
      "\n",
      "Общая информация о датафрейме:\n",
      "\n",
      "<class 'pandas.core.frame.DataFrame'>\n",
      "RangeIndex: 9 entries, 0 to 8\n",
      "Data columns (total 5 columns):\n",
      " #   Column      Non-Null Count  Dtype \n",
      "---  ------      --------------  ----- \n",
      " 0   Hypothesis  9 non-null      object\n",
      " 1   Reach       9 non-null      int64 \n",
      " 2   Impact      9 non-null      int64 \n",
      " 3   Confidence  9 non-null      int64 \n",
      " 4   Efforts     9 non-null      int64 \n",
      "dtypes: int64(4), object(1)\n",
      "memory usage: 488.0+ bytes\n",
      "\n",
      "Пропуски в каждом столбце:\n",
      " Hypothesis    0\n",
      "Reach         0\n",
      "Impact        0\n",
      "Confidence    0\n",
      "Efforts       0\n",
      "dtype: int64\n",
      "\n",
      "Количество дубликатов: 0\n"
     ]
    }
   ],
   "source": [
    "data_check(hypothesis)"
   ]
  },
  {
   "cell_type": "code",
   "execution_count": 5,
   "metadata": {},
   "outputs": [
    {
     "name": "stdout",
     "output_type": "stream",
     "text": [
      "\n",
      "Общая информация о датафрейме:\n",
      "\n",
      "<class 'pandas.core.frame.DataFrame'>\n",
      "RangeIndex: 1197 entries, 0 to 1196\n",
      "Data columns (total 5 columns):\n",
      " #   Column         Non-Null Count  Dtype \n",
      "---  ------         --------------  ----- \n",
      " 0   transactionId  1197 non-null   int64 \n",
      " 1   visitorId      1197 non-null   int64 \n",
      " 2   date           1197 non-null   object\n",
      " 3   revenue        1197 non-null   int64 \n",
      " 4   group          1197 non-null   object\n",
      "dtypes: int64(3), object(2)\n",
      "memory usage: 46.9+ KB\n",
      "\n",
      "Пропуски в каждом столбце:\n",
      " transactionId    0\n",
      "visitorId        0\n",
      "date             0\n",
      "revenue          0\n",
      "group            0\n",
      "dtype: int64\n",
      "\n",
      "Количество дубликатов: 0\n"
     ]
    }
   ],
   "source": [
    "data_check(orders)"
   ]
  },
  {
   "cell_type": "code",
   "execution_count": 6,
   "metadata": {},
   "outputs": [
    {
     "name": "stdout",
     "output_type": "stream",
     "text": [
      "\n",
      "Общая информация о датафрейме:\n",
      "\n",
      "<class 'pandas.core.frame.DataFrame'>\n",
      "RangeIndex: 62 entries, 0 to 61\n",
      "Data columns (total 3 columns):\n",
      " #   Column    Non-Null Count  Dtype \n",
      "---  ------    --------------  ----- \n",
      " 0   date      62 non-null     object\n",
      " 1   group     62 non-null     object\n",
      " 2   visitors  62 non-null     int64 \n",
      "dtypes: int64(1), object(2)\n",
      "memory usage: 1.6+ KB\n",
      "\n",
      "Пропуски в каждом столбце:\n",
      " date        0\n",
      "group       0\n",
      "visitors    0\n",
      "dtype: int64\n",
      "\n",
      "Количество дубликатов: 0\n"
     ]
    }
   ],
   "source": [
    "data_check(visitors)"
   ]
  },
  {
   "cell_type": "raw",
   "metadata": {},
   "source": [
    "orders['date'] = pd.to_datetime(orders['date'])\n",
    "visitors['date'] = pd.to_datetime(visitors['date'])"
   ]
  },
  {
   "cell_type": "markdown",
   "metadata": {},
   "source": [
    "Предварительно изучив данные, видим, что они не имеют пропусков и дубликатов, столбцы с датой приведены к нужному типу, а значит можем рассмотреть их подробнее. "
   ]
  },
  {
   "cell_type": "code",
   "execution_count": 7,
   "metadata": {},
   "outputs": [],
   "source": [
    "def data_head(df):\n",
    "    print(df.head(5))"
   ]
  },
  {
   "cell_type": "code",
   "execution_count": 8,
   "metadata": {},
   "outputs": [
    {
     "name": "stdout",
     "output_type": "stream",
     "text": [
      "                                          Hypothesis  Reach  Impact  \\\n",
      "0  Добавить два новых канала привлечения трафика,...      3      10   \n",
      "1  Запустить собственную службу доставки, что сок...      2       5   \n",
      "2  Добавить блоки рекомендаций товаров на сайт ин...      8       3   \n",
      "3  Изменить структура категорий, что увеличит кон...      8       3   \n",
      "4  Изменить цвет фона главной страницы, чтобы уве...      3       1   \n",
      "\n",
      "   Confidence  Efforts  \n",
      "0           8        6  \n",
      "1           4       10  \n",
      "2           7        3  \n",
      "3           3        8  \n",
      "4           1        1  \n",
      "   transactionId   visitorId        date  revenue group\n",
      "0     3667963787  3312258926  2019-08-15     1650     B\n",
      "1     2804400009  3642806036  2019-08-15      730     B\n",
      "2     2961555356  4069496402  2019-08-15      400     A\n",
      "3     3797467345  1196621759  2019-08-15     9759     B\n",
      "4     2282983706  2322279887  2019-08-15     2308     B\n",
      "         date group  visitors\n",
      "0  2019-08-01     A       719\n",
      "1  2019-08-02     A       619\n",
      "2  2019-08-03     A       507\n",
      "3  2019-08-04     A       717\n",
      "4  2019-08-05     A       756\n"
     ]
    }
   ],
   "source": [
    "dfs = [hypothesis, orders, visitors]\n",
    "for df in dfs:\n",
    "    data_head(df)\n",
    "    "
   ]
  },
  {
   "cell_type": "markdown",
   "metadata": {},
   "source": [
    "# Часть 1. Приоритизация гипотез.\n"
   ]
  },
  {
   "cell_type": "markdown",
   "metadata": {},
   "source": [
    "В файле /datasets/hypothesis.csv 9 гипотез по увеличению выручки интернет-магазина с указанными параметрами Reach, Impact, Confidence, Effort.\n",
    "\n",
    "<b>Задача</b> \n",
    "\n",
    "- Примените фреймворк ICE для приоритизации гипотез. Отсортируйте их по убыванию приоритета.\n",
    "- Примените фреймворк RICE для приоритизации гипотез. Отсортируйте их по убыванию приоритета.\n",
    "- Укажите, как изменилась приоритизация гипотез при применении RICE вместо ICE. Объясните, почему так произошло."
   ]
  },
  {
   "cell_type": "code",
   "execution_count": 9,
   "metadata": {},
   "outputs": [],
   "source": [
    "pd.options.display.max_colwidth=100"
   ]
  },
  {
   "cell_type": "code",
   "execution_count": 10,
   "metadata": {},
   "outputs": [
    {
     "data": {
      "text/html": [
       "<div>\n",
       "<style scoped>\n",
       "    .dataframe tbody tr th:only-of-type {\n",
       "        vertical-align: middle;\n",
       "    }\n",
       "\n",
       "    .dataframe tbody tr th {\n",
       "        vertical-align: top;\n",
       "    }\n",
       "\n",
       "    .dataframe thead th {\n",
       "        text-align: right;\n",
       "    }\n",
       "</style>\n",
       "<table border=\"1\" class=\"dataframe\">\n",
       "  <thead>\n",
       "    <tr style=\"text-align: right;\">\n",
       "      <th></th>\n",
       "      <th>Hypothesis</th>\n",
       "      <th>Reach</th>\n",
       "      <th>Impact</th>\n",
       "      <th>Confidence</th>\n",
       "      <th>Efforts</th>\n",
       "      <th>ICE</th>\n",
       "    </tr>\n",
       "  </thead>\n",
       "  <tbody>\n",
       "    <tr>\n",
       "      <th>0</th>\n",
       "      <td>Запустить акцию, дающую скидку на товар в день рождения</td>\n",
       "      <td>1</td>\n",
       "      <td>9</td>\n",
       "      <td>9</td>\n",
       "      <td>5</td>\n",
       "      <td>16.20</td>\n",
       "    </tr>\n",
       "    <tr>\n",
       "      <th>1</th>\n",
       "      <td>Добавить два новых канала привлечения трафика, что позволит привлекать на 30% больше пользователей</td>\n",
       "      <td>3</td>\n",
       "      <td>10</td>\n",
       "      <td>8</td>\n",
       "      <td>6</td>\n",
       "      <td>13.33</td>\n",
       "    </tr>\n",
       "    <tr>\n",
       "      <th>2</th>\n",
       "      <td>Добавить форму подписки на все основные страницы, чтобы собрать базу клиентов для email-рассылок</td>\n",
       "      <td>10</td>\n",
       "      <td>7</td>\n",
       "      <td>8</td>\n",
       "      <td>5</td>\n",
       "      <td>11.20</td>\n",
       "    </tr>\n",
       "    <tr>\n",
       "      <th>3</th>\n",
       "      <td>Показать на главной странице баннеры с актуальными акциями и распродажами, чтобы увеличить конве...</td>\n",
       "      <td>5</td>\n",
       "      <td>3</td>\n",
       "      <td>8</td>\n",
       "      <td>3</td>\n",
       "      <td>8.00</td>\n",
       "    </tr>\n",
       "    <tr>\n",
       "      <th>4</th>\n",
       "      <td>Добавить блоки рекомендаций товаров на сайт интернет магазина, чтобы повысить конверсию и средни...</td>\n",
       "      <td>8</td>\n",
       "      <td>3</td>\n",
       "      <td>7</td>\n",
       "      <td>3</td>\n",
       "      <td>7.00</td>\n",
       "    </tr>\n",
       "    <tr>\n",
       "      <th>5</th>\n",
       "      <td>Запустить собственную службу доставки, что сократит срок доставки заказов</td>\n",
       "      <td>2</td>\n",
       "      <td>5</td>\n",
       "      <td>4</td>\n",
       "      <td>10</td>\n",
       "      <td>2.00</td>\n",
       "    </tr>\n",
       "    <tr>\n",
       "      <th>6</th>\n",
       "      <td>Добавить страницу отзывов клиентов о магазине, что позволит увеличить количество заказов</td>\n",
       "      <td>3</td>\n",
       "      <td>2</td>\n",
       "      <td>2</td>\n",
       "      <td>3</td>\n",
       "      <td>1.33</td>\n",
       "    </tr>\n",
       "    <tr>\n",
       "      <th>7</th>\n",
       "      <td>Изменить структура категорий, что увеличит конверсию, т.к. пользователи быстрее найдут нужный товар</td>\n",
       "      <td>8</td>\n",
       "      <td>3</td>\n",
       "      <td>3</td>\n",
       "      <td>8</td>\n",
       "      <td>1.12</td>\n",
       "    </tr>\n",
       "    <tr>\n",
       "      <th>8</th>\n",
       "      <td>Изменить цвет фона главной страницы, чтобы увеличить вовлеченность пользователей</td>\n",
       "      <td>3</td>\n",
       "      <td>1</td>\n",
       "      <td>1</td>\n",
       "      <td>1</td>\n",
       "      <td>1.00</td>\n",
       "    </tr>\n",
       "  </tbody>\n",
       "</table>\n",
       "</div>"
      ],
      "text/plain": [
       "                                                                                            Hypothesis  \\\n",
       "0                                              Запустить акцию, дающую скидку на товар в день рождения   \n",
       "1   Добавить два новых канала привлечения трафика, что позволит привлекать на 30% больше пользователей   \n",
       "2     Добавить форму подписки на все основные страницы, чтобы собрать базу клиентов для email-рассылок   \n",
       "3  Показать на главной странице баннеры с актуальными акциями и распродажами, чтобы увеличить конве...   \n",
       "4  Добавить блоки рекомендаций товаров на сайт интернет магазина, чтобы повысить конверсию и средни...   \n",
       "5                            Запустить собственную службу доставки, что сократит срок доставки заказов   \n",
       "6             Добавить страницу отзывов клиентов о магазине, что позволит увеличить количество заказов   \n",
       "7  Изменить структура категорий, что увеличит конверсию, т.к. пользователи быстрее найдут нужный товар   \n",
       "8                     Изменить цвет фона главной страницы, чтобы увеличить вовлеченность пользователей   \n",
       "\n",
       "   Reach  Impact  Confidence  Efforts    ICE  \n",
       "0      1       9           9        5  16.20  \n",
       "1      3      10           8        6  13.33  \n",
       "2     10       7           8        5  11.20  \n",
       "3      5       3           8        3   8.00  \n",
       "4      8       3           7        3   7.00  \n",
       "5      2       5           4       10   2.00  \n",
       "6      3       2           2        3   1.33  \n",
       "7      8       3           3        8   1.12  \n",
       "8      3       1           1        1   1.00  "
      ]
     },
     "execution_count": 10,
     "metadata": {},
     "output_type": "execute_result"
    }
   ],
   "source": [
    "hypothesis['ICE'] = hypothesis['Impact'] * hypothesis['Confidence'] / hypothesis['Efforts']\n",
    "hypothesis.sort_values(by='ICE', ascending=False, inplace=True)\n",
    "hypothesis.reset_index(drop=True)"
   ]
  },
  {
   "cell_type": "code",
   "execution_count": 11,
   "metadata": {},
   "outputs": [
    {
     "data": {
      "text/plain": [
       "'Запустить акцию, дающую скидку на товар в день рождения'"
      ]
     },
     "execution_count": 11,
     "metadata": {},
     "output_type": "execute_result"
    }
   ],
   "source": [
    "hypothesis.iloc[0,0]"
   ]
  },
  {
   "cell_type": "markdown",
   "metadata": {},
   "source": [
    "В приоритете у нас оказалась гипотеза о запуске скидки на товар в честь Дня рождения. Ее приоритет составил 16.20 в сравнении с остальными гипотезами."
   ]
  },
  {
   "cell_type": "code",
   "execution_count": 12,
   "metadata": {},
   "outputs": [
    {
     "data": {
      "text/html": [
       "<div>\n",
       "<style scoped>\n",
       "    .dataframe tbody tr th:only-of-type {\n",
       "        vertical-align: middle;\n",
       "    }\n",
       "\n",
       "    .dataframe tbody tr th {\n",
       "        vertical-align: top;\n",
       "    }\n",
       "\n",
       "    .dataframe thead th {\n",
       "        text-align: right;\n",
       "    }\n",
       "</style>\n",
       "<table border=\"1\" class=\"dataframe\">\n",
       "  <thead>\n",
       "    <tr style=\"text-align: right;\">\n",
       "      <th></th>\n",
       "      <th>Hypothesis</th>\n",
       "      <th>Reach</th>\n",
       "      <th>Impact</th>\n",
       "      <th>Confidence</th>\n",
       "      <th>Efforts</th>\n",
       "      <th>ICE</th>\n",
       "      <th>RICE</th>\n",
       "    </tr>\n",
       "  </thead>\n",
       "  <tbody>\n",
       "    <tr>\n",
       "      <th>0</th>\n",
       "      <td>Добавить форму подписки на все основные страницы, чтобы собрать базу клиентов для email-рассылок</td>\n",
       "      <td>10</td>\n",
       "      <td>7</td>\n",
       "      <td>8</td>\n",
       "      <td>5</td>\n",
       "      <td>11.20</td>\n",
       "      <td>112.0</td>\n",
       "    </tr>\n",
       "    <tr>\n",
       "      <th>1</th>\n",
       "      <td>Добавить блоки рекомендаций товаров на сайт интернет магазина, чтобы повысить конверсию и средни...</td>\n",
       "      <td>8</td>\n",
       "      <td>3</td>\n",
       "      <td>7</td>\n",
       "      <td>3</td>\n",
       "      <td>7.00</td>\n",
       "      <td>56.0</td>\n",
       "    </tr>\n",
       "    <tr>\n",
       "      <th>2</th>\n",
       "      <td>Добавить два новых канала привлечения трафика, что позволит привлекать на 30% больше пользователей</td>\n",
       "      <td>3</td>\n",
       "      <td>10</td>\n",
       "      <td>8</td>\n",
       "      <td>6</td>\n",
       "      <td>13.33</td>\n",
       "      <td>40.0</td>\n",
       "    </tr>\n",
       "    <tr>\n",
       "      <th>3</th>\n",
       "      <td>Показать на главной странице баннеры с актуальными акциями и распродажами, чтобы увеличить конве...</td>\n",
       "      <td>5</td>\n",
       "      <td>3</td>\n",
       "      <td>8</td>\n",
       "      <td>3</td>\n",
       "      <td>8.00</td>\n",
       "      <td>40.0</td>\n",
       "    </tr>\n",
       "    <tr>\n",
       "      <th>4</th>\n",
       "      <td>Запустить акцию, дающую скидку на товар в день рождения</td>\n",
       "      <td>1</td>\n",
       "      <td>9</td>\n",
       "      <td>9</td>\n",
       "      <td>5</td>\n",
       "      <td>16.20</td>\n",
       "      <td>16.2</td>\n",
       "    </tr>\n",
       "    <tr>\n",
       "      <th>5</th>\n",
       "      <td>Изменить структура категорий, что увеличит конверсию, т.к. пользователи быстрее найдут нужный товар</td>\n",
       "      <td>8</td>\n",
       "      <td>3</td>\n",
       "      <td>3</td>\n",
       "      <td>8</td>\n",
       "      <td>1.12</td>\n",
       "      <td>9.0</td>\n",
       "    </tr>\n",
       "    <tr>\n",
       "      <th>6</th>\n",
       "      <td>Запустить собственную службу доставки, что сократит срок доставки заказов</td>\n",
       "      <td>2</td>\n",
       "      <td>5</td>\n",
       "      <td>4</td>\n",
       "      <td>10</td>\n",
       "      <td>2.00</td>\n",
       "      <td>4.0</td>\n",
       "    </tr>\n",
       "    <tr>\n",
       "      <th>7</th>\n",
       "      <td>Добавить страницу отзывов клиентов о магазине, что позволит увеличить количество заказов</td>\n",
       "      <td>3</td>\n",
       "      <td>2</td>\n",
       "      <td>2</td>\n",
       "      <td>3</td>\n",
       "      <td>1.33</td>\n",
       "      <td>4.0</td>\n",
       "    </tr>\n",
       "    <tr>\n",
       "      <th>8</th>\n",
       "      <td>Изменить цвет фона главной страницы, чтобы увеличить вовлеченность пользователей</td>\n",
       "      <td>3</td>\n",
       "      <td>1</td>\n",
       "      <td>1</td>\n",
       "      <td>1</td>\n",
       "      <td>1.00</td>\n",
       "      <td>3.0</td>\n",
       "    </tr>\n",
       "  </tbody>\n",
       "</table>\n",
       "</div>"
      ],
      "text/plain": [
       "                                                                                            Hypothesis  \\\n",
       "0     Добавить форму подписки на все основные страницы, чтобы собрать базу клиентов для email-рассылок   \n",
       "1  Добавить блоки рекомендаций товаров на сайт интернет магазина, чтобы повысить конверсию и средни...   \n",
       "2   Добавить два новых канала привлечения трафика, что позволит привлекать на 30% больше пользователей   \n",
       "3  Показать на главной странице баннеры с актуальными акциями и распродажами, чтобы увеличить конве...   \n",
       "4                                              Запустить акцию, дающую скидку на товар в день рождения   \n",
       "5  Изменить структура категорий, что увеличит конверсию, т.к. пользователи быстрее найдут нужный товар   \n",
       "6                            Запустить собственную службу доставки, что сократит срок доставки заказов   \n",
       "7             Добавить страницу отзывов клиентов о магазине, что позволит увеличить количество заказов   \n",
       "8                     Изменить цвет фона главной страницы, чтобы увеличить вовлеченность пользователей   \n",
       "\n",
       "   Reach  Impact  Confidence  Efforts    ICE   RICE  \n",
       "0     10       7           8        5  11.20  112.0  \n",
       "1      8       3           7        3   7.00   56.0  \n",
       "2      3      10           8        6  13.33   40.0  \n",
       "3      5       3           8        3   8.00   40.0  \n",
       "4      1       9           9        5  16.20   16.2  \n",
       "5      8       3           3        8   1.12    9.0  \n",
       "6      2       5           4       10   2.00    4.0  \n",
       "7      3       2           2        3   1.33    4.0  \n",
       "8      3       1           1        1   1.00    3.0  "
      ]
     },
     "execution_count": 12,
     "metadata": {},
     "output_type": "execute_result"
    }
   ],
   "source": [
    "hypothesis['RICE'] = hypothesis['Reach'] * hypothesis['Impact'] * hypothesis['Confidence'] / hypothesis['Efforts']\n",
    "hypothesis.sort_values(by='RICE', ascending=False, inplace=True)\n",
    "hypothesis.reset_index(drop=True)"
   ]
  },
  {
   "cell_type": "markdown",
   "metadata": {},
   "source": [
    "hypothesis.iloc[0,0]"
   ]
  },
  {
   "cell_type": "markdown",
   "metadata": {},
   "source": [
    "После применения фреймворка RICE приоритет гипотез изменился, так как данный фреймворк подразумевает использование параметра Reach, отображающего на какое количество пользователей повлияет гипотеза. Использование данного параметра поможет охватить большее количество пользователей, так как введение формы подписки на все основные страницы будет отображено для каждого пользователя. При использовании параметра ICE мы можем охватить только тех пользователей, которые отмечают свой День рождения в даты, в которые будет тестироваться гипотеза. "
   ]
  },
  {
   "cell_type": "markdown",
   "metadata": {},
   "source": [
    "# Часть 2. Анализ A/B-теста"
   ]
  },
  {
   "cell_type": "markdown",
   "metadata": {},
   "source": [
    "<b>Задача 1<b/>\n",
    "    \n",
    "Постройте график кумулятивной выручки по группам. Сделайте выводы и предположения."
   ]
  },
  {
   "cell_type": "code",
   "execution_count": 13,
   "metadata": {},
   "outputs": [],
   "source": [
    "# visitors_orders = visitors.merge(orders, how='left')\n",
    "# visitors_orders.head(10)"
   ]
  },
  {
   "cell_type": "code",
   "execution_count": 14,
   "metadata": {
    "scrolled": true
   },
   "outputs": [],
   "source": [
    "# visitorsA = visitors_orders.query('group == \"A\"')\n",
    "# visitorsB = visitors_orders.query('group == \"B\"')"
   ]
  },
  {
   "cell_type": "code",
   "execution_count": 15,
   "metadata": {},
   "outputs": [],
   "source": [
    "visitorsA = orders.query('group ==\"A\"')['visitorId']\n",
    "visitorsB = orders.query('group ==\"B\"')['visitorId']"
   ]
  },
  {
   "cell_type": "code",
   "execution_count": 16,
   "metadata": {},
   "outputs": [
    {
     "name": "stdout",
     "output_type": "stream",
     "text": [
      "Количество заказов пользователей группы А: 557\n",
      "Количество заказов пользователей группы B: 640\n"
     ]
    }
   ],
   "source": [
    "print('Количество заказов пользователей группы А:', orders.query('group ==\"A\"').shape[0])\n",
    "print('Количество заказов пользователей группы B:', orders.query('group ==\"B\"').shape[0])"
   ]
  },
  {
   "cell_type": "markdown",
   "metadata": {},
   "source": [
    "Группа  В вышла больше, чем группа А, поэтому теперь нужно проверить, не пересекаются ли они, так как это может дать некорректный результат А/В-теста."
   ]
  },
  {
   "cell_type": "code",
   "execution_count": 17,
   "metadata": {},
   "outputs": [],
   "source": [
    "visitorsAB = orders.loc[orders['visitorId'].isin(visitorsA)& orders['visitorId'].isin(visitorsB),'visitorId'].unique()"
   ]
  },
  {
   "cell_type": "code",
   "execution_count": 20,
   "metadata": {},
   "outputs": [],
   "source": [
    "orders = orders.loc[~orders['visitorId'].isin(visitorsAB)]"
   ]
  },
  {
   "cell_type": "code",
   "execution_count": 21,
   "metadata": {},
   "outputs": [
    {
     "name": "stdout",
     "output_type": "stream",
     "text": [
      "Количество заказов пользователей группы А:  468\n",
      "Количество заказов пользователей группы В:  548\n"
     ]
    }
   ],
   "source": [
    "print ('Количество заказов пользователей группы А: ', orders.query('group == \"A\"').shape[0])\n",
    "print ('Количество заказов пользователей группы В: ',orders.query('group == \"B\"').shape[0])"
   ]
  },
  {
   "cell_type": "code",
   "execution_count": 23,
   "metadata": {},
   "outputs": [],
   "source": [
    "visitors_orders_new = orders.merge(visitors, how='left')"
   ]
  },
  {
   "cell_type": "code",
   "execution_count": 24,
   "metadata": {},
   "outputs": [],
   "source": [
    "visitorsA = visitors_orders_new.query('group == \"A\"')\n",
    "visitorsB = visitors_orders_new.query('group == \"B\"')"
   ]
  },
  {
   "cell_type": "markdown",
   "metadata": {},
   "source": [
    "После удаления совпадающих пользователей выборки уменьшились, но группа B все равно осталась больше группы А. Так как на данном этапе с этим ничего не возможно сделать, юудет учитывать это в дальнейшем решении."
   ]
  },
  {
   "cell_type": "markdown",
   "metadata": {},
   "source": ""
  },
  {
   "cell_type": "code",
   "execution_count": 26,
   "metadata": {
    "scrolled": true
   },
   "outputs": [
    {
     "data": {
      "text/html": [
       "<div>\n",
       "<style scoped>\n",
       "    .dataframe tbody tr th:only-of-type {\n",
       "        vertical-align: middle;\n",
       "    }\n",
       "\n",
       "    .dataframe tbody tr th {\n",
       "        vertical-align: top;\n",
       "    }\n",
       "\n",
       "    .dataframe thead th {\n",
       "        text-align: right;\n",
       "    }\n",
       "</style>\n",
       "<table border=\"1\" class=\"dataframe\">\n",
       "  <thead>\n",
       "    <tr style=\"text-align: right;\">\n",
       "      <th></th>\n",
       "      <th>date</th>\n",
       "      <th>group</th>\n",
       "      <th>visitors</th>\n",
       "      <th>revenue</th>\n",
       "      <th>transactionId</th>\n",
       "    </tr>\n",
       "  </thead>\n",
       "  <tbody>\n",
       "    <tr>\n",
       "      <th>0</th>\n",
       "      <td>2019-08-01</td>\n",
       "      <td>A</td>\n",
       "      <td>16537</td>\n",
       "      <td>142779</td>\n",
       "      <td>23</td>\n",
       "    </tr>\n",
       "    <tr>\n",
       "      <th>1</th>\n",
       "      <td>2019-08-02</td>\n",
       "      <td>A</td>\n",
       "      <td>11761</td>\n",
       "      <td>91602</td>\n",
       "      <td>19</td>\n",
       "    </tr>\n",
       "    <tr>\n",
       "      <th>2</th>\n",
       "      <td>2019-08-03</td>\n",
       "      <td>A</td>\n",
       "      <td>12168</td>\n",
       "      <td>112473</td>\n",
       "      <td>24</td>\n",
       "    </tr>\n",
       "    <tr>\n",
       "      <th>3</th>\n",
       "      <td>2019-08-04</td>\n",
       "      <td>A</td>\n",
       "      <td>7887</td>\n",
       "      <td>41176</td>\n",
       "      <td>11</td>\n",
       "    </tr>\n",
       "    <tr>\n",
       "      <th>4</th>\n",
       "      <td>2019-08-05</td>\n",
       "      <td>A</td>\n",
       "      <td>16632</td>\n",
       "      <td>86383</td>\n",
       "      <td>22</td>\n",
       "    </tr>\n",
       "  </tbody>\n",
       "</table>\n",
       "</div>"
      ],
      "text/plain": [
       "         date group  visitors  revenue  transactionId\n",
       "0  2019-08-01     A     16537   142779             23\n",
       "1  2019-08-02     A     11761    91602             19\n",
       "2  2019-08-03     A     12168   112473             24\n",
       "3  2019-08-04     A      7887    41176             11\n",
       "4  2019-08-05     A     16632    86383             22"
      ]
     },
     "execution_count": 26,
     "metadata": {},
     "output_type": "execute_result"
    }
   ],
   "source": [
    "grouped_visitorsA = visitorsA.groupby(['date', 'group']).agg({'visitors': 'sum','revenue': 'sum', 'transactionId': 'count'}).reset_index()\n",
    "grouped_visitorsA.head(5)"
   ]
  },
  {
   "cell_type": "code",
   "execution_count": 27,
   "metadata": {},
   "outputs": [
    {
     "data": {
      "text/html": [
       "<div>\n",
       "<style scoped>\n",
       "    .dataframe tbody tr th:only-of-type {\n",
       "        vertical-align: middle;\n",
       "    }\n",
       "\n",
       "    .dataframe tbody tr th {\n",
       "        vertical-align: top;\n",
       "    }\n",
       "\n",
       "    .dataframe thead th {\n",
       "        text-align: right;\n",
       "    }\n",
       "</style>\n",
       "<table border=\"1\" class=\"dataframe\">\n",
       "  <thead>\n",
       "    <tr style=\"text-align: right;\">\n",
       "      <th></th>\n",
       "      <th>date</th>\n",
       "      <th>group</th>\n",
       "      <th>visitors</th>\n",
       "      <th>revenue</th>\n",
       "      <th>transactionId</th>\n",
       "      <th>cumulative_revenue</th>\n",
       "    </tr>\n",
       "  </thead>\n",
       "  <tbody>\n",
       "    <tr>\n",
       "      <th>0</th>\n",
       "      <td>2019-08-01</td>\n",
       "      <td>A</td>\n",
       "      <td>16537</td>\n",
       "      <td>142779</td>\n",
       "      <td>23</td>\n",
       "      <td>142779</td>\n",
       "    </tr>\n",
       "    <tr>\n",
       "      <th>1</th>\n",
       "      <td>2019-08-02</td>\n",
       "      <td>A</td>\n",
       "      <td>11761</td>\n",
       "      <td>91602</td>\n",
       "      <td>19</td>\n",
       "      <td>234381</td>\n",
       "    </tr>\n",
       "    <tr>\n",
       "      <th>2</th>\n",
       "      <td>2019-08-03</td>\n",
       "      <td>A</td>\n",
       "      <td>12168</td>\n",
       "      <td>112473</td>\n",
       "      <td>24</td>\n",
       "      <td>346854</td>\n",
       "    </tr>\n",
       "    <tr>\n",
       "      <th>3</th>\n",
       "      <td>2019-08-04</td>\n",
       "      <td>A</td>\n",
       "      <td>7887</td>\n",
       "      <td>41176</td>\n",
       "      <td>11</td>\n",
       "      <td>388030</td>\n",
       "    </tr>\n",
       "    <tr>\n",
       "      <th>4</th>\n",
       "      <td>2019-08-05</td>\n",
       "      <td>A</td>\n",
       "      <td>16632</td>\n",
       "      <td>86383</td>\n",
       "      <td>22</td>\n",
       "      <td>474413</td>\n",
       "    </tr>\n",
       "  </tbody>\n",
       "</table>\n",
       "</div>"
      ],
      "text/plain": [
       "         date group  visitors  revenue  transactionId  cumulative_revenue\n",
       "0  2019-08-01     A     16537   142779             23              142779\n",
       "1  2019-08-02     A     11761    91602             19              234381\n",
       "2  2019-08-03     A     12168   112473             24              346854\n",
       "3  2019-08-04     A      7887    41176             11              388030\n",
       "4  2019-08-05     A     16632    86383             22              474413"
      ]
     },
     "execution_count": 27,
     "metadata": {},
     "output_type": "execute_result"
    }
   ],
   "source": [
    "grouped_visitorsA = grouped_visitorsA.copy()\n",
    "grouped_visitorsA['cumulative_revenue'] = grouped_visitorsA['revenue'].cumsum()\n",
    "grouped_visitorsA.head(5)"
   ]
  },
  {
   "cell_type": "code",
   "execution_count": 28,
   "metadata": {},
   "outputs": [
    {
     "data": {
      "text/html": [
       "<div>\n",
       "<style scoped>\n",
       "    .dataframe tbody tr th:only-of-type {\n",
       "        vertical-align: middle;\n",
       "    }\n",
       "\n",
       "    .dataframe tbody tr th {\n",
       "        vertical-align: top;\n",
       "    }\n",
       "\n",
       "    .dataframe thead th {\n",
       "        text-align: right;\n",
       "    }\n",
       "</style>\n",
       "<table border=\"1\" class=\"dataframe\">\n",
       "  <thead>\n",
       "    <tr style=\"text-align: right;\">\n",
       "      <th></th>\n",
       "      <th>date</th>\n",
       "      <th>group</th>\n",
       "      <th>visitors</th>\n",
       "      <th>revenue</th>\n",
       "      <th>transactionId</th>\n",
       "    </tr>\n",
       "  </thead>\n",
       "  <tbody>\n",
       "    <tr>\n",
       "      <th>0</th>\n",
       "      <td>2019-08-01</td>\n",
       "      <td>B</td>\n",
       "      <td>12121</td>\n",
       "      <td>59758</td>\n",
       "      <td>17</td>\n",
       "    </tr>\n",
       "    <tr>\n",
       "      <th>1</th>\n",
       "      <td>2019-08-02</td>\n",
       "      <td>B</td>\n",
       "      <td>13363</td>\n",
       "      <td>162043</td>\n",
       "      <td>23</td>\n",
       "    </tr>\n",
       "    <tr>\n",
       "      <th>2</th>\n",
       "      <td>2019-08-03</td>\n",
       "      <td>B</td>\n",
       "      <td>7126</td>\n",
       "      <td>67049</td>\n",
       "      <td>14</td>\n",
       "    </tr>\n",
       "    <tr>\n",
       "      <th>3</th>\n",
       "      <td>2019-08-04</td>\n",
       "      <td>B</td>\n",
       "      <td>10780</td>\n",
       "      <td>96890</td>\n",
       "      <td>14</td>\n",
       "    </tr>\n",
       "    <tr>\n",
       "      <th>4</th>\n",
       "      <td>2019-08-05</td>\n",
       "      <td>B</td>\n",
       "      <td>14847</td>\n",
       "      <td>89908</td>\n",
       "      <td>21</td>\n",
       "    </tr>\n",
       "  </tbody>\n",
       "</table>\n",
       "</div>"
      ],
      "text/plain": [
       "         date group  visitors  revenue  transactionId\n",
       "0  2019-08-01     B     12121    59758             17\n",
       "1  2019-08-02     B     13363   162043             23\n",
       "2  2019-08-03     B      7126    67049             14\n",
       "3  2019-08-04     B     10780    96890             14\n",
       "4  2019-08-05     B     14847    89908             21"
      ]
     },
     "execution_count": 28,
     "metadata": {},
     "output_type": "execute_result"
    }
   ],
   "source": [
    "grouped_visitorsB = visitorsB.groupby(['date', 'group']).agg({'visitors': 'sum','revenue': 'sum', 'transactionId': 'count'}).reset_index()\n",
    "grouped_visitorsB.head(5)"
   ]
  },
  {
   "cell_type": "code",
   "execution_count": 29,
   "metadata": {},
   "outputs": [
    {
     "data": {
      "text/html": [
       "<div>\n",
       "<style scoped>\n",
       "    .dataframe tbody tr th:only-of-type {\n",
       "        vertical-align: middle;\n",
       "    }\n",
       "\n",
       "    .dataframe tbody tr th {\n",
       "        vertical-align: top;\n",
       "    }\n",
       "\n",
       "    .dataframe thead th {\n",
       "        text-align: right;\n",
       "    }\n",
       "</style>\n",
       "<table border=\"1\" class=\"dataframe\">\n",
       "  <thead>\n",
       "    <tr style=\"text-align: right;\">\n",
       "      <th></th>\n",
       "      <th>date</th>\n",
       "      <th>group</th>\n",
       "      <th>visitors</th>\n",
       "      <th>revenue</th>\n",
       "      <th>transactionId</th>\n",
       "      <th>cumulative_revenue</th>\n",
       "    </tr>\n",
       "  </thead>\n",
       "  <tbody>\n",
       "    <tr>\n",
       "      <th>0</th>\n",
       "      <td>2019-08-01</td>\n",
       "      <td>B</td>\n",
       "      <td>12121</td>\n",
       "      <td>59758</td>\n",
       "      <td>17</td>\n",
       "      <td>59758</td>\n",
       "    </tr>\n",
       "    <tr>\n",
       "      <th>1</th>\n",
       "      <td>2019-08-02</td>\n",
       "      <td>B</td>\n",
       "      <td>13363</td>\n",
       "      <td>162043</td>\n",
       "      <td>23</td>\n",
       "      <td>221801</td>\n",
       "    </tr>\n",
       "    <tr>\n",
       "      <th>2</th>\n",
       "      <td>2019-08-03</td>\n",
       "      <td>B</td>\n",
       "      <td>7126</td>\n",
       "      <td>67049</td>\n",
       "      <td>14</td>\n",
       "      <td>288850</td>\n",
       "    </tr>\n",
       "    <tr>\n",
       "      <th>3</th>\n",
       "      <td>2019-08-04</td>\n",
       "      <td>B</td>\n",
       "      <td>10780</td>\n",
       "      <td>96890</td>\n",
       "      <td>14</td>\n",
       "      <td>385740</td>\n",
       "    </tr>\n",
       "    <tr>\n",
       "      <th>4</th>\n",
       "      <td>2019-08-05</td>\n",
       "      <td>B</td>\n",
       "      <td>14847</td>\n",
       "      <td>89908</td>\n",
       "      <td>21</td>\n",
       "      <td>475648</td>\n",
       "    </tr>\n",
       "  </tbody>\n",
       "</table>\n",
       "</div>"
      ],
      "text/plain": [
       "         date group  visitors  revenue  transactionId  cumulative_revenue\n",
       "0  2019-08-01     B     12121    59758             17               59758\n",
       "1  2019-08-02     B     13363   162043             23              221801\n",
       "2  2019-08-03     B      7126    67049             14              288850\n",
       "3  2019-08-04     B     10780    96890             14              385740\n",
       "4  2019-08-05     B     14847    89908             21              475648"
      ]
     },
     "execution_count": 29,
     "metadata": {},
     "output_type": "execute_result"
    }
   ],
   "source": [
    "grouped_visitorsB = grouped_visitorsB.copy()\n",
    "grouped_visitorsB['cumulative_revenue'] = grouped_visitorsB['revenue'].cumsum()\n",
    "grouped_visitorsB.head(5)"
   ]
  },
  {
   "cell_type": "code",
   "execution_count": 30,
   "metadata": {},
   "outputs": [],
   "source": [
    "grouped_visitorsA['orders'] = grouped_visitorsA['transactionId'].cumsum()\n",
    "grouped_visitorsB['orders'] = grouped_visitorsB['transactionId'].cumsum()\n",
    "# grouped_visitorsA = grouped_visitorsA.drop(columns=['transactionId'], axis=1)\n",
    "# grouped_visitorsB = grouped_visitorsB.drop(columns=['transactionId'], axis=1)"
   ]
  },
  {
   "cell_type": "code",
   "execution_count": 31,
   "metadata": {},
   "outputs": [
    {
     "data": {
      "image/png": "[encoded data removed]",
      "text/plain": [
       "<Figure size 1296x720 with 1 Axes>"
      ]
     },
     "metadata": {
      "needs_background": "light"
     },
     "output_type": "display_data"
    }
   ],
   "source": [
    "plt.figure(figsize=(18, 10))\n",
    "plt.plot(grouped_visitorsA['date'], grouped_visitorsA['cumulative_revenue'], label='A')\n",
    "plt.plot(grouped_visitorsB['date'], grouped_visitorsB['cumulative_revenue'], label='B')\n",
    "plt.xticks(rotation=45)\n",
    "plt.title('Кумулятивная выручка по группам')\n",
    "plt.xlabel('Дата заказа')\n",
    "plt.ylabel('Стоимость заказа')\n",
    "plt.legend();"
   ]
  },
  {
   "cell_type": "markdown",
   "metadata": {},
   "source": [
    "Выручка в группе А растет постепенно, в отличие от группы В, в которой наблюдается резкий скачок после 17.08. Это может быть обусловлено как увеличением количества заказов, так и увеличением их стоимости. "
   ]
  },
  {
   "cell_type": "markdown",
   "metadata": {},
   "source": ""
  },
  {
   "cell_type": "markdown",
   "metadata": {},
   "source": [
    "<b>Задача 2</b>\n",
    "\n",
    "<b>Постройте график кумулятивного среднего чека по группам. Сделайте выводы и предположения</b>"
   ]
  },
  {
   "cell_type": "code",
   "execution_count": 32,
   "metadata": {},
   "outputs": [],
   "source": [
    "grouped_visitorsA['mean_check'] = grouped_visitorsA['cumulative_revenue'] / grouped_visitorsA['orders']\n",
    "grouped_visitorsB['mean_check'] = grouped_visitorsB['cumulative_revenue'] / grouped_visitorsB['orders']"
   ]
  },
  {
   "cell_type": "code",
   "execution_count": 33,
   "metadata": {},
   "outputs": [
    {
     "data": {
      "image/png": "[encoded data removed]",
      "text/plain": [
       "<Figure size 1296x720 with 1 Axes>"
      ]
     },
     "metadata": {
      "needs_background": "light"
     },
     "output_type": "display_data"
    }
   ],
   "source": [
    "plt.figure(figsize=(18, 10))\n",
    "plt.plot(grouped_visitorsA['date'],grouped_visitorsA['mean_check'], label='A')\n",
    "plt.plot(grouped_visitorsB['date'], grouped_visitorsB['mean_check'], label='B')\n",
    "plt.xticks(rotation=45)\n",
    "plt.title('Кумулятивный средний чек по группам')\n",
    "plt.xlabel('Дата заказа')\n",
    "plt.ylabel('Средний чек')\n",
    "plt.legend();"
   ]
  },
  {
   "cell_type": "markdown",
   "metadata": {},
   "source": [
    "Группа В приносит больше дохода, чем группа А, к 17 числу они выравниваются, но 19 числа снова резкий скачок в группе В, после которой средний чек снова начинает снижаться. Вероятно, все же, дело в крупной покупке."
   ]
  },
  {
   "cell_type": "markdown",
   "metadata": {},
   "source": [
    "<b>Задача 3</b>\n",
    "\n",
    "<b>Постройте график относительного изменения кумулятивного среднего чека группы B к группе A. Сделайте выводы и предположения</b>"
   ]
  },
  {
   "cell_type": "code",
   "execution_count": 34,
   "metadata": {},
   "outputs": [],
   "source": [
    "grouped_visitorsB['diff'] = grouped_visitorsB['mean_check'] / grouped_visitorsA['mean_check'] - 1"
   ]
  },
  {
   "cell_type": "code",
   "execution_count": 35,
   "metadata": {},
   "outputs": [
    {
     "data": {
      "image/png": "[encoded data removed]",
      "text/plain": [
       "<Figure size 1296x720 with 1 Axes>"
      ]
     },
     "metadata": {
      "needs_background": "light"
     },
     "output_type": "display_data"
    }
   ],
   "source": [
    "plt.figure(figsize=(18, 10))\n",
    "plt.plot(grouped_visitorsB['date'],grouped_visitorsB['diff'])\n",
    "plt.xticks(rotation=45)\n",
    "plt.title('Изменение кумулятивного среднего чека группы В относительно группы А')\n",
    "plt.xlabel('Дата заказа')\n",
    "plt.axhline(y=0, color='grey', linestyle='-.');"
   ]
  },
  {
   "cell_type": "markdown",
   "metadata": {},
   "source": [
    "После данного графика можем увидеть что в данных имеется два скачка в среднем чеке группы В: один после 3 числа, второй 18-19 числа. Возможно, крупные покупки совершались еще и в начале месяца, либо же мы имеем дело с выбросами."
   ]
  },
  {
   "cell_type": "markdown",
   "metadata": {},
   "source": [
    "<b>Задача 4</b>\n",
    "\n",
    "<b>Постройте график кумулятивного среднего количества заказов на посетителя по группам. Сделайте выводы и предположения</b>"
   ]
  },
  {
   "cell_type": "code",
   "execution_count": 40,
   "metadata": {},
   "outputs": [],
   "source": [
    "dates_groups = orders[['date','group']].drop_duplicates()"
   ]
  },
  {
   "cell_type": "code",
   "execution_count": 41,
   "metadata": {},
   "outputs": [
    {
     "data": {
      "text/html": [
       "<div>\n",
       "<style scoped>\n",
       "    .dataframe tbody tr th:only-of-type {\n",
       "        vertical-align: middle;\n",
       "    }\n",
       "\n",
       "    .dataframe tbody tr th {\n",
       "        vertical-align: top;\n",
       "    }\n",
       "\n",
       "    .dataframe thead th {\n",
       "        text-align: right;\n",
       "    }\n",
       "</style>\n",
       "<table border=\"1\" class=\"dataframe\">\n",
       "  <thead>\n",
       "    <tr style=\"text-align: right;\">\n",
       "      <th></th>\n",
       "      <th>transactionId</th>\n",
       "      <th>visitorId</th>\n",
       "      <th>date</th>\n",
       "      <th>revenue</th>\n",
       "      <th>group</th>\n",
       "    </tr>\n",
       "  </thead>\n",
       "  <tbody>\n",
       "    <tr>\n",
       "      <th>0</th>\n",
       "      <td>3667963787</td>\n",
       "      <td>3312258926</td>\n",
       "      <td>2019-08-15</td>\n",
       "      <td>1650</td>\n",
       "      <td>B</td>\n",
       "    </tr>\n",
       "    <tr>\n",
       "      <th>1</th>\n",
       "      <td>2804400009</td>\n",
       "      <td>3642806036</td>\n",
       "      <td>2019-08-15</td>\n",
       "      <td>730</td>\n",
       "      <td>B</td>\n",
       "    </tr>\n",
       "    <tr>\n",
       "      <th>3</th>\n",
       "      <td>3797467345</td>\n",
       "      <td>1196621759</td>\n",
       "      <td>2019-08-15</td>\n",
       "      <td>9759</td>\n",
       "      <td>B</td>\n",
       "    </tr>\n",
       "    <tr>\n",
       "      <th>4</th>\n",
       "      <td>2282983706</td>\n",
       "      <td>2322279887</td>\n",
       "      <td>2019-08-15</td>\n",
       "      <td>2308</td>\n",
       "      <td>B</td>\n",
       "    </tr>\n",
       "    <tr>\n",
       "      <th>5</th>\n",
       "      <td>182168103</td>\n",
       "      <td>935554773</td>\n",
       "      <td>2019-08-15</td>\n",
       "      <td>2210</td>\n",
       "      <td>B</td>\n",
       "    </tr>\n",
       "  </tbody>\n",
       "</table>\n",
       "</div>"
      ],
      "text/plain": [
       "   transactionId   visitorId        date  revenue group\n",
       "0     3667963787  3312258926  2019-08-15     1650     B\n",
       "1     2804400009  3642806036  2019-08-15      730     B\n",
       "3     3797467345  1196621759  2019-08-15     9759     B\n",
       "4     2282983706  2322279887  2019-08-15     2308     B\n",
       "5      182168103   935554773  2019-08-15     2210     B"
      ]
     },
     "execution_count": 41,
     "metadata": {},
     "output_type": "execute_result"
    }
   ],
   "source": [
    "orders_new = (dates_groups\n",
    "                     .apply(lambda x: orders[np.logical_and(orders['date'] <= x['date']\n",
    "                                                            , orders['group'] ==  x['group'])]\n",
    "                    .agg({'date':'max', 'group':'max', 'revenue':'sum', 'transactionId':'nunique'}), axis=1) \n",
    "                    .sort_values(by=['date','group']))\n",
    "\n",
    "\n",
    "orders.head(5)"
   ]
  },
  {
   "cell_type": "code",
   "execution_count": 42,
   "metadata": {},
   "outputs": [
    {
     "data": {
      "text/html": [
       "<div>\n",
       "<style scoped>\n",
       "    .dataframe tbody tr th:only-of-type {\n",
       "        vertical-align: middle;\n",
       "    }\n",
       "\n",
       "    .dataframe tbody tr th {\n",
       "        vertical-align: top;\n",
       "    }\n",
       "\n",
       "    .dataframe thead th {\n",
       "        text-align: right;\n",
       "    }\n",
       "</style>\n",
       "<table border=\"1\" class=\"dataframe\">\n",
       "  <thead>\n",
       "    <tr style=\"text-align: right;\">\n",
       "      <th></th>\n",
       "      <th>date</th>\n",
       "      <th>group</th>\n",
       "      <th>visitors</th>\n",
       "    </tr>\n",
       "  </thead>\n",
       "  <tbody>\n",
       "    <tr>\n",
       "      <th>55</th>\n",
       "      <td>2019-08-01</td>\n",
       "      <td>A</td>\n",
       "      <td>719</td>\n",
       "    </tr>\n",
       "    <tr>\n",
       "      <th>66</th>\n",
       "      <td>2019-08-01</td>\n",
       "      <td>B</td>\n",
       "      <td>713</td>\n",
       "    </tr>\n",
       "    <tr>\n",
       "      <th>175</th>\n",
       "      <td>2019-08-02</td>\n",
       "      <td>A</td>\n",
       "      <td>1338</td>\n",
       "    </tr>\n",
       "    <tr>\n",
       "      <th>173</th>\n",
       "      <td>2019-08-02</td>\n",
       "      <td>B</td>\n",
       "      <td>1294</td>\n",
       "    </tr>\n",
       "    <tr>\n",
       "      <th>291</th>\n",
       "      <td>2019-08-03</td>\n",
       "      <td>A</td>\n",
       "      <td>1845</td>\n",
       "    </tr>\n",
       "  </tbody>\n",
       "</table>\n",
       "</div>"
      ],
      "text/plain": [
       "           date group  visitors\n",
       "55   2019-08-01     A       719\n",
       "66   2019-08-01     B       713\n",
       "175  2019-08-02     A      1338\n",
       "173  2019-08-02     B      1294\n",
       "291  2019-08-03     A      1845"
      ]
     },
     "execution_count": 42,
     "metadata": {},
     "output_type": "execute_result"
    }
   ],
   "source": [
    "visitors_new = (dates_groups\n",
    "                     .apply(lambda x: visitors[np.logical_and(visitors['date'] <= x['date']\n",
    "                                                            , visitors['group'] ==  x['group'])]\n",
    "                    .agg({'date':'max', 'group':'max', 'visitors':'sum'}), axis=1) \n",
    "                    .sort_values(by=['date','group']))\n",
    "visitors_new.head(5)"
   ]
  },
  {
   "cell_type": "code",
   "execution_count": 43,
   "metadata": {},
   "outputs": [
    {
     "data": {
      "text/html": [
       "<div>\n",
       "<style scoped>\n",
       "    .dataframe tbody tr th:only-of-type {\n",
       "        vertical-align: middle;\n",
       "    }\n",
       "\n",
       "    .dataframe tbody tr th {\n",
       "        vertical-align: top;\n",
       "    }\n",
       "\n",
       "    .dataframe thead th {\n",
       "        text-align: right;\n",
       "    }\n",
       "</style>\n",
       "<table border=\"1\" class=\"dataframe\">\n",
       "  <thead>\n",
       "    <tr style=\"text-align: right;\">\n",
       "      <th></th>\n",
       "      <th>date</th>\n",
       "      <th>group</th>\n",
       "      <th>revenue</th>\n",
       "      <th>transactionId</th>\n",
       "      <th>visitors</th>\n",
       "    </tr>\n",
       "  </thead>\n",
       "  <tbody>\n",
       "    <tr>\n",
       "      <th>0</th>\n",
       "      <td>2019-08-01</td>\n",
       "      <td>A</td>\n",
       "      <td>142779</td>\n",
       "      <td>23</td>\n",
       "      <td>719</td>\n",
       "    </tr>\n",
       "    <tr>\n",
       "      <th>1</th>\n",
       "      <td>2019-08-01</td>\n",
       "      <td>B</td>\n",
       "      <td>59758</td>\n",
       "      <td>17</td>\n",
       "      <td>713</td>\n",
       "    </tr>\n",
       "    <tr>\n",
       "      <th>2</th>\n",
       "      <td>2019-08-02</td>\n",
       "      <td>A</td>\n",
       "      <td>234381</td>\n",
       "      <td>42</td>\n",
       "      <td>1338</td>\n",
       "    </tr>\n",
       "    <tr>\n",
       "      <th>3</th>\n",
       "      <td>2019-08-02</td>\n",
       "      <td>B</td>\n",
       "      <td>221801</td>\n",
       "      <td>40</td>\n",
       "      <td>1294</td>\n",
       "    </tr>\n",
       "    <tr>\n",
       "      <th>4</th>\n",
       "      <td>2019-08-03</td>\n",
       "      <td>A</td>\n",
       "      <td>346854</td>\n",
       "      <td>66</td>\n",
       "      <td>1845</td>\n",
       "    </tr>\n",
       "  </tbody>\n",
       "</table>\n",
       "</div>"
      ],
      "text/plain": [
       "         date group  revenue  transactionId  visitors\n",
       "0  2019-08-01     A   142779             23       719\n",
       "1  2019-08-01     B    59758             17       713\n",
       "2  2019-08-02     A   234381             42      1338\n",
       "3  2019-08-02     B   221801             40      1294\n",
       "4  2019-08-03     A   346854             66      1845"
      ]
     },
     "execution_count": 43,
     "metadata": {},
     "output_type": "execute_result"
    }
   ],
   "source": [
    "cumulative_orders_visitors = orders_new.merge(visitors_new, on=['date','group']) \n",
    "cumulative_orders_visitors.head(5)"
   ]
  },
  {
   "cell_type": "code",
   "execution_count": 44,
   "metadata": {},
   "outputs": [],
   "source": [
    "orders_a = cumulative_orders_visitors.loc[cumulative_orders_visitors['group'] == 'A']\n",
    "orders_b = cumulative_orders_visitors.loc[cumulative_orders_visitors['group'] == 'B']"
   ]
  },
  {
   "cell_type": "code",
   "execution_count": 45,
   "metadata": {},
   "outputs": [
    {
     "data": {
      "image/png": "[encoded data removed]",
      "text/plain": [
       "<Figure size 1296x720 with 1 Axes>"
      ]
     },
     "metadata": {
      "needs_background": "light"
     },
     "output_type": "display_data"
    }
   ],
   "source": [
    "plt.figure(figsize=(18, 10))\n",
    "plt.plot(orders_a['date'], orders_a['transactionId'] / orders_a['visitors'], label='A')\n",
    "plt.plot(orders_b['date'], orders_b['transactionId'] / orders_b['visitors'], label='B')\n",
    "plt.xticks(rotation=45)\n",
    "plt.title('Кумулятивная конверсия по группам')\n",
    "plt.legend();"
   ]
  },
  {
   "cell_type": "markdown",
   "metadata": {},
   "source": [
    "В начале месяца группы пересекаются, но дальше до конца теста группа В лидирует, хоть и идут они параллельно друг другу. "
   ]
  },
  {
   "cell_type": "markdown",
   "metadata": {},
   "source": [
    "<b>Задача 5</b>\n",
    "\n",
    "<b>Постройте график относительного изменения кумулятивного среднего количества заказов на посетителя группы B к группе A. Сделайте выводы и предположения</b>"
   ]
  },
  {
   "cell_type": "code",
   "execution_count": 47,
   "metadata": {},
   "outputs": [
    {
     "data": {
      "text/html": [
       "<div>\n",
       "<style scoped>\n",
       "    .dataframe tbody tr th:only-of-type {\n",
       "        vertical-align: middle;\n",
       "    }\n",
       "\n",
       "    .dataframe tbody tr th {\n",
       "        vertical-align: top;\n",
       "    }\n",
       "\n",
       "    .dataframe thead th {\n",
       "        text-align: right;\n",
       "    }\n",
       "</style>\n",
       "<table border=\"1\" class=\"dataframe\">\n",
       "  <thead>\n",
       "    <tr style=\"text-align: right;\">\n",
       "      <th></th>\n",
       "      <th>date</th>\n",
       "      <th>group_a</th>\n",
       "      <th>revenue_a</th>\n",
       "      <th>transactionId_a</th>\n",
       "      <th>visitors_a</th>\n",
       "      <th>group_b</th>\n",
       "      <th>revenue_b</th>\n",
       "      <th>transactionId_b</th>\n",
       "      <th>visitors_b</th>\n",
       "    </tr>\n",
       "  </thead>\n",
       "  <tbody>\n",
       "    <tr>\n",
       "      <th>0</th>\n",
       "      <td>2019-08-01</td>\n",
       "      <td>A</td>\n",
       "      <td>142779</td>\n",
       "      <td>23</td>\n",
       "      <td>719</td>\n",
       "      <td>B</td>\n",
       "      <td>59758</td>\n",
       "      <td>17</td>\n",
       "      <td>713</td>\n",
       "    </tr>\n",
       "    <tr>\n",
       "      <th>1</th>\n",
       "      <td>2019-08-02</td>\n",
       "      <td>A</td>\n",
       "      <td>234381</td>\n",
       "      <td>42</td>\n",
       "      <td>1338</td>\n",
       "      <td>B</td>\n",
       "      <td>221801</td>\n",
       "      <td>40</td>\n",
       "      <td>1294</td>\n",
       "    </tr>\n",
       "    <tr>\n",
       "      <th>2</th>\n",
       "      <td>2019-08-03</td>\n",
       "      <td>A</td>\n",
       "      <td>346854</td>\n",
       "      <td>66</td>\n",
       "      <td>1845</td>\n",
       "      <td>B</td>\n",
       "      <td>288850</td>\n",
       "      <td>54</td>\n",
       "      <td>1803</td>\n",
       "    </tr>\n",
       "    <tr>\n",
       "      <th>3</th>\n",
       "      <td>2019-08-04</td>\n",
       "      <td>A</td>\n",
       "      <td>388030</td>\n",
       "      <td>77</td>\n",
       "      <td>2562</td>\n",
       "      <td>B</td>\n",
       "      <td>385740</td>\n",
       "      <td>68</td>\n",
       "      <td>2573</td>\n",
       "    </tr>\n",
       "    <tr>\n",
       "      <th>4</th>\n",
       "      <td>2019-08-05</td>\n",
       "      <td>A</td>\n",
       "      <td>474413</td>\n",
       "      <td>99</td>\n",
       "      <td>3318</td>\n",
       "      <td>B</td>\n",
       "      <td>475648</td>\n",
       "      <td>89</td>\n",
       "      <td>3280</td>\n",
       "    </tr>\n",
       "  </tbody>\n",
       "</table>\n",
       "</div>"
      ],
      "text/plain": [
       "         date group_a  revenue_a  transactionId_a  visitors_a group_b  \\\n",
       "0  2019-08-01       A     142779               23         719       B   \n",
       "1  2019-08-02       A     234381               42        1338       B   \n",
       "2  2019-08-03       A     346854               66        1845       B   \n",
       "3  2019-08-04       A     388030               77        2562       B   \n",
       "4  2019-08-05       A     474413               99        3318       B   \n",
       "\n",
       "   revenue_b  transactionId_b  visitors_b  \n",
       "0      59758               17         713  \n",
       "1     221801               40        1294  \n",
       "2     288850               54        1803  \n",
       "3     385740               68        2573  \n",
       "4     475648               89        3280  "
      ]
     },
     "execution_count": 47,
     "metadata": {},
     "output_type": "execute_result"
    }
   ],
   "source": [
    "merged_orders = orders_a.merge(orders_b, on=['date'],suffixes=('_a', '_b'))\n",
    "merged_orders.head(5)"
   ]
  },
  {
   "cell_type": "code",
   "execution_count": 48,
   "metadata": {},
   "outputs": [],
   "source": [
    "merged_orders['mean_orders_a'] = merged_orders['transactionId_a'] / merged_orders['visitors_a']\n",
    "merged_orders['mean_orders_b'] = merged_orders['transactionId_b'] / merged_orders['visitors_b']"
   ]
  },
  {
   "cell_type": "code",
   "execution_count": 49,
   "metadata": {},
   "outputs": [
    {
     "data": {
      "image/png": "[encoded data removed]",
      "text/plain": [
       "<Figure size 1296x720 with 1 Axes>"
      ]
     },
     "metadata": {
      "needs_background": "light"
     },
     "output_type": "display_data"
    }
   ],
   "source": [
    "plt.figure(figsize=(18, 10))\n",
    "plt.plot(merged_orders['date'], merged_orders['mean_orders_b'] / merged_orders['mean_orders_a'] -1)\n",
    "plt.xticks(rotation=45)\n",
    "plt.title('График относительного изменения кумулятивной конверсии групп')\n",
    "\n",
    "plt.axhline(y=0, color='grey', linestyle='-.')\n",
    "plt.axhline(y=0.15, color='black', linestyle='--');"
   ]
  },
  {
   "cell_type": "markdown",
   "metadata": {},
   "source": [
    "На графике видно, что группа В опережает группу А. Возможно, в группу попали шопоголики. "
   ]
  },
  {
   "cell_type": "markdown",
   "metadata": {},
   "source": [
    "<b>Задача 6</b>\n",
    "\n",
    "<b>Постройте точечный график количества заказов по пользователям. Сделайте выводы и предположения</b>"
   ]
  },
  {
   "cell_type": "code",
   "execution_count": 50,
   "metadata": {},
   "outputs": [
    {
     "data": {
      "text/html": [
       "<div>\n",
       "<style scoped>\n",
       "    .dataframe tbody tr th:only-of-type {\n",
       "        vertical-align: middle;\n",
       "    }\n",
       "\n",
       "    .dataframe tbody tr th {\n",
       "        vertical-align: top;\n",
       "    }\n",
       "\n",
       "    .dataframe thead th {\n",
       "        text-align: right;\n",
       "    }\n",
       "</style>\n",
       "<table border=\"1\" class=\"dataframe\">\n",
       "  <thead>\n",
       "    <tr style=\"text-align: right;\">\n",
       "      <th></th>\n",
       "      <th>visitors</th>\n",
       "      <th>orders</th>\n",
       "    </tr>\n",
       "  </thead>\n",
       "  <tbody>\n",
       "    <tr>\n",
       "      <th>0</th>\n",
       "      <td>5114589</td>\n",
       "      <td>1</td>\n",
       "    </tr>\n",
       "    <tr>\n",
       "      <th>1</th>\n",
       "      <td>6958315</td>\n",
       "      <td>1</td>\n",
       "    </tr>\n",
       "    <tr>\n",
       "      <th>2</th>\n",
       "      <td>11685486</td>\n",
       "      <td>1</td>\n",
       "    </tr>\n",
       "    <tr>\n",
       "      <th>3</th>\n",
       "      <td>39475350</td>\n",
       "      <td>1</td>\n",
       "    </tr>\n",
       "    <tr>\n",
       "      <th>4</th>\n",
       "      <td>47206413</td>\n",
       "      <td>1</td>\n",
       "    </tr>\n",
       "  </tbody>\n",
       "</table>\n",
       "</div>"
      ],
      "text/plain": [
       "   visitors  orders\n",
       "0   5114589       1\n",
       "1   6958315       1\n",
       "2  11685486       1\n",
       "3  39475350       1\n",
       "4  47206413       1"
      ]
     },
     "execution_count": 50,
     "metadata": {},
     "output_type": "execute_result"
    }
   ],
   "source": [
    "user_orders = orders.groupby('visitorId')['revenue'].count().reset_index()\n",
    "user_orders.columns = ['visitors', 'orders']\n",
    "user_orders.head(5)"
   ]
  },
  {
   "cell_type": "code",
   "execution_count": 51,
   "metadata": {},
   "outputs": [
    {
     "data": {
      "image/png": "[encoded data removed]",
      "text/plain": [
       "<Figure size 1296x720 with 1 Axes>"
      ]
     },
     "metadata": {
      "needs_background": "light"
     },
     "output_type": "display_data"
    }
   ],
   "source": [
    "plt.figure(figsize=(18, 10))\n",
    "x_values = pd.Series(range(0,user_orders['orders'].count()))\n",
    "plt.scatter(data=user_orders, x=x_values, y='orders') \n",
    "plt.grid()\n",
    "plt.title('Точечный график количества заказов на пользователя')\n",
    "plt.yticks([0,1,2,3,4, 5]);"
   ]
  },
  {
   "cell_type": "markdown",
   "metadata": {},
   "source": [
    "В основном пользователи делают 1 заказ, реже 2 или 3. Но также у нас имеются \"постояные\" клиенты, которые сделали и 3 заказа."
   ]
  },
  {
   "cell_type": "markdown",
   "metadata": {},
   "source": [
    "<b>Задача 7</b>\n",
    "\n",
    "<b>Посчитайте 95-й и 99-й перцентили количества заказов на пользователя. Выберите границу для определения аномальных пользователей</b>"
   ]
  },
  {
   "cell_type": "code",
   "execution_count": 52,
   "metadata": {},
   "outputs": [
    {
     "name": "stdout",
     "output_type": "stream",
     "text": [
      "[1. 2.]\n"
     ]
    }
   ],
   "source": [
    "print(np.percentile(user_orders['orders'], [95, 99])) "
   ]
  },
  {
   "cell_type": "markdown",
   "metadata": {},
   "source": [
    "Отсечем данные, выбивающиеся за границы 99 перцентиля и построим график еще раз."
   ]
  },
  {
   "cell_type": "code",
   "execution_count": 53,
   "metadata": {},
   "outputs": [
    {
     "data": {
      "image/png": "[encoded data removed]",
      "text/plain": [
       "<Figure size 1296x720 with 1 Axes>"
      ]
     },
     "metadata": {
      "needs_background": "light"
     },
     "output_type": "display_data"
    }
   ],
   "source": [
    "percentile_99 = np.percentile(user_orders['orders'], [99])[0]\n",
    "orders_per_99 = user_orders.query('orders <= @percentile_99')\n",
    "\n",
    "plt.figure(figsize=(18, 10))\n",
    "x_values = pd.Series(range(0,orders_per_99['orders'].count()))\n",
    "plt.scatter(data=orders_per_99, x=x_values, y='orders') \n",
    "plt.grid()\n",
    "plt.title('Точечный график количества заказов на пользователя')\n",
    "plt.yticks([0,1,2, 3]);"
   ]
  },
  {
   "cell_type": "markdown",
   "metadata": {},
   "source": [
    "Теперь график выглядит  более аккуратным и читабельным."
   ]
  },
  {
   "cell_type": "markdown",
   "metadata": {},
   "source": [
    "<b>Задача 8</b>\n",
    "\n",
    "<b>Постройте точечный график стоимостей заказов. Сделайте выводы и предположения</b>"
   ]
  },
  {
   "cell_type": "code",
   "execution_count": 54,
   "metadata": {},
   "outputs": [
    {
     "data": {
      "image/png": "[encoded data removed]",
      "text/plain": [
       "<Figure size 1296x720 with 1 Axes>"
      ]
     },
     "metadata": {
      "needs_background": "light"
     },
     "output_type": "display_data"
    }
   ],
   "source": [
    "x_values = pd.Series(range(0,orders['revenue'].count()))\n",
    "plt.figure(figsize=(18, 10))\n",
    "sns.scatterplot(x=x_values, y=\"revenue\", hue=\"group\", data=orders)\n",
    "plt.grid()\n",
    "plt.title('Точечный график количества заказов');"
   ]
  },
  {
   "cell_type": "markdown",
   "metadata": {},
   "source": [
    "На графике видно, что у нас имеется 2 выброса в группе В. Вероятно, они и искажалирезультаты в ходе предыдущего исследования и давали скачки на графиках. Сейчас мы можем удалить выбросы и детальнее изучить полученные данные."
   ]
  },
  {
   "cell_type": "code",
   "execution_count": 55,
   "metadata": {},
   "outputs": [
    {
     "data": {
      "image/png": "[encoded data removed]",
      "text/plain": [
       "<Figure size 720x720 with 1 Axes>"
      ]
     },
     "metadata": {
      "needs_background": "light"
     },
     "output_type": "display_data"
    }
   ],
   "source": [
    "clean_orders = orders.query('revenue<200000')\n",
    "plt.figure(figsize=(10, 10))\n",
    "sns.boxplot(y=clean_orders['revenue']);"
   ]
  },
  {
   "cell_type": "markdown",
   "metadata": {},
   "source": [
    "Все, что выходит за границы 20000 является выбросами, поэтому такую выручку мы учитывать не будем и построим новый график распределения выручки по группам. "
   ]
  },
  {
   "cell_type": "code",
   "execution_count": 56,
   "metadata": {},
   "outputs": [
    {
     "data": {
      "image/png": "[encoded data removed]",
      "text/plain": [
       "<Figure size 1296x720 with 1 Axes>"
      ]
     },
     "metadata": {
      "needs_background": "light"
     },
     "output_type": "display_data"
    }
   ],
   "source": [
    "x_values = pd.Series(range(0,clean_orders['revenue'].count()))\n",
    "\n",
    "plt.figure(figsize=(18, 10))\n",
    "sns.scatterplot(x=x_values, y=\"revenue\", hue=\"group\", data=clean_orders)\n",
    "plt.grid()\n",
    "plt.title('Точечный график количества заказов');"
   ]
  },
  {
   "cell_type": "markdown",
   "metadata": {},
   "source": [
    "На этом графике данные видны более четко. У нас все еще имеется некоторое количество дорогих заказов, но пока не будем их удалять."
   ]
  },
  {
   "cell_type": "markdown",
   "metadata": {},
   "source": [
    "<b>Задача 9</b>\n",
    "\n",
    "<b>Посчитайте 95-й и 99-й перцентили количества заказов на пользователя. Выберите границу для определения аномальных пользователей</b>"
   ]
  },
  {
   "cell_type": "code",
   "execution_count": 57,
   "metadata": {},
   "outputs": [
    {
     "name": "stdout",
     "output_type": "stream",
     "text": [
      "[26785. 53904.]\n"
     ]
    }
   ],
   "source": [
    "print(np.percentile(orders['revenue'], [95, 99])) "
   ]
  },
  {
   "cell_type": "markdown",
   "metadata": {},
   "source": [
    "Все, что выше 99 перцентиля можно убрать и еще раз посмотреть на данные."
   ]
  },
  {
   "cell_type": "code",
   "execution_count": 58,
   "metadata": {},
   "outputs": [
    {
     "data": {
      "image/png": "[encoded data removed]",
      "text/plain": [
       "<Figure size 1296x720 with 1 Axes>"
      ]
     },
     "metadata": {
      "needs_background": "light"
     },
     "output_type": "display_data"
    }
   ],
   "source": [
    "percentile_99 = np.percentile(orders['revenue'], [99])[0]\n",
    "orders_per_99 = orders.query('revenue <= @percentile_99')\n",
    "\n",
    "x_values = pd.Series(range(0,orders_per_99['revenue'].count()))\n",
    "\n",
    "plt.figure(figsize=(18, 10))\n",
    "sns.scatterplot(x=x_values, y=\"revenue\", hue=\"group\", data=orders_per_99)\n",
    "plt.grid()\n",
    "plt.title('Точечный график количества заказов');"
   ]
  },
  {
   "cell_type": "markdown",
   "metadata": {},
   "source": [
    "<b>Задача 10</b>\n",
    "\n",
    "<b>Посчитайте статистическую значимость различий в среднем количестве заказов на посетителя между группами по «сырым» данным. Сделайте выводы и предположения</b>"
   ]
  },
  {
   "cell_type": "markdown",
   "metadata": {},
   "source": [
    "- Н0 - среднее количество заказов пользователей группы А и группы В на сырых данных одинаковое\n",
    "- Н1 - среднее количество заказов пользователей по группам А и В на \"сырых\" данных различается \n",
    "- уровень значимости  α — 0.05"
   ]
  },
  {
   "cell_type": "code",
   "execution_count": 59,
   "metadata": {},
   "outputs": [
    {
     "data": {
      "text/html": [
       "<div>\n",
       "<style scoped>\n",
       "    .dataframe tbody tr th:only-of-type {\n",
       "        vertical-align: middle;\n",
       "    }\n",
       "\n",
       "    .dataframe tbody tr th {\n",
       "        vertical-align: top;\n",
       "    }\n",
       "\n",
       "    .dataframe thead th {\n",
       "        text-align: right;\n",
       "    }\n",
       "</style>\n",
       "<table border=\"1\" class=\"dataframe\">\n",
       "  <thead>\n",
       "    <tr style=\"text-align: right;\">\n",
       "      <th></th>\n",
       "      <th>visitorId</th>\n",
       "      <th>group</th>\n",
       "      <th>transactionId</th>\n",
       "    </tr>\n",
       "  </thead>\n",
       "  <tbody>\n",
       "    <tr>\n",
       "      <th>0</th>\n",
       "      <td>5114589</td>\n",
       "      <td>B</td>\n",
       "      <td>1</td>\n",
       "    </tr>\n",
       "    <tr>\n",
       "      <th>1</th>\n",
       "      <td>6958315</td>\n",
       "      <td>B</td>\n",
       "      <td>1</td>\n",
       "    </tr>\n",
       "    <tr>\n",
       "      <th>2</th>\n",
       "      <td>11685486</td>\n",
       "      <td>A</td>\n",
       "      <td>1</td>\n",
       "    </tr>\n",
       "    <tr>\n",
       "      <th>3</th>\n",
       "      <td>39475350</td>\n",
       "      <td>B</td>\n",
       "      <td>1</td>\n",
       "    </tr>\n",
       "    <tr>\n",
       "      <th>4</th>\n",
       "      <td>47206413</td>\n",
       "      <td>B</td>\n",
       "      <td>1</td>\n",
       "    </tr>\n",
       "  </tbody>\n",
       "</table>\n",
       "</div>"
      ],
      "text/plain": [
       "   visitorId group  transactionId\n",
       "0    5114589     B              1\n",
       "1    6958315     B              1\n",
       "2   11685486     A              1\n",
       "3   39475350     B              1\n",
       "4   47206413     B              1"
      ]
     },
     "execution_count": 59,
     "metadata": {},
     "output_type": "execute_result"
    }
   ],
   "source": [
    "order_counts = orders.groupby(['visitorId', 'group'])['transactionId'].count().reset_index()\n",
    "order_counts.head(5)"
   ]
  },
  {
   "cell_type": "code",
   "execution_count": 60,
   "metadata": {},
   "outputs": [],
   "source": [
    "ordersA = order_counts.query('group == \"A\"').groupby('visitorId')['transactionId'].nunique().reset_index()\n",
    "ordersA.columns = ['visitorId', 'orders']\n",
    "\n",
    "ordersB = order_counts.query('group == \"B\"').groupby('visitorId')['transactionId'].nunique().reset_index()\n",
    "ordersB.columns = ['visitorId', 'orders']"
   ]
  },
  {
   "cell_type": "markdown",
   "metadata": {},
   "source": [
    "Найдем количество пользователей по группам, не сделавших ни одного заказа."
   ]
  },
  {
   "cell_type": "code",
   "execution_count": 61,
   "metadata": {},
   "outputs": [],
   "source": [
    "no_ordersA = visitors.query('group == \"A\"')['visitors'].sum() - len(ordersA['orders'])\n",
    "no_ordersB =  visitors.query('group == \"B\"')['visitors'].sum() - len(ordersB['orders'])"
   ]
  },
  {
   "cell_type": "code",
   "execution_count": 62,
   "metadata": {
    "scrolled": true
   },
   "outputs": [],
   "source": [
    "no_ordersA = pd.Series(0, index=np.arange(no_ordersA), name='orders')\n",
    "no_ordersB = pd.Series(0, index=np.arange(no_ordersB), name='orders')"
   ]
  },
  {
   "cell_type": "code",
   "execution_count": 63,
   "metadata": {},
   "outputs": [],
   "source": [
    "SampleA = pd.concat([ordersA['orders'], no_ordersA])\n",
    "SampleB = pd.concat([ordersB['orders'], no_ordersB])"
   ]
  },
  {
   "cell_type": "code",
   "execution_count": 64,
   "metadata": {},
   "outputs": [
    {
     "name": "stdout",
     "output_type": "stream",
     "text": [
      "p_value: 0.011\n",
      "Статистическая значимость: 0.021\n",
      "Средняя конверсия группы А: 2.4\n",
      "Средняя конверсия группы B: 2.8\n"
     ]
    }
   ],
   "source": [
    "print('p_value:', round(st.mannwhitneyu(SampleA, SampleB)[1], 3))\n",
    "print('Статистическая значимость:', round(orders.query('group == \"B\"')['transactionId'].mean()\n",
    "                                          / orders.query('group == \"A\"')['transactionId'].mean() - 1, 3))\n",
    "print('Средняя конверсия группы А:', round(SampleA.mean() * 100, 1))\n",
    "print('Средняя конверсия группы B:', round(SampleB.mean()* 100, 1))"
   ]
  },
  {
   "cell_type": "markdown",
   "metadata": {},
   "source": [
    "Так как p-value 0.011, что значительно меньше уровня значимости α, то мы отклоняем нулевую гипотезу о равенстве среднего количества заказов по группам на сырых данных. После рассчета среднего значения можно убедиться, что оно действительно различается на 0.4 и статистически значима на 21%. "
   ]
  },
  {
   "cell_type": "markdown",
   "metadata": {},
   "source": [
    "<b>Задача 11</b>\n",
    "\n",
    "<b>Посчитайте статистическую значимость различий в среднем чеке заказа между группами по «сырым» данным. Сделайте выводы и предположения</b>"
   ]
  },
  {
   "cell_type": "markdown",
   "metadata": {},
   "source": [
    "- Н0 — средний чек группы А на \"сырых\" данных равен среднему чеку группы В\n",
    "- Н1 — средний чек группы А на \"сырых\" данных не равен среднему чеку группы В\n",
    "- уровень значимости  α — 0.05"
   ]
  },
  {
   "cell_type": "code",
   "execution_count": 65,
   "metadata": {},
   "outputs": [],
   "source": [
    "meancheckA = orders.query('group == \"A\"')['revenue']\n",
    "meancheckB = orders.query('group == \"B\"')['revenue']"
   ]
  },
  {
   "cell_type": "code",
   "execution_count": 66,
   "metadata": {
    "scrolled": true
   },
   "outputs": [
    {
     "name": "stdout",
     "output_type": "stream",
     "text": [
      "p_value: 0.829\n",
      "Статистическая значимость: 0.287\n",
      "Средняя конверсия группы А: 718943.6\n",
      "Средняя конверсия группы B: 924994.9\n"
     ]
    }
   ],
   "source": [
    "print('p_value:', round(st.mannwhitneyu(meancheckA, meancheckB)[1], 3))\n",
    "print('Статистическая значимость:', round(meancheckB.mean() / meancheckA.mean() - 1, 3))\n",
    "print('Средняя конверсия группы А:', round(meancheckA.mean() * 100, 1))\n",
    "print('Средняя конверсия группы B:', round(meancheckB.mean()* 100, 1))"
   ]
  },
  {
   "cell_type": "markdown",
   "metadata": {},
   "source": [
    "p-value составляет 0.829, что больше уровня значимости α, поэтому мы не можем отвергнуть нулевую гипотезу о равенстве среднего чека обеих групп. Несмотря на разницу среднего чека в 206 у.е. мы принимаем нулевую гипотезу. "
   ]
  },
  {
   "cell_type": "markdown",
   "metadata": {},
   "source": [
    "<b>Задача 12</b>\n",
    "\n",
    "<b>Посчитайте статистическую значимость различий в среднем количестве заказов на посетителя между группами по «очищенным» данным. Сделайте выводы и предположения</b>"
   ]
  },
  {
   "cell_type": "markdown",
   "metadata": {},
   "source": [
    "- Н0 - среднее количество заказов пользователей группы А и группы В на \"очищенных\" данных одинаковое\n",
    "- Н1 - среднее количество заказов пользователей по группам А и В на \"очищенных\" данных различается \n",
    "- уровень значимости  α — 0.05"
   ]
  },
  {
   "cell_type": "code",
   "execution_count": 67,
   "metadata": {},
   "outputs": [],
   "source": [
    "clean_ordersA = visitorsA.groupby('visitorId')['transactionId'].nunique().reset_index()\n",
    "clean_ordersA.columns=['visitorsId','orders']\n",
    "\n",
    "clean_ordersB = visitorsB.groupby('visitorId')['transactionId'].nunique().reset_index()\n",
    "clean_ordersB.columns=['visitorsId','orders']"
   ]
  },
  {
   "cell_type": "code",
   "execution_count": 68,
   "metadata": {},
   "outputs": [],
   "source": [
    "no_clean_ordersA = visitors.query('group == \"A\"')['visitors'].sum() - len(clean_ordersA['orders'])\n",
    "no_clean_ordersB =  visitors.query('group == \"B\"')['visitors'].sum() - len(clean_ordersB['orders'])"
   ]
  },
  {
   "cell_type": "markdown",
   "metadata": {},
   "source": [
    "Найдем количество пользователей, не сделавших ни одного заказа. "
   ]
  },
  {
   "cell_type": "code",
   "execution_count": 69,
   "metadata": {},
   "outputs": [],
   "source": [
    "no_clean_ordersA = pd.Series(0, index=np.arange(no_clean_ordersA), name='orders')\n",
    "no_clean_ordersB = pd.Series(0, index=np.arange(no_clean_ordersB), name='orders')"
   ]
  },
  {
   "cell_type": "code",
   "execution_count": 70,
   "metadata": {},
   "outputs": [],
   "source": [
    "Sample_clean_A = pd.concat([clean_ordersA['orders'], no_clean_ordersA])\n",
    "Sample_clean_B = pd.concat([clean_ordersB['orders'], no_clean_ordersB])"
   ]
  },
  {
   "cell_type": "code",
   "execution_count": 71,
   "metadata": {},
   "outputs": [
    {
     "name": "stdout",
     "output_type": "stream",
     "text": [
      "p_value: 0.011\n",
      "Статистическая значимость: 0.021\n",
      "Средняя конверсия группы А: 2.5\n",
      "Средняя конверсия группы B: 2.9\n"
     ]
    }
   ],
   "source": [
    "print('p_value:', round(st.mannwhitneyu(Sample_clean_A, Sample_clean_B)[1], 3))\n",
    "print('Статистическая значимость:', round(visitors_orders_new.query('group == \"B\"')['transactionId'].mean()\n",
    "                                          / visitors_orders_new.query('group == \"A\"')['transactionId'].mean() - 1, 3))\n",
    "print('Средняя конверсия группы А:', round(Sample_clean_A.mean() * 100, 1))\n",
    "print('Средняя конверсия группы B:', round(Sample_clean_B.mean()* 100, 1))"
   ]
  },
  {
   "cell_type": "markdown",
   "metadata": {},
   "source": [
    "Так как полученное значение p-value составило меньше уровня статистической значимости, то мы отвергаем нулевую гипотезу о равенстве среднего количества заказов в группе А и группе В. Конверсия группы В действительно выше на целых 0.4 единицы. "
   ]
  },
  {
   "cell_type": "markdown",
   "metadata": {},
   "source": [
    "<b>Задача 13</b>\n",
    "\n",
    "<b>Посчитайте статистическую значимость различий в среднем чеке заказа между группами по «очищенным» данным. Сделайте выводы и предположения</b>"
   ]
  },
  {
   "cell_type": "markdown",
   "metadata": {},
   "source": [
    "- Н0 — средний чек группы А на \"очищенных\" данных равен среднему чеку группы В\n",
    "- Н1 — средний чек группы А на \"очищенных\" данных не равен среднему чеку группы В\n",
    "- уровень значимости α — 0.05"
   ]
  },
  {
   "cell_type": "code",
   "execution_count": 72,
   "metadata": {},
   "outputs": [],
   "source": [
    "clean_meancheckA = orders_per_99.query('group == \"A\"')['revenue']\n",
    "clean_meancheckB = orders_per_99.query('group == \"B\"')['revenue']"
   ]
  },
  {
   "cell_type": "code",
   "execution_count": 73,
   "metadata": {},
   "outputs": [
    {
     "name": "stdout",
     "output_type": "stream",
     "text": [
      "p_value: 0.901\n",
      "Статистическая значимость: -0.032\n",
      "Средний чек группы А: 650454.9\n",
      "Средний чек группы B: 629882.7\n"
     ]
    }
   ],
   "source": [
    "print('p_value:', round(st.mannwhitneyu(clean_meancheckA, clean_meancheckB)[1], 3))\n",
    "print('Статистическая значимость:', round(clean_meancheckB.mean() / clean_meancheckA.mean() - 1, 3))\n",
    "print('Средний чек группы А:', round(clean_meancheckA.mean() * 100, 1))\n",
    "print('Средний чек группы B:', round(clean_meancheckB.mean()* 100, 1))"
   ]
  },
  {
   "cell_type": "markdown",
   "metadata": {},
   "source": [
    "В очищенных данных аналогичная картина что и в сырых: средний чек группы В больше чем в группе А. Статистическая значимость отрицательная, а p-value составляет 0.901, поэтому мы не можем отвергнуть нулевую гипотезу о равенстве среднего чека по группам."
   ]
  },
  {
   "cell_type": "markdown",
   "metadata": {},
   "source": [
    "<b>Задача 14</b>\n",
    "\n",
    "<b>Примите решение по результатам теста и объясните его. Варианты решений:\n",
    "1. Остановить тест, зафиксировать победу одной из групп.\n",
    "2. Остановить тест, зафиксировать отсутствие различий между группами.\n",
    "3. Продолжить тест.</b>"
   ]
  },
  {
   "cell_type": "markdown",
   "metadata": {},
   "source": [
    "Исходя из полученных результатов можно сделать вывод, что средние чеки на сырых и очищенных данных равны, но в группе В конверсия статистически значимо выше конверсии в группе А, а значит, принесла больше прибыли компании. Также, судя по графикам, к концу исследования линии на них стали более стабильными и практически выровнялись. Исходя из полученных результатов могу признать А/В-тест успешным и завершить тестирование. "
   ]
  },
  {
   "cell_type": "markdown",
   "metadata": {},
   "source": [
    "# Выводы"
   ]
  },
  {
   "cell_type": "markdown",
   "metadata": {},
   "source": [
    "В ходе проведения исследования была проведена приоритезация гипотез. При использовании фреймворка ICE приоритетной оказалсь гипотеза о запуске акции в честь дня рождения. При использовании фреймворка RICE — в приоритете была другая гипотеза: \"Добавить форму подписки на все основные страницы, чтобы собрать базу клиентов для email-рассылок\". Различие в полученных гипотезах заключается в том, что при расчете приоритета с помощью фреймворка RICE учитывается дополнительный параметр, который показывает на какое количество окажет влияние данная гипотеза. \n",
    "\n",
    "Также было проведено исследование результатов А/В-теста, в ходе которых мы получили результаты, показывающие статистически значимую разницу в средней конверсии групп. Конверсия группы В оказался выше, чем в группе А, следовательно пользователи из В группы принесли больше выручки. Тем не менее, мы не смогли отвергнуть гипотезу о разности средних чеков по группам, несмотря на их различия. Так как группа В выбилась вперед по конверсии, принесла больше дохода компании, можно зафиксировать ее победу в исследовании и завершить А/В-тестирование. Также хочу отметить, что дополнительным моментом для принятия решения о прекращении тестирования является выравнивание линий на графиках. "
   ]
  }
 ],
 "metadata": {
  "ExecuteTimeLog": [
   {
    "duration": 76,
    "start_time": "2024-11-01T07:23:38.971Z"
   },
   {
    "duration": 175,
    "start_time": "2024-11-01T07:23:46.204Z"
   },
   {
    "duration": 83,
    "start_time": "2024-11-01T07:23:54.786Z"
   },
   {
    "duration": 40,
    "start_time": "2024-11-01T07:24:30.691Z"
   },
   {
    "duration": 77,
    "start_time": "2024-11-01T07:25:45.827Z"
   },
   {
    "duration": 56,
    "start_time": "2024-11-01T07:27:08.347Z"
   },
   {
    "duration": 62,
    "start_time": "2024-11-01T07:27:14.296Z"
   },
   {
    "duration": 1245,
    "start_time": "2024-11-01T07:31:17.956Z"
   },
   {
    "duration": 218,
    "start_time": "2024-11-01T07:35:27.239Z"
   },
   {
    "duration": 3,
    "start_time": "2024-11-01T07:35:48.320Z"
   },
   {
    "duration": 13,
    "start_time": "2024-11-01T07:36:08.451Z"
   },
   {
    "duration": 13,
    "start_time": "2024-11-01T07:36:31.392Z"
   },
   {
    "duration": 12,
    "start_time": "2024-11-01T07:36:59.005Z"
   },
   {
    "duration": 2,
    "start_time": "2024-11-01T07:39:00.247Z"
   },
   {
    "duration": 8,
    "start_time": "2024-11-01T07:39:34.164Z"
   },
   {
    "duration": 3,
    "start_time": "2024-11-01T07:39:59.028Z"
   },
   {
    "duration": 3,
    "start_time": "2024-11-01T07:39:59.850Z"
   },
   {
    "duration": 11,
    "start_time": "2024-11-01T07:40:00.589Z"
   },
   {
    "duration": 2,
    "start_time": "2024-11-01T07:40:34.654Z"
   },
   {
    "duration": 76,
    "start_time": "2024-11-01T07:40:35.167Z"
   },
   {
    "duration": 3,
    "start_time": "2024-11-01T07:40:35.661Z"
   },
   {
    "duration": 16,
    "start_time": "2024-11-01T07:40:36.277Z"
   },
   {
    "duration": 12,
    "start_time": "2024-11-01T07:40:36.697Z"
   },
   {
    "duration": 11,
    "start_time": "2024-11-01T07:40:37.106Z"
   },
   {
    "duration": 2,
    "start_time": "2024-11-01T07:40:38.443Z"
   },
   {
    "duration": 10,
    "start_time": "2024-11-01T07:40:38.991Z"
   },
   {
    "duration": 3,
    "start_time": "2024-11-01T07:43:21.709Z"
   },
   {
    "duration": 72,
    "start_time": "2024-11-01T07:43:22.465Z"
   },
   {
    "duration": 3,
    "start_time": "2024-11-01T07:43:22.956Z"
   },
   {
    "duration": 12,
    "start_time": "2024-11-01T07:43:23.847Z"
   },
   {
    "duration": 11,
    "start_time": "2024-11-01T07:43:23.861Z"
   },
   {
    "duration": 11,
    "start_time": "2024-11-01T07:43:24.680Z"
   },
   {
    "duration": 3,
    "start_time": "2024-11-01T07:43:26.249Z"
   },
   {
    "duration": 11,
    "start_time": "2024-11-01T07:43:26.872Z"
   },
   {
    "duration": 8,
    "start_time": "2024-11-01T07:43:55.977Z"
   },
   {
    "duration": 66,
    "start_time": "2024-11-01T07:45:41.806Z"
   },
   {
    "duration": 17,
    "start_time": "2024-11-01T07:51:08.489Z"
   },
   {
    "duration": 15,
    "start_time": "2024-11-01T07:51:16.652Z"
   },
   {
    "duration": 1233,
    "start_time": "2024-11-01T07:51:36.899Z"
   },
   {
    "duration": 4,
    "start_time": "2024-11-01T07:51:57.795Z"
   },
   {
    "duration": 13,
    "start_time": "2024-11-01T07:52:25.782Z"
   },
   {
    "duration": 12,
    "start_time": "2024-11-01T07:53:14.907Z"
   },
   {
    "duration": 9,
    "start_time": "2024-11-01T07:53:27.678Z"
   },
   {
    "duration": 15,
    "start_time": "2024-11-01T07:53:35.927Z"
   },
   {
    "duration": 15,
    "start_time": "2024-11-01T07:53:51.514Z"
   },
   {
    "duration": 10,
    "start_time": "2024-11-01T07:55:44.259Z"
   },
   {
    "duration": 4,
    "start_time": "2024-11-01T07:55:50.132Z"
   },
   {
    "duration": 3,
    "start_time": "2024-11-01T07:56:07.364Z"
   },
   {
    "duration": 1241,
    "start_time": "2024-11-01T07:56:29.172Z"
   },
   {
    "duration": 4,
    "start_time": "2024-11-01T07:57:03.312Z"
   },
   {
    "duration": 12,
    "start_time": "2024-11-01T08:00:50.825Z"
   },
   {
    "duration": 4,
    "start_time": "2024-11-01T08:01:16.232Z"
   },
   {
    "duration": 65,
    "start_time": "2024-11-01T08:09:00.156Z"
   },
   {
    "duration": 9,
    "start_time": "2024-11-01T08:18:07.943Z"
   },
   {
    "duration": 11,
    "start_time": "2024-11-01T08:18:50.260Z"
   },
   {
    "duration": 9,
    "start_time": "2024-11-01T08:19:14.166Z"
   },
   {
    "duration": 11,
    "start_time": "2024-11-01T08:19:53.938Z"
   },
   {
    "duration": 9,
    "start_time": "2024-11-01T08:20:03.973Z"
   },
   {
    "duration": 12,
    "start_time": "2024-11-01T08:21:25.808Z"
   },
   {
    "duration": 11,
    "start_time": "2024-11-01T08:21:40.090Z"
   },
   {
    "duration": 11,
    "start_time": "2024-11-01T08:21:53.284Z"
   },
   {
    "duration": 11,
    "start_time": "2024-11-01T08:22:01.283Z"
   },
   {
    "duration": 11,
    "start_time": "2024-11-01T08:22:20.709Z"
   },
   {
    "duration": 13,
    "start_time": "2024-11-01T08:22:39.733Z"
   },
   {
    "duration": 11,
    "start_time": "2024-11-01T08:22:55.335Z"
   },
   {
    "duration": 12,
    "start_time": "2024-11-01T08:29:15.943Z"
   },
   {
    "duration": 60,
    "start_time": "2024-11-01T08:29:31.141Z"
   },
   {
    "duration": 10,
    "start_time": "2024-11-01T08:31:28.163Z"
   },
   {
    "duration": 4,
    "start_time": "2024-11-01T08:34:34.990Z"
   },
   {
    "duration": 63,
    "start_time": "2024-11-01T08:34:42.265Z"
   },
   {
    "duration": 44,
    "start_time": "2024-11-01T08:35:22.441Z"
   },
   {
    "duration": 8,
    "start_time": "2024-11-01T08:35:33.201Z"
   },
   {
    "duration": 7,
    "start_time": "2024-11-01T08:35:38.991Z"
   },
   {
    "duration": 12,
    "start_time": "2024-11-01T08:42:13.515Z"
   },
   {
    "duration": 8,
    "start_time": "2024-11-01T08:42:15.174Z"
   },
   {
    "duration": 8,
    "start_time": "2024-11-01T08:42:19.876Z"
   },
   {
    "duration": 209,
    "start_time": "2024-11-01T08:43:02.906Z"
   },
   {
    "duration": 261,
    "start_time": "2024-11-01T08:43:30.364Z"
   },
   {
    "duration": 7,
    "start_time": "2024-11-01T08:57:19.907Z"
   },
   {
    "duration": 5,
    "start_time": "2024-11-01T08:57:37.594Z"
   },
   {
    "duration": 7,
    "start_time": "2024-11-01T08:57:47.463Z"
   },
   {
    "duration": 12,
    "start_time": "2024-11-01T08:58:15.243Z"
   },
   {
    "duration": 7,
    "start_time": "2024-11-01T08:59:07.551Z"
   },
   {
    "duration": 6,
    "start_time": "2024-11-01T08:59:08.026Z"
   },
   {
    "duration": 6,
    "start_time": "2024-11-01T08:59:08.671Z"
   },
   {
    "duration": 11,
    "start_time": "2024-11-01T08:59:09.346Z"
   },
   {
    "duration": 9,
    "start_time": "2024-11-01T08:59:38.054Z"
   },
   {
    "duration": 1394,
    "start_time": "2024-11-02T06:47:45.005Z"
   },
   {
    "duration": 238,
    "start_time": "2024-11-02T06:47:46.401Z"
   },
   {
    "duration": 3,
    "start_time": "2024-11-02T06:47:53.180Z"
   },
   {
    "duration": 14,
    "start_time": "2024-11-02T06:47:57.623Z"
   },
   {
    "duration": 16,
    "start_time": "2024-11-02T06:47:58.658Z"
   },
   {
    "duration": 13,
    "start_time": "2024-11-02T06:47:59.409Z"
   },
   {
    "duration": 3,
    "start_time": "2024-11-02T06:48:02.114Z"
   },
   {
    "duration": 16,
    "start_time": "2024-11-02T06:48:03.050Z"
   },
   {
    "duration": 21,
    "start_time": "2024-11-02T06:48:06.033Z"
   },
   {
    "duration": 4,
    "start_time": "2024-11-02T06:48:06.867Z"
   },
   {
    "duration": 13,
    "start_time": "2024-11-02T06:48:08.326Z"
   },
   {
    "duration": 4,
    "start_time": "2024-11-02T06:48:09.084Z"
   },
   {
    "duration": 14,
    "start_time": "2024-11-02T07:07:23.801Z"
   },
   {
    "duration": 99,
    "start_time": "2024-11-02T07:08:10.380Z"
   },
   {
    "duration": 10,
    "start_time": "2024-11-02T07:09:18.234Z"
   },
   {
    "duration": 99,
    "start_time": "2024-11-02T07:10:18.982Z"
   },
   {
    "duration": 8,
    "start_time": "2024-11-02T07:10:26.385Z"
   },
   {
    "duration": 8,
    "start_time": "2024-11-02T07:10:32.704Z"
   },
   {
    "duration": 13,
    "start_time": "2024-11-02T07:10:44.677Z"
   },
   {
    "duration": 75,
    "start_time": "2024-11-02T07:11:09.780Z"
   },
   {
    "duration": 14,
    "start_time": "2024-11-02T07:13:02.367Z"
   },
   {
    "duration": 4,
    "start_time": "2024-11-02T07:15:20.313Z"
   },
   {
    "duration": 17,
    "start_time": "2024-11-02T07:15:24.794Z"
   },
   {
    "duration": 6,
    "start_time": "2024-11-02T07:16:03.096Z"
   },
   {
    "duration": 8,
    "start_time": "2024-11-02T07:16:39.173Z"
   },
   {
    "duration": 4,
    "start_time": "2024-11-02T07:16:56.389Z"
   },
   {
    "duration": 6,
    "start_time": "2024-11-02T07:18:14.999Z"
   },
   {
    "duration": 7,
    "start_time": "2024-11-02T07:18:28.817Z"
   },
   {
    "duration": 5,
    "start_time": "2024-11-02T07:19:01.052Z"
   },
   {
    "duration": 5,
    "start_time": "2024-11-02T07:20:23.037Z"
   },
   {
    "duration": 5,
    "start_time": "2024-11-02T07:20:23.830Z"
   },
   {
    "duration": 65,
    "start_time": "2024-11-02T07:21:12.761Z"
   },
   {
    "duration": 10,
    "start_time": "2024-11-02T07:29:02.720Z"
   },
   {
    "duration": 3,
    "start_time": "2024-11-02T07:29:08.127Z"
   },
   {
    "duration": 4,
    "start_time": "2024-11-02T07:29:09.387Z"
   },
   {
    "duration": 119,
    "start_time": "2024-11-02T07:29:13.867Z"
   },
   {
    "duration": 3,
    "start_time": "2024-11-02T07:29:41.115Z"
   },
   {
    "duration": 5,
    "start_time": "2024-11-02T07:29:42.030Z"
   },
   {
    "duration": 105,
    "start_time": "2024-11-02T07:29:42.746Z"
   },
   {
    "duration": 7,
    "start_time": "2024-11-02T07:30:09.410Z"
   },
   {
    "duration": 6,
    "start_time": "2024-11-02T07:30:11.968Z"
   },
   {
    "duration": 9,
    "start_time": "2024-11-02T07:32:06.852Z"
   },
   {
    "duration": 60,
    "start_time": "2024-11-02T07:35:21.664Z"
   },
   {
    "duration": 21,
    "start_time": "2024-11-02T07:37:21.664Z"
   },
   {
    "duration": 7,
    "start_time": "2024-11-02T07:37:37.628Z"
   },
   {
    "duration": 3,
    "start_time": "2024-11-02T07:39:49.863Z"
   },
   {
    "duration": 4,
    "start_time": "2024-11-02T07:39:55.737Z"
   },
   {
    "duration": 6,
    "start_time": "2024-11-02T07:40:15.709Z"
   },
   {
    "duration": 8,
    "start_time": "2024-11-02T07:41:00.131Z"
   },
   {
    "duration": 13,
    "start_time": "2024-11-02T07:41:30.697Z"
   },
   {
    "duration": 14,
    "start_time": "2024-11-02T07:41:49.743Z"
   },
   {
    "duration": 11,
    "start_time": "2024-11-02T07:42:13.552Z"
   },
   {
    "duration": 16,
    "start_time": "2024-11-02T07:43:08.930Z"
   },
   {
    "duration": 64,
    "start_time": "2024-11-02T07:43:25.451Z"
   },
   {
    "duration": 8,
    "start_time": "2024-11-02T07:43:57.754Z"
   },
   {
    "duration": 25,
    "start_time": "2024-11-02T07:44:32.583Z"
   },
   {
    "duration": 17,
    "start_time": "2024-11-02T07:44:58.386Z"
   },
   {
    "duration": 1184,
    "start_time": "2024-11-02T07:45:30.283Z"
   },
   {
    "duration": 66,
    "start_time": "2024-11-02T07:45:47.866Z"
   },
   {
    "duration": 13,
    "start_time": "2024-11-02T07:46:22.132Z"
   },
   {
    "duration": 3,
    "start_time": "2024-11-02T07:46:34.031Z"
   },
   {
    "duration": 77,
    "start_time": "2024-11-02T07:46:34.369Z"
   },
   {
    "duration": 3,
    "start_time": "2024-11-02T07:46:35.010Z"
   },
   {
    "duration": 12,
    "start_time": "2024-11-02T07:46:35.322Z"
   },
   {
    "duration": 19,
    "start_time": "2024-11-02T07:46:35.673Z"
   },
   {
    "duration": 15,
    "start_time": "2024-11-02T07:46:36.013Z"
   },
   {
    "duration": 3,
    "start_time": "2024-11-02T07:46:37.044Z"
   },
   {
    "duration": 14,
    "start_time": "2024-11-02T07:46:37.419Z"
   },
   {
    "duration": 16,
    "start_time": "2024-11-02T07:46:39.048Z"
   },
   {
    "duration": 5,
    "start_time": "2024-11-02T07:46:39.459Z"
   },
   {
    "duration": 14,
    "start_time": "2024-11-02T07:46:40.002Z"
   },
   {
    "duration": 4,
    "start_time": "2024-11-02T07:46:40.235Z"
   },
   {
    "duration": 13,
    "start_time": "2024-11-02T07:46:41.234Z"
   },
   {
    "duration": 8,
    "start_time": "2024-11-02T07:46:41.483Z"
   },
   {
    "duration": 5,
    "start_time": "2024-11-02T07:46:41.751Z"
   },
   {
    "duration": 3,
    "start_time": "2024-11-02T07:46:42.686Z"
   },
   {
    "duration": 4,
    "start_time": "2024-11-02T07:46:43.086Z"
   },
   {
    "duration": 3,
    "start_time": "2024-11-02T07:46:43.558Z"
   },
   {
    "duration": 4,
    "start_time": "2024-11-02T07:46:44.425Z"
   },
   {
    "duration": 10,
    "start_time": "2024-11-02T07:46:44.816Z"
   },
   {
    "duration": 57,
    "start_time": "2024-11-02T07:46:45.541Z"
   },
   {
    "duration": 5,
    "start_time": "2024-11-02T07:46:46.750Z"
   },
   {
    "duration": 13,
    "start_time": "2024-11-02T07:46:47.971Z"
   },
   {
    "duration": 12,
    "start_time": "2024-11-02T07:46:48.608Z"
   },
   {
    "duration": 6,
    "start_time": "2024-11-02T07:46:49.499Z"
   },
   {
    "duration": 21,
    "start_time": "2024-11-02T07:47:17.755Z"
   },
   {
    "duration": 15,
    "start_time": "2024-11-02T07:47:33.882Z"
   },
   {
    "duration": 65,
    "start_time": "2024-11-02T07:47:42.762Z"
   },
   {
    "duration": 16,
    "start_time": "2024-11-02T07:47:48.848Z"
   },
   {
    "duration": 88,
    "start_time": "2024-11-02T07:48:38.566Z"
   },
   {
    "duration": 5,
    "start_time": "2024-11-02T07:49:55.409Z"
   },
   {
    "duration": 5,
    "start_time": "2024-11-02T07:52:40.504Z"
   },
   {
    "duration": 5,
    "start_time": "2024-11-02T07:54:23.815Z"
   },
   {
    "duration": 66,
    "start_time": "2024-11-02T07:57:54.586Z"
   },
   {
    "duration": 2,
    "start_time": "2024-11-02T07:58:07.557Z"
   },
   {
    "duration": 75,
    "start_time": "2024-11-02T07:58:07.886Z"
   },
   {
    "duration": 5,
    "start_time": "2024-11-02T07:58:08.401Z"
   },
   {
    "duration": 13,
    "start_time": "2024-11-02T07:58:08.652Z"
   },
   {
    "duration": 16,
    "start_time": "2024-11-02T07:58:08.897Z"
   },
   {
    "duration": 14,
    "start_time": "2024-11-02T07:58:09.161Z"
   },
   {
    "duration": 3,
    "start_time": "2024-11-02T07:58:10.113Z"
   },
   {
    "duration": 9,
    "start_time": "2024-11-02T07:58:10.533Z"
   },
   {
    "duration": 12,
    "start_time": "2024-11-02T07:58:12.236Z"
   },
   {
    "duration": 5,
    "start_time": "2024-11-02T07:58:12.695Z"
   },
   {
    "duration": 13,
    "start_time": "2024-11-02T07:58:13.564Z"
   },
   {
    "duration": 5,
    "start_time": "2024-11-02T07:58:13.997Z"
   },
   {
    "duration": 31,
    "start_time": "2024-11-02T07:58:17.056Z"
   },
   {
    "duration": 16,
    "start_time": "2024-11-02T07:58:17.524Z"
   },
   {
    "duration": 7,
    "start_time": "2024-11-02T07:58:17.949Z"
   },
   {
    "duration": 4,
    "start_time": "2024-11-02T07:58:18.718Z"
   },
   {
    "duration": 5,
    "start_time": "2024-11-02T07:58:19.131Z"
   },
   {
    "duration": 3,
    "start_time": "2024-11-02T07:58:19.575Z"
   },
   {
    "duration": 7,
    "start_time": "2024-11-02T07:58:20.448Z"
   },
   {
    "duration": 14,
    "start_time": "2024-11-02T07:58:20.877Z"
   },
   {
    "duration": 72,
    "start_time": "2024-11-02T07:58:21.309Z"
   },
   {
    "duration": 5,
    "start_time": "2024-11-02T07:58:23.779Z"
   },
   {
    "duration": 4,
    "start_time": "2024-11-02T07:58:25.339Z"
   },
   {
    "duration": 62,
    "start_time": "2024-11-02T07:58:27.220Z"
   },
   {
    "duration": 19,
    "start_time": "2024-11-02T07:59:11.154Z"
   },
   {
    "duration": 13,
    "start_time": "2024-11-02T07:59:24.418Z"
   },
   {
    "duration": 25,
    "start_time": "2024-11-02T08:03:37.690Z"
   },
   {
    "duration": 13,
    "start_time": "2024-11-02T08:04:25.687Z"
   },
   {
    "duration": 16,
    "start_time": "2024-11-02T08:05:22.089Z"
   },
   {
    "duration": 32,
    "start_time": "2024-11-02T08:06:13.115Z"
   },
   {
    "duration": 21,
    "start_time": "2024-11-02T08:06:18.921Z"
   },
   {
    "duration": 14,
    "start_time": "2024-11-02T08:06:40.996Z"
   },
   {
    "duration": 9,
    "start_time": "2024-11-02T08:07:03.188Z"
   },
   {
    "duration": 305,
    "start_time": "2024-11-02T08:09:05.795Z"
   },
   {
    "duration": 345,
    "start_time": "2024-11-02T08:09:20.023Z"
   },
   {
    "duration": 16,
    "start_time": "2024-11-02T08:10:43.168Z"
   },
   {
    "duration": 10,
    "start_time": "2024-11-02T08:10:47.633Z"
   },
   {
    "duration": 349,
    "start_time": "2024-11-02T08:10:51.138Z"
   },
   {
    "duration": 1177,
    "start_time": "2024-11-02T08:17:47.841Z"
   },
   {
    "duration": 5,
    "start_time": "2024-11-02T08:18:33.291Z"
   },
   {
    "duration": 1481,
    "start_time": "2024-11-02T08:18:45.027Z"
   },
   {
    "duration": 19,
    "start_time": "2024-11-02T08:19:29.503Z"
   },
   {
    "duration": 10,
    "start_time": "2024-11-02T08:19:30.558Z"
   },
   {
    "duration": 21,
    "start_time": "2024-11-02T08:19:31.019Z"
   },
   {
    "duration": 11,
    "start_time": "2024-11-02T08:19:34.548Z"
   },
   {
    "duration": 322,
    "start_time": "2024-11-02T08:19:35.147Z"
   },
   {
    "duration": 5,
    "start_time": "2024-11-02T08:19:36.745Z"
   },
   {
    "duration": 5,
    "start_time": "2024-11-02T08:19:39.038Z"
   },
   {
    "duration": 378,
    "start_time": "2024-11-02T08:20:12.912Z"
   },
   {
    "duration": 4,
    "start_time": "2024-11-02T08:20:44.672Z"
   },
   {
    "duration": 347,
    "start_time": "2024-11-02T08:20:45.581Z"
   },
   {
    "duration": 324,
    "start_time": "2024-11-02T08:21:08.405Z"
   },
   {
    "duration": 3,
    "start_time": "2024-11-02T08:22:09.792Z"
   },
   {
    "duration": 79,
    "start_time": "2024-11-02T08:22:10.663Z"
   },
   {
    "duration": 3,
    "start_time": "2024-11-02T08:22:11.719Z"
   },
   {
    "duration": 13,
    "start_time": "2024-11-02T08:22:12.103Z"
   },
   {
    "duration": 15,
    "start_time": "2024-11-02T08:22:12.435Z"
   },
   {
    "duration": 13,
    "start_time": "2024-11-02T08:22:12.799Z"
   },
   {
    "duration": 3,
    "start_time": "2024-11-02T08:22:13.735Z"
   },
   {
    "duration": 10,
    "start_time": "2024-11-02T08:22:14.031Z"
   },
   {
    "duration": 11,
    "start_time": "2024-11-02T08:22:15.079Z"
   },
   {
    "duration": 3,
    "start_time": "2024-11-02T08:22:15.295Z"
   },
   {
    "duration": 13,
    "start_time": "2024-11-02T08:22:15.756Z"
   },
   {
    "duration": 4,
    "start_time": "2024-11-02T08:22:15.981Z"
   },
   {
    "duration": 13,
    "start_time": "2024-11-02T08:22:16.895Z"
   },
   {
    "duration": 12,
    "start_time": "2024-11-02T08:22:17.145Z"
   },
   {
    "duration": 7,
    "start_time": "2024-11-02T08:22:17.381Z"
   },
   {
    "duration": 4,
    "start_time": "2024-11-02T08:22:17.857Z"
   },
   {
    "duration": 5,
    "start_time": "2024-11-02T08:22:18.088Z"
   },
   {
    "duration": 3,
    "start_time": "2024-11-02T08:22:18.368Z"
   },
   {
    "duration": 4,
    "start_time": "2024-11-02T08:22:18.842Z"
   },
   {
    "duration": 6,
    "start_time": "2024-11-02T08:22:19.129Z"
   },
   {
    "duration": 5,
    "start_time": "2024-11-02T08:22:19.413Z"
   },
   {
    "duration": 15,
    "start_time": "2024-11-02T08:22:19.980Z"
   },
   {
    "duration": 14,
    "start_time": "2024-11-02T08:22:20.269Z"
   },
   {
    "duration": 17,
    "start_time": "2024-11-02T08:22:20.481Z"
   },
   {
    "duration": 10,
    "start_time": "2024-11-02T08:22:20.712Z"
   },
   {
    "duration": 314,
    "start_time": "2024-11-02T08:22:20.953Z"
   },
   {
    "duration": 5,
    "start_time": "2024-11-02T08:22:21.468Z"
   },
   {
    "duration": 433,
    "start_time": "2024-11-02T08:22:21.712Z"
   },
   {
    "duration": 326,
    "start_time": "2024-11-02T08:30:27.467Z"
   },
   {
    "duration": 6,
    "start_time": "2024-11-02T08:31:46.024Z"
   },
   {
    "duration": 320,
    "start_time": "2024-11-02T08:31:54.601Z"
   },
   {
    "duration": 1367,
    "start_time": "2024-11-02T08:34:26.292Z"
   },
   {
    "duration": 8,
    "start_time": "2024-11-02T08:34:32.910Z"
   },
   {
    "duration": 347,
    "start_time": "2024-11-02T08:34:35.170Z"
   },
   {
    "duration": 362,
    "start_time": "2024-11-02T08:36:44.525Z"
   },
   {
    "duration": 331,
    "start_time": "2024-11-02T08:37:04.705Z"
   },
   {
    "duration": 73,
    "start_time": "2024-11-02T08:39:51.807Z"
   },
   {
    "duration": 94,
    "start_time": "2024-11-02T08:40:51.520Z"
   },
   {
    "duration": 380,
    "start_time": "2024-11-02T08:42:22.712Z"
   },
   {
    "duration": 6,
    "start_time": "2024-11-02T08:42:27.586Z"
   },
   {
    "duration": 343,
    "start_time": "2024-11-02T08:42:28.458Z"
   },
   {
    "duration": 7,
    "start_time": "2024-11-02T08:42:56.144Z"
   },
   {
    "duration": 332,
    "start_time": "2024-11-02T08:42:56.914Z"
   },
   {
    "duration": 6,
    "start_time": "2024-11-02T08:44:14.532Z"
   },
   {
    "duration": 320,
    "start_time": "2024-11-02T08:44:58.817Z"
   },
   {
    "duration": 423,
    "start_time": "2024-11-02T08:45:08.097Z"
   },
   {
    "duration": 501,
    "start_time": "2024-11-02T08:45:49.064Z"
   },
   {
    "duration": 4,
    "start_time": "2024-11-02T08:49:09.260Z"
   },
   {
    "duration": 357,
    "start_time": "2024-11-02T08:49:11.393Z"
   },
   {
    "duration": 4,
    "start_time": "2024-11-02T08:49:19.526Z"
   },
   {
    "duration": 335,
    "start_time": "2024-11-02T08:49:20.123Z"
   },
   {
    "duration": 7,
    "start_time": "2024-11-02T08:51:18.469Z"
   },
   {
    "duration": 351,
    "start_time": "2024-11-02T08:51:20.147Z"
   },
   {
    "duration": 4,
    "start_time": "2024-11-02T08:51:24.883Z"
   },
   {
    "duration": 361,
    "start_time": "2024-11-02T08:51:25.600Z"
   },
   {
    "duration": 3,
    "start_time": "2024-11-02T08:51:30.021Z"
   },
   {
    "duration": 455,
    "start_time": "2024-11-02T08:51:30.599Z"
   },
   {
    "duration": 330,
    "start_time": "2024-11-02T08:52:30.948Z"
   },
   {
    "duration": 424,
    "start_time": "2024-11-02T08:53:30.312Z"
   },
   {
    "duration": 385,
    "start_time": "2024-11-02T08:53:53.462Z"
   },
   {
    "duration": 360,
    "start_time": "2024-11-02T08:54:26.606Z"
   },
   {
    "duration": 5,
    "start_time": "2024-11-02T08:55:36.136Z"
   },
   {
    "duration": 4,
    "start_time": "2024-11-02T08:55:56.383Z"
   },
   {
    "duration": 473,
    "start_time": "2024-11-02T08:56:10.958Z"
   },
   {
    "duration": 1415,
    "start_time": "2024-11-02T08:59:15.228Z"
   },
   {
    "duration": 13,
    "start_time": "2024-11-02T08:59:21.100Z"
   },
   {
    "duration": 333,
    "start_time": "2024-11-02T08:59:21.757Z"
   },
   {
    "duration": 490,
    "start_time": "2024-11-02T09:01:30.966Z"
   },
   {
    "duration": 435,
    "start_time": "2024-11-02T09:02:17.706Z"
   },
   {
    "duration": 453,
    "start_time": "2024-11-02T09:02:22.394Z"
   },
   {
    "duration": 446,
    "start_time": "2024-11-02T09:02:36.674Z"
   },
   {
    "duration": 69,
    "start_time": "2024-11-02T09:25:32.376Z"
   },
   {
    "duration": 438,
    "start_time": "2024-11-02T09:26:19.715Z"
   },
   {
    "duration": 14,
    "start_time": "2024-11-02T09:29:55.501Z"
   },
   {
    "duration": 3,
    "start_time": "2024-11-02T09:30:16.004Z"
   },
   {
    "duration": 227,
    "start_time": "2024-11-02T09:30:20.269Z"
   },
   {
    "duration": 268,
    "start_time": "2024-11-02T09:30:37.977Z"
   },
   {
    "duration": 198,
    "start_time": "2024-11-02T09:36:40.865Z"
   },
   {
    "duration": 144,
    "start_time": "2024-11-02T09:39:21.924Z"
   },
   {
    "duration": 131,
    "start_time": "2024-11-02T09:39:31.530Z"
   },
   {
    "duration": 129,
    "start_time": "2024-11-02T09:40:10.158Z"
   },
   {
    "duration": 128,
    "start_time": "2024-11-02T09:40:57.566Z"
   },
   {
    "duration": 133,
    "start_time": "2024-11-02T09:41:06.365Z"
   },
   {
    "duration": 121,
    "start_time": "2024-11-02T09:41:11.409Z"
   },
   {
    "duration": 294,
    "start_time": "2024-11-02T09:43:08.790Z"
   },
   {
    "duration": 68,
    "start_time": "2024-11-02T09:48:24.871Z"
   },
   {
    "duration": 6,
    "start_time": "2024-11-02T09:48:34.543Z"
   },
   {
    "duration": 284,
    "start_time": "2024-11-02T09:54:41.607Z"
   },
   {
    "duration": 278,
    "start_time": "2024-11-02T09:54:54.422Z"
   },
   {
    "duration": 395,
    "start_time": "2024-11-02T09:55:01.496Z"
   },
   {
    "duration": 5,
    "start_time": "2024-11-02T09:55:09.203Z"
   },
   {
    "duration": 5,
    "start_time": "2024-11-02T09:55:30.346Z"
   },
   {
    "duration": 5,
    "start_time": "2024-11-02T09:55:34.978Z"
   },
   {
    "duration": 138,
    "start_time": "2024-11-02T09:57:27.669Z"
   },
   {
    "duration": 193,
    "start_time": "2024-11-02T09:57:34.946Z"
   },
   {
    "duration": 291,
    "start_time": "2024-11-02T09:57:42.415Z"
   },
   {
    "duration": 6,
    "start_time": "2024-11-02T09:58:48.154Z"
   },
   {
    "duration": 326,
    "start_time": "2024-11-02T09:59:10.264Z"
   },
   {
    "duration": 170,
    "start_time": "2024-11-02T09:59:57.780Z"
   },
   {
    "duration": 6,
    "start_time": "2024-11-02T10:01:02.557Z"
   },
   {
    "duration": 304,
    "start_time": "2024-11-02T10:01:06.852Z"
   },
   {
    "duration": 7,
    "start_time": "2024-11-02T10:01:16.472Z"
   },
   {
    "duration": 17,
    "start_time": "2024-11-02T10:01:54.217Z"
   },
   {
    "duration": 1248,
    "start_time": "2024-11-02T10:02:08.039Z"
   },
   {
    "duration": 108,
    "start_time": "2024-11-02T10:02:42.468Z"
   },
   {
    "duration": 50,
    "start_time": "2024-11-02T10:03:21.577Z"
   },
   {
    "duration": 8,
    "start_time": "2024-11-02T10:03:59.831Z"
   },
   {
    "duration": 51,
    "start_time": "2024-11-02T10:04:05.465Z"
   },
   {
    "duration": 9,
    "start_time": "2024-11-02T10:04:14.153Z"
   },
   {
    "duration": 30,
    "start_time": "2024-11-02T10:04:43.675Z"
   },
   {
    "duration": 169,
    "start_time": "2024-11-02T10:05:08.414Z"
   },
   {
    "duration": 178,
    "start_time": "2024-11-02T10:05:42.039Z"
   },
   {
    "duration": 177,
    "start_time": "2024-11-02T10:05:54.439Z"
   },
   {
    "duration": 202,
    "start_time": "2024-11-02T10:06:08.626Z"
   },
   {
    "duration": 6,
    "start_time": "2024-11-02T10:09:52.585Z"
   },
   {
    "duration": 1221,
    "start_time": "2024-11-02T10:11:14.825Z"
   },
   {
    "duration": 48,
    "start_time": "2024-11-02T10:11:33.499Z"
   },
   {
    "duration": 6,
    "start_time": "2024-11-02T10:11:43.498Z"
   },
   {
    "duration": 195,
    "start_time": "2024-11-02T10:12:05.357Z"
   },
   {
    "duration": 165,
    "start_time": "2024-11-02T10:12:14.244Z"
   },
   {
    "duration": 31,
    "start_time": "2024-11-02T10:12:49.240Z"
   },
   {
    "duration": 133,
    "start_time": "2024-11-02T10:13:03.612Z"
   },
   {
    "duration": 403,
    "start_time": "2024-11-02T10:14:47.468Z"
   },
   {
    "duration": 224,
    "start_time": "2024-11-02T10:14:49.053Z"
   },
   {
    "duration": 355,
    "start_time": "2024-11-02T10:14:50.175Z"
   },
   {
    "duration": 5,
    "start_time": "2024-11-02T10:14:51.895Z"
   },
   {
    "duration": 459,
    "start_time": "2024-11-02T10:14:55.630Z"
   },
   {
    "duration": 119,
    "start_time": "2024-11-02T10:45:11.113Z"
   },
   {
    "duration": 27,
    "start_time": "2024-11-02T10:46:47.716Z"
   },
   {
    "duration": 12,
    "start_time": "2024-11-02T10:46:56.954Z"
   },
   {
    "duration": 13,
    "start_time": "2024-11-02T10:48:16.571Z"
   },
   {
    "duration": 4,
    "start_time": "2024-11-02T10:49:10.716Z"
   },
   {
    "duration": 74,
    "start_time": "2024-11-02T10:49:11.542Z"
   },
   {
    "duration": 15,
    "start_time": "2024-11-02T10:49:18.755Z"
   },
   {
    "duration": 8,
    "start_time": "2024-11-02T10:53:04.068Z"
   },
   {
    "duration": 6,
    "start_time": "2024-11-02T10:53:21.656Z"
   },
   {
    "duration": 63,
    "start_time": "2024-11-02T10:53:27.135Z"
   },
   {
    "duration": 50,
    "start_time": "2024-11-02T10:54:11.347Z"
   },
   {
    "duration": 17,
    "start_time": "2024-11-02T10:54:38.891Z"
   },
   {
    "duration": 33,
    "start_time": "2024-11-02T10:56:07.570Z"
   },
   {
    "duration": 21,
    "start_time": "2024-11-02T10:56:36.144Z"
   },
   {
    "duration": 195,
    "start_time": "2024-11-02T10:57:02.900Z"
   },
   {
    "duration": 11,
    "start_time": "2024-11-02T10:58:20.617Z"
   },
   {
    "duration": 16,
    "start_time": "2024-11-02T10:58:26.560Z"
   },
   {
    "duration": 23,
    "start_time": "2024-11-02T10:58:56.479Z"
   },
   {
    "duration": 133,
    "start_time": "2024-11-02T11:22:41.201Z"
   },
   {
    "duration": 6,
    "start_time": "2024-11-02T11:25:23.523Z"
   },
   {
    "duration": 54,
    "start_time": "2024-11-02T11:25:33.567Z"
   },
   {
    "duration": 72,
    "start_time": "2024-11-02T11:27:08.846Z"
   },
   {
    "duration": 182,
    "start_time": "2024-11-02T11:29:57.431Z"
   },
   {
    "duration": 23,
    "start_time": "2024-11-02T11:30:03.707Z"
   },
   {
    "duration": 16,
    "start_time": "2024-11-02T11:30:58.407Z"
   },
   {
    "duration": 4,
    "start_time": "2024-11-02T11:31:22.940Z"
   },
   {
    "duration": 4,
    "start_time": "2024-11-02T11:32:07.296Z"
   },
   {
    "duration": 381,
    "start_time": "2024-11-02T11:34:11.727Z"
   },
   {
    "duration": 279,
    "start_time": "2024-11-02T11:37:21.590Z"
   },
   {
    "duration": 152,
    "start_time": "2024-11-02T11:40:08.755Z"
   },
   {
    "duration": 20,
    "start_time": "2024-11-02T11:40:31.469Z"
   },
   {
    "duration": 178,
    "start_time": "2024-11-02T11:40:35.529Z"
   },
   {
    "duration": 12,
    "start_time": "2024-11-02T11:40:36.125Z"
   },
   {
    "duration": 7,
    "start_time": "2024-11-02T11:41:11.881Z"
   },
   {
    "duration": 5,
    "start_time": "2024-11-02T11:41:21.573Z"
   },
   {
    "duration": 10,
    "start_time": "2024-11-02T11:41:50.682Z"
   },
   {
    "duration": 12,
    "start_time": "2024-11-02T11:42:25.934Z"
   },
   {
    "duration": 27,
    "start_time": "2024-11-02T11:42:56.068Z"
   },
   {
    "duration": 1240,
    "start_time": "2024-11-03T04:41:05.634Z"
   },
   {
    "duration": 230,
    "start_time": "2024-11-03T04:41:06.875Z"
   },
   {
    "duration": 3,
    "start_time": "2024-11-03T04:41:14.525Z"
   },
   {
    "duration": 12,
    "start_time": "2024-11-03T04:41:15.170Z"
   },
   {
    "duration": 11,
    "start_time": "2024-11-03T04:41:15.380Z"
   },
   {
    "duration": 12,
    "start_time": "2024-11-03T04:41:16.463Z"
   },
   {
    "duration": 2,
    "start_time": "2024-11-03T04:41:17.236Z"
   },
   {
    "duration": 10,
    "start_time": "2024-11-03T04:41:17.628Z"
   },
   {
    "duration": 3,
    "start_time": "2024-11-03T04:42:05.871Z"
   },
   {
    "duration": 13,
    "start_time": "2024-11-03T04:42:06.871Z"
   },
   {
    "duration": 4,
    "start_time": "2024-11-03T04:42:12.356Z"
   },
   {
    "duration": 11,
    "start_time": "2024-11-03T04:42:15.568Z"
   },
   {
    "duration": 4,
    "start_time": "2024-11-03T04:42:16.381Z"
   },
   {
    "duration": 16,
    "start_time": "2024-11-03T04:42:18.082Z"
   },
   {
    "duration": 10,
    "start_time": "2024-11-03T04:42:18.281Z"
   },
   {
    "duration": 5,
    "start_time": "2024-11-03T04:42:18.546Z"
   },
   {
    "duration": 3,
    "start_time": "2024-11-03T04:42:18.985Z"
   },
   {
    "duration": 5,
    "start_time": "2024-11-03T04:42:19.216Z"
   },
   {
    "duration": 2,
    "start_time": "2024-11-03T04:42:19.441Z"
   },
   {
    "duration": 3,
    "start_time": "2024-11-03T04:42:20.740Z"
   },
   {
    "duration": 6,
    "start_time": "2024-11-03T04:42:21.278Z"
   },
   {
    "duration": 4,
    "start_time": "2024-11-03T04:42:21.842Z"
   },
   {
    "duration": 19,
    "start_time": "2024-11-03T04:42:23.474Z"
   },
   {
    "duration": 10,
    "start_time": "2024-11-03T04:42:25.309Z"
   },
   {
    "duration": 13,
    "start_time": "2024-11-03T04:42:25.915Z"
   },
   {
    "duration": 9,
    "start_time": "2024-11-03T04:42:26.142Z"
   },
   {
    "duration": 7,
    "start_time": "2024-11-03T04:42:26.381Z"
   },
   {
    "duration": 300,
    "start_time": "2024-11-03T04:42:26.583Z"
   },
   {
    "duration": 4,
    "start_time": "2024-11-03T04:42:27.288Z"
   },
   {
    "duration": 315,
    "start_time": "2024-11-03T04:42:27.539Z"
   },
   {
    "duration": 3,
    "start_time": "2024-11-03T04:42:28.646Z"
   },
   {
    "duration": 471,
    "start_time": "2024-11-03T04:42:29.418Z"
   },
   {
    "duration": 6,
    "start_time": "2024-11-03T04:42:30.899Z"
   },
   {
    "duration": 342,
    "start_time": "2024-11-03T04:42:31.307Z"
   },
   {
    "duration": 391,
    "start_time": "2024-11-03T04:42:32.508Z"
   },
   {
    "duration": 7,
    "start_time": "2024-11-03T04:42:35.346Z"
   },
   {
    "duration": 172,
    "start_time": "2024-11-03T04:42:35.966Z"
   },
   {
    "duration": 3,
    "start_time": "2024-11-03T04:42:37.300Z"
   },
   {
    "duration": 152,
    "start_time": "2024-11-03T04:42:38.034Z"
   },
   {
    "duration": 242,
    "start_time": "2024-11-03T04:42:38.894Z"
   },
   {
    "duration": 99,
    "start_time": "2024-11-03T04:42:39.491Z"
   },
   {
    "duration": 355,
    "start_time": "2024-11-03T04:42:40.056Z"
   },
   {
    "duration": 3,
    "start_time": "2024-11-03T04:42:40.801Z"
   },
   {
    "duration": 263,
    "start_time": "2024-11-03T04:42:41.269Z"
   },
   {
    "duration": 66,
    "start_time": "2024-11-03T04:42:41.729Z"
   },
   {
    "duration": 10,
    "start_time": "2024-11-03T04:42:50.706Z"
   },
   {
    "duration": 37,
    "start_time": "2024-11-03T04:44:00.021Z"
   },
   {
    "duration": 9,
    "start_time": "2024-11-03T04:45:08.265Z"
   },
   {
    "duration": 29,
    "start_time": "2024-11-03T04:45:32.056Z"
   },
   {
    "duration": 8,
    "start_time": "2024-11-03T04:46:04.454Z"
   },
   {
    "duration": 98,
    "start_time": "2024-11-03T04:50:02.742Z"
   },
   {
    "duration": 9,
    "start_time": "2024-11-03T04:50:10.821Z"
   },
   {
    "duration": 1203,
    "start_time": "2024-11-03T04:50:14.738Z"
   },
   {
    "duration": 1346,
    "start_time": "2024-11-03T04:50:22.573Z"
   },
   {
    "duration": 10,
    "start_time": "2024-11-03T04:50:42.510Z"
   },
   {
    "duration": 5,
    "start_time": "2024-11-03T04:50:49.312Z"
   },
   {
    "duration": 9,
    "start_time": "2024-11-03T04:53:01.234Z"
   },
   {
    "duration": 6,
    "start_time": "2024-11-03T04:53:09.366Z"
   },
   {
    "duration": 3,
    "start_time": "2024-11-03T04:53:10.364Z"
   },
   {
    "duration": 6,
    "start_time": "2024-11-03T04:55:41.022Z"
   },
   {
    "duration": 6,
    "start_time": "2024-11-03T04:56:29.348Z"
   },
   {
    "duration": 4,
    "start_time": "2024-11-03T04:56:34.125Z"
   },
   {
    "duration": 28,
    "start_time": "2024-11-03T04:58:02.732Z"
   },
   {
    "duration": 23,
    "start_time": "2024-11-03T04:59:38.092Z"
   },
   {
    "duration": 12,
    "start_time": "2024-11-03T05:01:28.541Z"
   },
   {
    "duration": 6,
    "start_time": "2024-11-03T05:01:30.743Z"
   },
   {
    "duration": 10,
    "start_time": "2024-11-03T05:01:32.077Z"
   },
   {
    "duration": 36,
    "start_time": "2024-11-03T05:02:22.569Z"
   },
   {
    "duration": 6,
    "start_time": "2024-11-03T05:03:40.539Z"
   },
   {
    "duration": 12,
    "start_time": "2024-11-03T05:03:48.047Z"
   },
   {
    "duration": 4,
    "start_time": "2024-11-03T05:05:03.293Z"
   },
   {
    "duration": 9,
    "start_time": "2024-11-03T05:05:16.530Z"
   },
   {
    "duration": 25,
    "start_time": "2024-11-03T05:07:09.148Z"
   },
   {
    "duration": 34,
    "start_time": "2024-11-03T05:07:24.085Z"
   },
   {
    "duration": 16,
    "start_time": "2024-11-03T05:07:31.784Z"
   },
   {
    "duration": 47,
    "start_time": "2024-11-03T05:07:42.695Z"
   },
   {
    "duration": 9,
    "start_time": "2024-11-03T05:08:05.144Z"
   },
   {
    "duration": 9,
    "start_time": "2024-11-03T05:08:13.283Z"
   },
   {
    "duration": 4,
    "start_time": "2024-11-03T05:08:16.752Z"
   },
   {
    "duration": 11,
    "start_time": "2024-11-03T05:09:01.170Z"
   },
   {
    "duration": 6,
    "start_time": "2024-11-03T05:09:02.167Z"
   },
   {
    "duration": 12,
    "start_time": "2024-11-03T05:09:02.565Z"
   },
   {
    "duration": 36,
    "start_time": "2024-11-03T05:09:29.402Z"
   },
   {
    "duration": 31,
    "start_time": "2024-11-03T05:09:34.323Z"
   },
   {
    "duration": 10,
    "start_time": "2024-11-03T05:09:39.703Z"
   },
   {
    "duration": 8,
    "start_time": "2024-11-03T05:09:48.855Z"
   },
   {
    "duration": 8,
    "start_time": "2024-11-03T05:09:55.931Z"
   },
   {
    "duration": 90,
    "start_time": "2024-11-03T05:10:10.345Z"
   },
   {
    "duration": 10,
    "start_time": "2024-11-03T05:10:32.779Z"
   },
   {
    "duration": 9,
    "start_time": "2024-11-03T05:10:43.998Z"
   },
   {
    "duration": 4,
    "start_time": "2024-11-03T05:10:58.569Z"
   },
   {
    "duration": 10,
    "start_time": "2024-11-03T05:11:18.764Z"
   },
   {
    "duration": 6,
    "start_time": "2024-11-03T05:11:49.873Z"
   },
   {
    "duration": 8,
    "start_time": "2024-11-03T05:11:55.427Z"
   },
   {
    "duration": 7,
    "start_time": "2024-11-03T05:12:36.260Z"
   },
   {
    "duration": 10,
    "start_time": "2024-11-03T05:12:51.756Z"
   },
   {
    "duration": 7,
    "start_time": "2024-11-03T05:13:48.571Z"
   },
   {
    "duration": 4,
    "start_time": "2024-11-03T05:13:49.092Z"
   },
   {
    "duration": 3,
    "start_time": "2024-11-03T05:13:49.683Z"
   },
   {
    "duration": 20,
    "start_time": "2024-11-03T05:13:53.760Z"
   },
   {
    "duration": 20,
    "start_time": "2024-11-03T05:14:37.622Z"
   },
   {
    "duration": 9,
    "start_time": "2024-11-03T05:15:01.422Z"
   },
   {
    "duration": 8,
    "start_time": "2024-11-03T05:15:05.941Z"
   },
   {
    "duration": 9,
    "start_time": "2024-11-03T05:15:30.177Z"
   },
   {
    "duration": 6,
    "start_time": "2024-11-03T05:15:30.885Z"
   },
   {
    "duration": 4,
    "start_time": "2024-11-03T05:15:31.208Z"
   },
   {
    "duration": 6,
    "start_time": "2024-11-03T05:15:32.587Z"
   },
   {
    "duration": 20,
    "start_time": "2024-11-03T05:15:33.125Z"
   },
   {
    "duration": 69,
    "start_time": "2024-11-03T05:23:23.060Z"
   },
   {
    "duration": 23,
    "start_time": "2024-11-03T05:23:29.332Z"
   },
   {
    "duration": 22,
    "start_time": "2024-11-03T05:24:09.359Z"
   },
   {
    "duration": 19,
    "start_time": "2024-11-03T05:24:35.839Z"
   },
   {
    "duration": 20,
    "start_time": "2024-11-03T05:24:59.715Z"
   },
   {
    "duration": 36,
    "start_time": "2024-11-03T05:25:07.853Z"
   },
   {
    "duration": 1465,
    "start_time": "2024-11-03T12:13:09.655Z"
   },
   {
    "duration": 226,
    "start_time": "2024-11-03T12:13:12.185Z"
   },
   {
    "duration": 3,
    "start_time": "2024-11-03T12:13:12.766Z"
   },
   {
    "duration": 18,
    "start_time": "2024-11-03T12:13:12.996Z"
   },
   {
    "duration": 19,
    "start_time": "2024-11-03T12:13:16.190Z"
   },
   {
    "duration": 13,
    "start_time": "2024-11-03T12:13:16.460Z"
   },
   {
    "duration": 3,
    "start_time": "2024-11-03T12:13:17.143Z"
   },
   {
    "duration": 12,
    "start_time": "2024-11-03T12:13:17.692Z"
   },
   {
    "duration": 3,
    "start_time": "2024-11-03T12:13:18.085Z"
   },
   {
    "duration": 15,
    "start_time": "2024-11-03T12:13:18.304Z"
   },
   {
    "duration": 4,
    "start_time": "2024-11-03T12:13:19.132Z"
   },
   {
    "duration": 12,
    "start_time": "2024-11-03T12:13:19.137Z"
   },
   {
    "duration": 3,
    "start_time": "2024-11-03T12:13:19.209Z"
   },
   {
    "duration": 17,
    "start_time": "2024-11-03T12:13:20.158Z"
   },
   {
    "duration": 14,
    "start_time": "2024-11-03T12:13:20.388Z"
   },
   {
    "duration": 7,
    "start_time": "2024-11-03T12:13:20.640Z"
   },
   {
    "duration": 4,
    "start_time": "2024-11-03T12:13:21.102Z"
   },
   {
    "duration": 4,
    "start_time": "2024-11-03T12:13:21.337Z"
   },
   {
    "duration": 3,
    "start_time": "2024-11-03T12:13:21.560Z"
   },
   {
    "duration": 7,
    "start_time": "2024-11-03T12:13:21.999Z"
   },
   {
    "duration": 8,
    "start_time": "2024-11-03T12:13:22.216Z"
   },
   {
    "duration": 5,
    "start_time": "2024-11-03T12:13:22.438Z"
   },
   {
    "duration": 16,
    "start_time": "2024-11-03T12:13:22.937Z"
   },
   {
    "duration": 17,
    "start_time": "2024-11-03T12:13:23.481Z"
   },
   {
    "duration": 16,
    "start_time": "2024-11-03T12:13:23.500Z"
   },
   {
    "duration": 14,
    "start_time": "2024-11-03T12:13:23.686Z"
   },
   {
    "duration": 7,
    "start_time": "2024-11-03T12:13:23.929Z"
   },
   {
    "duration": 385,
    "start_time": "2024-11-03T12:13:24.192Z"
   },
   {
    "duration": 4,
    "start_time": "2024-11-03T12:13:24.938Z"
   },
   {
    "duration": 353,
    "start_time": "2024-11-03T12:13:25.206Z"
   },
   {
    "duration": 8,
    "start_time": "2024-11-03T12:13:25.974Z"
   },
   {
    "duration": 473,
    "start_time": "2024-11-03T12:13:26.228Z"
   },
   {
    "duration": 6,
    "start_time": "2024-11-03T12:13:27.023Z"
   },
   {
    "duration": 366,
    "start_time": "2024-11-03T12:13:27.266Z"
   },
   {
    "duration": 419,
    "start_time": "2024-11-03T12:13:28.379Z"
   },
   {
    "duration": 9,
    "start_time": "2024-11-03T12:13:28.845Z"
   },
   {
    "duration": 185,
    "start_time": "2024-11-03T12:13:29.082Z"
   },
   {
    "duration": 4,
    "start_time": "2024-11-03T12:13:30.187Z"
   },
   {
    "duration": 185,
    "start_time": "2024-11-03T12:13:30.516Z"
   },
   {
    "duration": 280,
    "start_time": "2024-11-03T12:13:31.306Z"
   },
   {
    "duration": 122,
    "start_time": "2024-11-03T12:13:31.890Z"
   },
   {
    "duration": 356,
    "start_time": "2024-11-03T12:13:32.397Z"
   },
   {
    "duration": 4,
    "start_time": "2024-11-03T12:13:33.163Z"
   },
   {
    "duration": 291,
    "start_time": "2024-11-03T12:13:33.634Z"
   },
   {
    "duration": 15,
    "start_time": "2024-11-03T12:13:34.985Z"
   },
   {
    "duration": 11,
    "start_time": "2024-11-03T12:13:35.647Z"
   },
   {
    "duration": 9,
    "start_time": "2024-11-03T12:13:36.176Z"
   },
   {
    "duration": 4,
    "start_time": "2024-11-03T12:13:36.719Z"
   },
   {
    "duration": 8,
    "start_time": "2024-11-03T12:13:36.724Z"
   },
   {
    "duration": 38,
    "start_time": "2024-11-03T12:13:37.652Z"
   },
   {
    "duration": 25,
    "start_time": "2024-11-03T12:18:39.118Z"
   },
   {
    "duration": 32,
    "start_time": "2024-11-03T12:18:56.392Z"
   },
   {
    "duration": 676,
    "start_time": "2024-11-03T12:19:24.620Z"
   },
   {
    "duration": 5,
    "start_time": "2024-11-03T12:19:37.098Z"
   },
   {
    "duration": 4,
    "start_time": "2024-11-03T12:19:55.460Z"
   },
   {
    "duration": 6,
    "start_time": "2024-11-03T12:20:42.686Z"
   },
   {
    "duration": 25,
    "start_time": "2024-11-03T12:20:59.768Z"
   },
   {
    "duration": 757,
    "start_time": "2024-11-03T12:21:28.340Z"
   },
   {
    "duration": 5,
    "start_time": "2024-11-03T12:21:51.313Z"
   },
   {
    "duration": 6,
    "start_time": "2024-11-03T12:22:02.516Z"
   },
   {
    "duration": 6,
    "start_time": "2024-11-03T12:22:07.585Z"
   },
   {
    "duration": 5,
    "start_time": "2024-11-03T12:22:18.546Z"
   },
   {
    "duration": 6,
    "start_time": "2024-11-03T12:23:43.172Z"
   },
   {
    "duration": 8,
    "start_time": "2024-11-03T12:24:15.046Z"
   },
   {
    "duration": 10,
    "start_time": "2024-11-03T12:24:59.472Z"
   },
   {
    "duration": 9,
    "start_time": "2024-11-03T12:25:04.016Z"
   },
   {
    "duration": 8,
    "start_time": "2024-11-03T12:25:25.945Z"
   },
   {
    "duration": 52,
    "start_time": "2024-11-03T12:26:20.205Z"
   },
   {
    "duration": 72,
    "start_time": "2024-11-03T12:26:27.562Z"
   },
   {
    "duration": 55,
    "start_time": "2024-11-03T12:26:33.515Z"
   },
   {
    "duration": 28,
    "start_time": "2024-11-03T12:26:59.301Z"
   },
   {
    "duration": 28,
    "start_time": "2024-11-03T12:29:47.813Z"
   },
   {
    "duration": 9,
    "start_time": "2024-11-03T12:32:19.999Z"
   },
   {
    "duration": 11,
    "start_time": "2024-11-03T12:32:48.152Z"
   },
   {
    "duration": 15,
    "start_time": "2024-11-03T12:34:20.794Z"
   },
   {
    "duration": 29,
    "start_time": "2024-11-03T12:34:20.811Z"
   },
   {
    "duration": 9,
    "start_time": "2024-11-03T12:36:44.759Z"
   },
   {
    "duration": 7,
    "start_time": "2024-11-03T12:36:50.930Z"
   },
   {
    "duration": 8,
    "start_time": "2024-11-03T12:36:51.848Z"
   },
   {
    "duration": 8,
    "start_time": "2024-11-03T12:37:02.556Z"
   },
   {
    "duration": 56,
    "start_time": "2024-11-03T12:37:58.137Z"
   },
   {
    "duration": 7,
    "start_time": "2024-11-03T12:38:05.048Z"
   },
   {
    "duration": 7,
    "start_time": "2024-11-03T12:40:23.692Z"
   },
   {
    "duration": 8,
    "start_time": "2024-11-03T12:40:24.026Z"
   },
   {
    "duration": 61,
    "start_time": "2024-11-03T12:40:33.158Z"
   },
   {
    "duration": 45,
    "start_time": "2024-11-03T12:40:47.247Z"
   },
   {
    "duration": 89,
    "start_time": "2024-11-03T12:40:54.930Z"
   },
   {
    "duration": 28,
    "start_time": "2024-11-03T12:41:04.508Z"
   },
   {
    "duration": 11,
    "start_time": "2024-11-03T12:41:18.424Z"
   },
   {
    "duration": 7,
    "start_time": "2024-11-03T12:41:19.374Z"
   },
   {
    "duration": 5,
    "start_time": "2024-11-03T12:41:19.792Z"
   },
   {
    "duration": 5,
    "start_time": "2024-11-03T12:41:20.240Z"
   },
   {
    "duration": 30,
    "start_time": "2024-11-03T12:41:20.734Z"
   },
   {
    "duration": 7,
    "start_time": "2024-11-03T12:41:34.097Z"
   },
   {
    "duration": 8,
    "start_time": "2024-11-03T12:41:34.766Z"
   },
   {
    "duration": 50,
    "start_time": "2024-11-03T12:42:12.751Z"
   },
   {
    "duration": 8,
    "start_time": "2024-11-03T12:45:09.111Z"
   },
   {
    "duration": 7,
    "start_time": "2024-11-03T12:45:14.438Z"
   },
   {
    "duration": 15,
    "start_time": "2024-11-03T12:45:36.603Z"
   },
   {
    "duration": 55,
    "start_time": "2024-11-03T12:47:08.023Z"
   },
   {
    "duration": 5,
    "start_time": "2024-11-03T12:48:01.059Z"
   },
   {
    "duration": 24,
    "start_time": "2024-11-03T12:48:08.286Z"
   },
   {
    "duration": 7,
    "start_time": "2024-11-03T12:48:40.456Z"
   },
   {
    "duration": 725,
    "start_time": "2024-11-03T12:49:40.881Z"
   },
   {
    "duration": 6,
    "start_time": "2024-11-03T12:49:56.246Z"
   },
   {
    "duration": 710,
    "start_time": "2024-11-03T12:49:57.387Z"
   },
   {
    "duration": 11,
    "start_time": "2024-11-03T12:50:21.040Z"
   },
   {
    "duration": 10,
    "start_time": "2024-11-03T12:50:37.237Z"
   },
   {
    "duration": 6,
    "start_time": "2024-11-03T12:50:38.337Z"
   },
   {
    "duration": 3,
    "start_time": "2024-11-03T12:51:16.202Z"
   },
   {
    "duration": 4,
    "start_time": "2024-11-03T12:52:09.101Z"
   },
   {
    "duration": 28,
    "start_time": "2024-11-03T12:54:09.510Z"
   },
   {
    "duration": 11,
    "start_time": "2024-11-03T12:55:05.021Z"
   },
   {
    "duration": 4,
    "start_time": "2024-11-03T12:55:05.405Z"
   },
   {
    "duration": 28,
    "start_time": "2024-11-03T12:55:05.823Z"
   },
   {
    "duration": 48,
    "start_time": "2024-11-03T12:58:21.901Z"
   },
   {
    "duration": 7,
    "start_time": "2024-11-03T12:58:34.734Z"
   },
   {
    "duration": 4,
    "start_time": "2024-11-03T12:58:35.785Z"
   },
   {
    "duration": 2,
    "start_time": "2024-11-03T12:59:39.523Z"
   },
   {
    "duration": 8,
    "start_time": "2024-11-03T13:00:16.418Z"
   },
   {
    "duration": 3,
    "start_time": "2024-11-03T13:18:35.413Z"
   },
   {
    "duration": 77,
    "start_time": "2024-11-03T13:18:36.119Z"
   },
   {
    "duration": 4,
    "start_time": "2024-11-03T13:18:37.376Z"
   },
   {
    "duration": 14,
    "start_time": "2024-11-03T13:18:38.078Z"
   },
   {
    "duration": 12,
    "start_time": "2024-11-03T13:18:38.792Z"
   },
   {
    "duration": 12,
    "start_time": "2024-11-03T13:18:39.915Z"
   },
   {
    "duration": 3,
    "start_time": "2024-11-03T13:18:42.110Z"
   },
   {
    "duration": 9,
    "start_time": "2024-11-03T13:18:42.881Z"
   },
   {
    "duration": 3,
    "start_time": "2024-11-03T13:19:09.547Z"
   },
   {
    "duration": 12,
    "start_time": "2024-11-03T13:19:10.482Z"
   },
   {
    "duration": 4,
    "start_time": "2024-11-03T13:19:11.594Z"
   },
   {
    "duration": 13,
    "start_time": "2024-11-03T13:19:13.177Z"
   },
   {
    "duration": 12,
    "start_time": "2024-11-03T13:19:16.638Z"
   },
   {
    "duration": 8,
    "start_time": "2024-11-03T13:19:17.394Z"
   },
   {
    "duration": 5,
    "start_time": "2024-11-03T13:19:17.929Z"
   },
   {
    "duration": 4,
    "start_time": "2024-11-03T13:19:20.133Z"
   },
   {
    "duration": 4,
    "start_time": "2024-11-03T13:19:20.817Z"
   },
   {
    "duration": 3,
    "start_time": "2024-11-03T13:19:22.233Z"
   },
   {
    "duration": 3,
    "start_time": "2024-11-03T13:19:22.839Z"
   },
   {
    "duration": 7,
    "start_time": "2024-11-03T13:19:23.487Z"
   },
   {
    "duration": 5,
    "start_time": "2024-11-03T13:19:24.270Z"
   },
   {
    "duration": 13,
    "start_time": "2024-11-03T13:19:26.215Z"
   },
   {
    "duration": 9,
    "start_time": "2024-11-03T13:19:28.274Z"
   },
   {
    "duration": 14,
    "start_time": "2024-11-03T13:19:29.482Z"
   },
   {
    "duration": 9,
    "start_time": "2024-11-03T13:19:30.246Z"
   },
   {
    "duration": 7,
    "start_time": "2024-11-03T13:19:31.193Z"
   },
   {
    "duration": 314,
    "start_time": "2024-11-03T13:19:32.037Z"
   },
   {
    "duration": 4,
    "start_time": "2024-11-03T13:19:45.110Z"
   },
   {
    "duration": 318,
    "start_time": "2024-11-03T13:19:45.753Z"
   },
   {
    "duration": 4,
    "start_time": "2024-11-03T13:19:48.956Z"
   },
   {
    "duration": 425,
    "start_time": "2024-11-03T13:19:49.931Z"
   },
   {
    "duration": 6,
    "start_time": "2024-11-03T13:19:53.241Z"
   },
   {
    "duration": 324,
    "start_time": "2024-11-03T13:19:53.978Z"
   },
   {
    "duration": 403,
    "start_time": "2024-11-03T13:19:56.613Z"
   },
   {
    "duration": 8,
    "start_time": "2024-11-03T13:20:04.821Z"
   },
   {
    "duration": 166,
    "start_time": "2024-11-03T13:20:06.088Z"
   },
   {
    "duration": 4,
    "start_time": "2024-11-03T13:20:08.665Z"
   },
   {
    "duration": 157,
    "start_time": "2024-11-03T13:20:10.294Z"
   },
   {
    "duration": 262,
    "start_time": "2024-11-03T13:20:16.201Z"
   },
   {
    "duration": 176,
    "start_time": "2024-11-03T13:20:18.553Z"
   },
   {
    "duration": 263,
    "start_time": "2024-11-03T13:20:25.016Z"
   },
   {
    "duration": 4,
    "start_time": "2024-11-03T13:20:30.241Z"
   },
   {
    "duration": 279,
    "start_time": "2024-11-03T13:20:31.882Z"
   },
   {
    "duration": 10,
    "start_time": "2024-11-03T13:20:43.659Z"
   },
   {
    "duration": 11,
    "start_time": "2024-11-03T13:20:45.241Z"
   },
   {
    "duration": 7,
    "start_time": "2024-11-03T13:20:47.295Z"
   },
   {
    "duration": 3,
    "start_time": "2024-11-03T13:20:47.881Z"
   },
   {
    "duration": 10,
    "start_time": "2024-11-03T13:20:56.260Z"
   },
   {
    "duration": 7,
    "start_time": "2024-11-03T13:20:57.734Z"
   },
   {
    "duration": 3,
    "start_time": "2024-11-03T13:20:58.530Z"
   },
   {
    "duration": 4,
    "start_time": "2024-11-03T13:20:59.136Z"
   },
   {
    "duration": 27,
    "start_time": "2024-11-03T13:20:59.806Z"
   },
   {
    "duration": 7,
    "start_time": "2024-11-03T13:21:09.080Z"
   },
   {
    "duration": 7,
    "start_time": "2024-11-03T13:21:21.964Z"
   },
   {
    "duration": 7,
    "start_time": "2024-11-03T13:21:22.517Z"
   },
   {
    "duration": 3,
    "start_time": "2024-11-03T13:21:24.075Z"
   },
   {
    "duration": 3,
    "start_time": "2024-11-03T13:21:24.882Z"
   },
   {
    "duration": 28,
    "start_time": "2024-11-03T13:21:25.576Z"
   },
   {
    "duration": 4,
    "start_time": "2024-11-03T13:22:27.776Z"
   },
   {
    "duration": 3,
    "start_time": "2024-11-03T13:22:36.125Z"
   },
   {
    "duration": 7,
    "start_time": "2024-11-03T13:22:36.461Z"
   },
   {
    "duration": 1891,
    "start_time": "2024-11-03T13:35:01.753Z"
   },
   {
    "duration": 230,
    "start_time": "2024-11-03T13:35:03.645Z"
   },
   {
    "duration": 3,
    "start_time": "2024-11-03T13:35:03.877Z"
   },
   {
    "duration": 28,
    "start_time": "2024-11-03T13:35:03.882Z"
   },
   {
    "duration": 12,
    "start_time": "2024-11-03T13:35:03.911Z"
   },
   {
    "duration": 9,
    "start_time": "2024-11-03T13:35:03.924Z"
   },
   {
    "duration": 6,
    "start_time": "2024-11-03T13:35:03.934Z"
   },
   {
    "duration": 9,
    "start_time": "2024-11-03T13:35:03.942Z"
   },
   {
    "duration": 3,
    "start_time": "2024-11-03T13:35:03.953Z"
   },
   {
    "duration": 15,
    "start_time": "2024-11-03T13:35:03.959Z"
   },
   {
    "duration": 4,
    "start_time": "2024-11-03T13:35:03.976Z"
   },
   {
    "duration": 31,
    "start_time": "2024-11-03T13:35:03.981Z"
   },
   {
    "duration": 12,
    "start_time": "2024-11-03T13:35:04.014Z"
   },
   {
    "duration": 8,
    "start_time": "2024-11-03T13:35:04.027Z"
   },
   {
    "duration": 22,
    "start_time": "2024-11-03T13:35:04.036Z"
   },
   {
    "duration": 4,
    "start_time": "2024-11-03T13:35:04.059Z"
   },
   {
    "duration": 14,
    "start_time": "2024-11-03T13:35:04.064Z"
   },
   {
    "duration": 21,
    "start_time": "2024-11-03T13:35:04.080Z"
   },
   {
    "duration": 6,
    "start_time": "2024-11-03T13:35:04.102Z"
   },
   {
    "duration": 9,
    "start_time": "2024-11-03T13:35:04.109Z"
   },
   {
    "duration": 21,
    "start_time": "2024-11-03T13:35:04.120Z"
   },
   {
    "duration": 12,
    "start_time": "2024-11-03T13:35:04.143Z"
   },
   {
    "duration": 8,
    "start_time": "2024-11-03T13:35:04.156Z"
   },
   {
    "duration": 12,
    "start_time": "2024-11-03T13:35:04.165Z"
   },
   {
    "duration": 22,
    "start_time": "2024-11-03T13:35:04.178Z"
   },
   {
    "duration": 11,
    "start_time": "2024-11-03T13:35:04.201Z"
   },
   {
    "duration": 318,
    "start_time": "2024-11-03T13:35:04.213Z"
   },
   {
    "duration": 4,
    "start_time": "2024-11-03T13:35:04.535Z"
   },
   {
    "duration": 301,
    "start_time": "2024-11-03T13:35:04.540Z"
   },
   {
    "duration": 3,
    "start_time": "2024-11-03T13:35:04.842Z"
   },
   {
    "duration": 421,
    "start_time": "2024-11-03T13:35:04.847Z"
   },
   {
    "duration": 5,
    "start_time": "2024-11-03T13:35:05.269Z"
   },
   {
    "duration": 333,
    "start_time": "2024-11-03T13:35:05.275Z"
   },
   {
    "duration": 401,
    "start_time": "2024-11-03T13:35:05.609Z"
   },
   {
    "duration": 8,
    "start_time": "2024-11-03T13:35:06.012Z"
   },
   {
    "duration": 175,
    "start_time": "2024-11-03T13:35:06.021Z"
   },
   {
    "duration": 3,
    "start_time": "2024-11-03T13:35:06.198Z"
   },
   {
    "duration": 166,
    "start_time": "2024-11-03T13:35:06.202Z"
   },
   {
    "duration": 267,
    "start_time": "2024-11-03T13:35:06.370Z"
   },
   {
    "duration": 111,
    "start_time": "2024-11-03T13:35:06.638Z"
   },
   {
    "duration": 316,
    "start_time": "2024-11-03T13:35:06.751Z"
   },
   {
    "duration": 4,
    "start_time": "2024-11-03T13:35:07.068Z"
   },
   {
    "duration": 280,
    "start_time": "2024-11-03T13:35:07.073Z"
   },
   {
    "duration": 9,
    "start_time": "2024-11-03T13:35:07.357Z"
   },
   {
    "duration": 19,
    "start_time": "2024-11-03T13:35:07.368Z"
   },
   {
    "duration": 6,
    "start_time": "2024-11-03T13:35:07.388Z"
   },
   {
    "duration": 5,
    "start_time": "2024-11-03T13:35:07.395Z"
   },
   {
    "duration": 8,
    "start_time": "2024-11-03T13:35:07.402Z"
   },
   {
    "duration": 24,
    "start_time": "2024-11-03T13:35:07.411Z"
   },
   {
    "duration": 22,
    "start_time": "2024-11-03T13:35:07.436Z"
   },
   {
    "duration": 8,
    "start_time": "2024-11-03T13:35:07.459Z"
   },
   {
    "duration": 27,
    "start_time": "2024-11-03T13:35:07.468Z"
   },
   {
    "duration": 37,
    "start_time": "2024-11-03T13:35:07.496Z"
   },
   {
    "duration": 4,
    "start_time": "2024-11-03T13:35:07.535Z"
   },
   {
    "duration": 3,
    "start_time": "2024-11-03T13:35:07.540Z"
   },
   {
    "duration": 22,
    "start_time": "2024-11-03T13:35:07.545Z"
   },
   {
    "duration": 3,
    "start_time": "2024-11-03T13:35:07.568Z"
   },
   {
    "duration": 7,
    "start_time": "2024-11-03T13:35:07.572Z"
   },
   {
    "duration": 1210,
    "start_time": "2024-11-03T13:35:40.156Z"
   },
   {
    "duration": 103,
    "start_time": "2024-11-03T13:35:41.368Z"
   },
   {
    "duration": 2,
    "start_time": "2024-11-03T13:35:41.473Z"
   },
   {
    "duration": 32,
    "start_time": "2024-11-03T13:35:41.477Z"
   },
   {
    "duration": 52,
    "start_time": "2024-11-03T13:35:41.510Z"
   },
   {
    "duration": 28,
    "start_time": "2024-11-03T13:35:41.564Z"
   },
   {
    "duration": 3,
    "start_time": "2024-11-03T13:35:41.594Z"
   },
   {
    "duration": 65,
    "start_time": "2024-11-03T13:35:41.599Z"
   },
   {
    "duration": 3,
    "start_time": "2024-11-03T13:35:41.665Z"
   },
   {
    "duration": 27,
    "start_time": "2024-11-03T13:35:41.671Z"
   },
   {
    "duration": 4,
    "start_time": "2024-11-03T13:35:41.699Z"
   },
   {
    "duration": 63,
    "start_time": "2024-11-03T13:35:41.705Z"
   },
   {
    "duration": 16,
    "start_time": "2024-11-03T13:35:41.770Z"
   },
   {
    "duration": 8,
    "start_time": "2024-11-03T13:35:41.787Z"
   },
   {
    "duration": 8,
    "start_time": "2024-11-03T13:35:41.797Z"
   },
   {
    "duration": 52,
    "start_time": "2024-11-03T13:35:41.807Z"
   },
   {
    "duration": 14,
    "start_time": "2024-11-03T13:35:41.861Z"
   },
   {
    "duration": 10,
    "start_time": "2024-11-03T13:35:41.877Z"
   },
   {
    "duration": 12,
    "start_time": "2024-11-03T13:35:41.889Z"
   },
   {
    "duration": 15,
    "start_time": "2024-11-03T13:35:41.902Z"
   },
   {
    "duration": 42,
    "start_time": "2024-11-03T13:35:41.918Z"
   },
   {
    "duration": 23,
    "start_time": "2024-11-03T13:35:41.961Z"
   },
   {
    "duration": 10,
    "start_time": "2024-11-03T13:35:41.986Z"
   },
   {
    "duration": 65,
    "start_time": "2024-11-03T13:35:41.997Z"
   },
   {
    "duration": 8,
    "start_time": "2024-11-03T13:35:42.063Z"
   },
   {
    "duration": 8,
    "start_time": "2024-11-03T13:35:42.073Z"
   },
   {
    "duration": 513,
    "start_time": "2024-11-03T13:35:42.083Z"
   },
   {
    "duration": 4,
    "start_time": "2024-11-03T13:35:42.600Z"
   },
   {
    "duration": 328,
    "start_time": "2024-11-03T13:35:42.605Z"
   },
   {
    "duration": 3,
    "start_time": "2024-11-03T13:35:42.935Z"
   },
   {
    "duration": 393,
    "start_time": "2024-11-03T13:35:42.939Z"
   },
   {
    "duration": 6,
    "start_time": "2024-11-03T13:35:43.333Z"
   },
   {
    "duration": 356,
    "start_time": "2024-11-03T13:35:43.340Z"
   },
   {
    "duration": 396,
    "start_time": "2024-11-03T13:35:43.697Z"
   },
   {
    "duration": 7,
    "start_time": "2024-11-03T13:35:44.094Z"
   },
   {
    "duration": 176,
    "start_time": "2024-11-03T13:35:44.103Z"
   },
   {
    "duration": 4,
    "start_time": "2024-11-03T13:35:44.281Z"
   },
   {
    "duration": 185,
    "start_time": "2024-11-03T13:35:44.287Z"
   },
   {
    "duration": 260,
    "start_time": "2024-11-03T13:35:44.473Z"
   },
   {
    "duration": 133,
    "start_time": "2024-11-03T13:35:44.734Z"
   },
   {
    "duration": 316,
    "start_time": "2024-11-03T13:35:44.868Z"
   },
   {
    "duration": 3,
    "start_time": "2024-11-03T13:35:45.186Z"
   },
   {
    "duration": 331,
    "start_time": "2024-11-03T13:35:45.191Z"
   },
   {
    "duration": 10,
    "start_time": "2024-11-03T13:35:45.523Z"
   },
   {
    "duration": 19,
    "start_time": "2024-11-03T13:35:45.534Z"
   },
   {
    "duration": 14,
    "start_time": "2024-11-03T13:35:45.557Z"
   },
   {
    "duration": 6,
    "start_time": "2024-11-03T13:35:45.572Z"
   },
   {
    "duration": 4,
    "start_time": "2024-11-03T13:35:45.579Z"
   },
   {
    "duration": 30,
    "start_time": "2024-11-03T13:35:45.584Z"
   },
   {
    "duration": 6,
    "start_time": "2024-11-03T13:35:45.615Z"
   },
   {
    "duration": 6,
    "start_time": "2024-11-03T13:35:45.622Z"
   },
   {
    "duration": 11,
    "start_time": "2024-11-03T13:35:45.629Z"
   },
   {
    "duration": 15,
    "start_time": "2024-11-03T13:35:45.642Z"
   },
   {
    "duration": 8,
    "start_time": "2024-11-03T13:35:45.658Z"
   },
   {
    "duration": 3,
    "start_time": "2024-11-03T13:35:45.667Z"
   },
   {
    "duration": 23,
    "start_time": "2024-11-03T13:35:45.672Z"
   },
   {
    "duration": 2,
    "start_time": "2024-11-03T13:35:45.697Z"
   },
   {
    "duration": 6,
    "start_time": "2024-11-03T13:35:45.700Z"
   },
   {
    "duration": 1370,
    "start_time": "2024-11-04T11:13:44.178Z"
   },
   {
    "duration": 282,
    "start_time": "2024-11-04T11:13:46.360Z"
   },
   {
    "duration": 3,
    "start_time": "2024-11-04T11:13:47.877Z"
   },
   {
    "duration": 15,
    "start_time": "2024-11-04T11:13:48.401Z"
   },
   {
    "duration": 13,
    "start_time": "2024-11-04T11:13:49.942Z"
   },
   {
    "duration": 13,
    "start_time": "2024-11-04T11:13:52.991Z"
   },
   {
    "duration": 2,
    "start_time": "2024-11-04T11:13:58.135Z"
   },
   {
    "duration": 10,
    "start_time": "2024-11-04T11:13:58.806Z"
   },
   {
    "duration": 2,
    "start_time": "2024-11-04T11:14:00.979Z"
   },
   {
    "duration": 9,
    "start_time": "2024-11-04T11:14:11.691Z"
   },
   {
    "duration": 2,
    "start_time": "2024-11-04T11:14:16.854Z"
   },
   {
    "duration": 15,
    "start_time": "2024-11-04T11:14:17.517Z"
   },
   {
    "duration": 4,
    "start_time": "2024-11-04T11:14:19.159Z"
   },
   {
    "duration": 14,
    "start_time": "2024-11-04T11:14:19.883Z"
   },
   {
    "duration": 2,
    "start_time": "2024-11-04T11:27:18.124Z"
   },
   {
    "duration": 8,
    "start_time": "2024-11-04T11:30:16.438Z"
   },
   {
    "duration": 5,
    "start_time": "2024-11-04T11:30:17.311Z"
   },
   {
    "duration": 4,
    "start_time": "2024-11-04T11:30:29.223Z"
   },
   {
    "duration": 4,
    "start_time": "2024-11-04T11:30:29.839Z"
   },
   {
    "duration": 3,
    "start_time": "2024-11-04T11:30:32.932Z"
   },
   {
    "duration": 99,
    "start_time": "2024-11-04T11:32:24.056Z"
   },
   {
    "duration": 9,
    "start_time": "2024-11-04T11:32:37.331Z"
   },
   {
    "duration": 11,
    "start_time": "2024-11-04T11:33:02.564Z"
   },
   {
    "duration": 10,
    "start_time": "2024-11-04T11:33:10.010Z"
   },
   {
    "duration": 6,
    "start_time": "2024-11-04T11:33:27.036Z"
   },
   {
    "duration": 6,
    "start_time": "2024-11-04T11:33:42.035Z"
   },
   {
    "duration": 8,
    "start_time": "2024-11-04T11:34:46.561Z"
   },
   {
    "duration": 3,
    "start_time": "2024-11-04T11:40:37.822Z"
   },
   {
    "duration": 4,
    "start_time": "2024-11-04T11:40:40.528Z"
   },
   {
    "duration": 3,
    "start_time": "2024-11-04T11:40:41.897Z"
   },
   {
    "duration": 8,
    "start_time": "2024-11-04T11:41:34.292Z"
   },
   {
    "duration": 4,
    "start_time": "2024-11-04T11:41:38.793Z"
   },
   {
    "duration": 8,
    "start_time": "2024-11-04T11:42:23.908Z"
   },
   {
    "duration": 4,
    "start_time": "2024-11-04T11:42:49.727Z"
   },
   {
    "duration": 8,
    "start_time": "2024-11-04T11:42:50.654Z"
   },
   {
    "duration": 8,
    "start_time": "2024-11-04T11:43:20.777Z"
   },
   {
    "duration": 8,
    "start_time": "2024-11-04T11:44:00.674Z"
   },
   {
    "duration": 8,
    "start_time": "2024-11-04T11:44:05.123Z"
   },
   {
    "duration": 8,
    "start_time": "2024-11-04T11:44:05.766Z"
   },
   {
    "duration": 8,
    "start_time": "2024-11-04T11:44:27.490Z"
   },
   {
    "duration": 8,
    "start_time": "2024-11-04T11:44:29.248Z"
   },
   {
    "duration": 8,
    "start_time": "2024-11-04T11:45:30.790Z"
   },
   {
    "duration": 9,
    "start_time": "2024-11-04T11:45:31.509Z"
   },
   {
    "duration": 4,
    "start_time": "2024-11-04T11:45:32.957Z"
   },
   {
    "duration": 2,
    "start_time": "2024-11-04T11:45:33.568Z"
   },
   {
    "duration": 2,
    "start_time": "2024-11-04T11:45:34.179Z"
   },
   {
    "duration": 7,
    "start_time": "2024-11-04T11:45:34.884Z"
   },
   {
    "duration": 9,
    "start_time": "2024-11-04T11:46:07.936Z"
   },
   {
    "duration": 2,
    "start_time": "2024-11-04T11:46:11.874Z"
   },
   {
    "duration": 4,
    "start_time": "2024-11-04T11:46:12.541Z"
   },
   {
    "duration": 8,
    "start_time": "2024-11-04T11:46:13.378Z"
   },
   {
    "duration": 9,
    "start_time": "2024-11-04T11:48:38.838Z"
   },
   {
    "duration": 8,
    "start_time": "2024-11-04T11:48:45.022Z"
   },
   {
    "duration": 9,
    "start_time": "2024-11-04T11:48:47.930Z"
   },
   {
    "duration": 5,
    "start_time": "2024-11-04T11:48:48.710Z"
   },
   {
    "duration": 18,
    "start_time": "2024-11-04T11:49:06.664Z"
   },
   {
    "duration": 14,
    "start_time": "2024-11-04T11:49:09.189Z"
   },
   {
    "duration": 15,
    "start_time": "2024-11-04T11:49:11.943Z"
   },
   {
    "duration": 10,
    "start_time": "2024-11-04T11:49:12.908Z"
   },
   {
    "duration": 7,
    "start_time": "2024-11-04T11:49:15.768Z"
   },
   {
    "duration": 354,
    "start_time": "2024-11-04T11:49:16.344Z"
   },
   {
    "duration": 5,
    "start_time": "2024-11-04T11:49:18.702Z"
   },
   {
    "duration": 350,
    "start_time": "2024-11-04T11:49:19.335Z"
   },
   {
    "duration": 5,
    "start_time": "2024-11-04T11:49:31.367Z"
   },
   {
    "duration": 487,
    "start_time": "2024-11-04T11:49:32.082Z"
   },
   {
    "duration": 6,
    "start_time": "2024-11-04T11:49:36.219Z"
   },
   {
    "duration": 371,
    "start_time": "2024-11-04T11:49:36.971Z"
   },
   {
    "duration": 3,
    "start_time": "2024-11-04T11:50:46.560Z"
   },
   {
    "duration": 58,
    "start_time": "2024-11-04T11:51:49.734Z"
   },
   {
    "duration": 441,
    "start_time": "2024-11-04T11:51:55.245Z"
   },
   {
    "duration": 488,
    "start_time": "2024-11-04T11:52:05.340Z"
   },
   {
    "duration": 453,
    "start_time": "2024-11-04T11:52:21.422Z"
   },
   {
    "duration": 5,
    "start_time": "2024-11-04T11:54:35.843Z"
   },
   {
    "duration": 344,
    "start_time": "2024-11-04T11:54:36.808Z"
   },
   {
    "duration": 4,
    "start_time": "2024-11-04T11:55:27.152Z"
   },
   {
    "duration": 8,
    "start_time": "2024-11-04T11:55:28.653Z"
   },
   {
    "duration": 3,
    "start_time": "2024-11-04T11:55:29.649Z"
   },
   {
    "duration": 8,
    "start_time": "2024-11-04T11:55:30.902Z"
   },
   {
    "duration": 9,
    "start_time": "2024-11-04T11:55:37.955Z"
   },
   {
    "duration": 2,
    "start_time": "2024-11-04T11:55:39.401Z"
   },
   {
    "duration": 16,
    "start_time": "2024-11-04T11:55:41.274Z"
   },
   {
    "duration": 14,
    "start_time": "2024-11-04T11:56:13.799Z"
   },
   {
    "duration": 11,
    "start_time": "2024-11-04T11:58:04.325Z"
   },
   {
    "duration": 715,
    "start_time": "2024-11-04T11:59:45.280Z"
   },
   {
    "duration": 781,
    "start_time": "2024-11-04T11:59:47.026Z"
   },
   {
    "duration": 743,
    "start_time": "2024-11-04T12:00:03.389Z"
   },
   {
    "duration": 710,
    "start_time": "2024-11-04T12:00:04.397Z"
   },
   {
    "duration": 800,
    "start_time": "2024-11-04T12:00:09.353Z"
   },
   {
    "duration": 3,
    "start_time": "2024-11-04T12:00:22.250Z"
   },
   {
    "duration": 92,
    "start_time": "2024-11-04T12:00:22.659Z"
   },
   {
    "duration": 3,
    "start_time": "2024-11-04T12:00:23.462Z"
   },
   {
    "duration": 13,
    "start_time": "2024-11-04T12:00:23.707Z"
   },
   {
    "duration": 15,
    "start_time": "2024-11-04T12:00:23.987Z"
   },
   {
    "duration": 13,
    "start_time": "2024-11-04T12:00:24.292Z"
   },
   {
    "duration": 2,
    "start_time": "2024-11-04T12:00:25.256Z"
   },
   {
    "duration": 9,
    "start_time": "2024-11-04T12:00:25.619Z"
   },
   {
    "duration": 2,
    "start_time": "2024-11-04T12:00:27.357Z"
   },
   {
    "duration": 12,
    "start_time": "2024-11-04T12:00:27.666Z"
   },
   {
    "duration": 4,
    "start_time": "2024-11-04T12:00:27.974Z"
   },
   {
    "duration": 16,
    "start_time": "2024-11-04T12:00:28.568Z"
   },
   {
    "duration": 2,
    "start_time": "2024-11-04T12:00:30.408Z"
   },
   {
    "duration": 3,
    "start_time": "2024-11-04T12:00:30.781Z"
   },
   {
    "duration": 7,
    "start_time": "2024-11-04T12:00:31.161Z"
   },
   {
    "duration": 8,
    "start_time": "2024-11-04T12:00:31.659Z"
   },
   {
    "duration": 4,
    "start_time": "2024-11-04T12:00:32.567Z"
   },
   {
    "duration": 2,
    "start_time": "2024-11-04T12:00:32.970Z"
   },
   {
    "duration": 3,
    "start_time": "2024-11-04T12:00:33.370Z"
   },
   {
    "duration": 4,
    "start_time": "2024-11-04T12:00:33.779Z"
   },
   {
    "duration": 8,
    "start_time": "2024-11-04T12:00:34.172Z"
   },
   {
    "duration": 3,
    "start_time": "2024-11-04T12:00:34.575Z"
   },
   {
    "duration": 7,
    "start_time": "2024-11-04T12:00:35.618Z"
   },
   {
    "duration": 8,
    "start_time": "2024-11-04T12:00:36.170Z"
   },
   {
    "duration": 2,
    "start_time": "2024-11-04T12:00:36.629Z"
   },
   {
    "duration": 15,
    "start_time": "2024-11-04T12:00:38.050Z"
   },
   {
    "duration": 10,
    "start_time": "2024-11-04T12:00:38.626Z"
   },
   {
    "duration": 18,
    "start_time": "2024-11-04T12:00:39.212Z"
   },
   {
    "duration": 10,
    "start_time": "2024-11-04T12:00:39.807Z"
   },
   {
    "duration": 88,
    "start_time": "2024-11-04T12:00:40.362Z"
   },
   {
    "duration": 319,
    "start_time": "2024-11-04T12:00:41.014Z"
   },
   {
    "duration": 5,
    "start_time": "2024-11-04T12:00:43.644Z"
   },
   {
    "duration": 339,
    "start_time": "2024-11-04T12:00:44.393Z"
   },
   {
    "duration": 3,
    "start_time": "2024-11-04T12:00:47.090Z"
   },
   {
    "duration": 440,
    "start_time": "2024-11-04T12:00:47.854Z"
   },
   {
    "duration": 9,
    "start_time": "2024-11-04T12:00:50.186Z"
   },
   {
    "duration": 346,
    "start_time": "2024-11-04T12:00:51.276Z"
   },
   {
    "duration": 6,
    "start_time": "2024-11-04T12:03:03.769Z"
   },
   {
    "duration": 5,
    "start_time": "2024-11-04T12:03:16.388Z"
   },
   {
    "duration": 4,
    "start_time": "2024-11-04T12:03:25.658Z"
   },
   {
    "duration": 366,
    "start_time": "2024-11-04T12:03:27.037Z"
   },
   {
    "duration": 729,
    "start_time": "2024-11-04T12:04:07.187Z"
   },
   {
    "duration": 3,
    "start_time": "2024-11-04T12:04:20.530Z"
   },
   {
    "duration": 92,
    "start_time": "2024-11-04T12:04:20.950Z"
   },
   {
    "duration": 3,
    "start_time": "2024-11-04T12:04:21.718Z"
   },
   {
    "duration": 13,
    "start_time": "2024-11-04T12:04:21.953Z"
   },
   {
    "duration": 16,
    "start_time": "2024-11-04T12:04:22.152Z"
   },
   {
    "duration": 14,
    "start_time": "2024-11-04T12:04:22.344Z"
   },
   {
    "duration": 3,
    "start_time": "2024-11-04T12:04:22.987Z"
   },
   {
    "duration": 10,
    "start_time": "2024-11-04T12:04:23.180Z"
   },
   {
    "duration": 3,
    "start_time": "2024-11-04T12:04:23.994Z"
   },
   {
    "duration": 12,
    "start_time": "2024-11-04T12:04:24.221Z"
   },
   {
    "duration": 4,
    "start_time": "2024-11-04T12:04:24.474Z"
   },
   {
    "duration": 12,
    "start_time": "2024-11-04T12:04:25.118Z"
   },
   {
    "duration": 2,
    "start_time": "2024-11-04T12:04:26.907Z"
   },
   {
    "duration": 3,
    "start_time": "2024-11-04T12:04:27.203Z"
   },
   {
    "duration": 7,
    "start_time": "2024-11-04T12:04:27.490Z"
   },
   {
    "duration": 7,
    "start_time": "2024-11-04T12:04:27.807Z"
   },
   {
    "duration": 4,
    "start_time": "2024-11-04T12:04:28.454Z"
   },
   {
    "duration": 3,
    "start_time": "2024-11-04T12:04:28.791Z"
   },
   {
    "duration": 2,
    "start_time": "2024-11-04T12:04:29.113Z"
   },
   {
    "duration": 4,
    "start_time": "2024-11-04T12:04:29.467Z"
   },
   {
    "duration": 9,
    "start_time": "2024-11-04T12:04:29.797Z"
   },
   {
    "duration": 2,
    "start_time": "2024-11-04T12:04:30.159Z"
   },
   {
    "duration": 7,
    "start_time": "2024-11-04T12:04:30.820Z"
   },
   {
    "duration": 8,
    "start_time": "2024-11-04T12:04:31.116Z"
   },
   {
    "duration": 2,
    "start_time": "2024-11-04T12:04:31.466Z"
   },
   {
    "duration": 16,
    "start_time": "2024-11-04T12:04:32.578Z"
   },
   {
    "duration": 10,
    "start_time": "2024-11-04T12:04:33.059Z"
   },
   {
    "duration": 14,
    "start_time": "2024-11-04T12:04:33.438Z"
   },
   {
    "duration": 10,
    "start_time": "2024-11-04T12:04:33.833Z"
   },
   {
    "duration": 5,
    "start_time": "2024-11-04T12:04:35.701Z"
   },
   {
    "duration": 360,
    "start_time": "2024-11-04T12:04:37.131Z"
   },
   {
    "duration": 5,
    "start_time": "2024-11-04T12:04:41.275Z"
   },
   {
    "duration": 340,
    "start_time": "2024-11-04T12:04:41.745Z"
   },
   {
    "duration": 4,
    "start_time": "2024-11-04T12:04:46.549Z"
   },
   {
    "duration": 415,
    "start_time": "2024-11-04T12:04:46.942Z"
   },
   {
    "duration": 5,
    "start_time": "2024-11-04T12:05:06.729Z"
   },
   {
    "duration": 375,
    "start_time": "2024-11-04T12:05:07.541Z"
   },
   {
    "duration": 5,
    "start_time": "2024-11-04T12:05:23.235Z"
   },
   {
    "duration": 422,
    "start_time": "2024-11-04T12:05:23.876Z"
   },
   {
    "duration": 8,
    "start_time": "2024-11-04T12:07:30.881Z"
   },
   {
    "duration": 5,
    "start_time": "2024-11-04T12:07:33.800Z"
   },
   {
    "duration": 359,
    "start_time": "2024-11-04T12:07:34.383Z"
   },
   {
    "duration": 5,
    "start_time": "2024-11-04T12:07:50.736Z"
   },
   {
    "duration": 449,
    "start_time": "2024-11-04T12:07:51.435Z"
   },
   {
    "duration": 15,
    "start_time": "2024-11-04T12:10:43.042Z"
   },
   {
    "duration": 5,
    "start_time": "2024-11-04T12:13:57.509Z"
   },
   {
    "duration": 369,
    "start_time": "2024-11-04T12:14:02.152Z"
   },
   {
    "duration": 6,
    "start_time": "2024-11-04T12:14:10.989Z"
   },
   {
    "duration": 351,
    "start_time": "2024-11-04T12:14:11.895Z"
   },
   {
    "duration": 6,
    "start_time": "2024-11-04T12:15:07.318Z"
   },
   {
    "duration": 340,
    "start_time": "2024-11-04T12:15:10.043Z"
   },
   {
    "duration": 6,
    "start_time": "2024-11-04T12:15:25.377Z"
   },
   {
    "duration": 366,
    "start_time": "2024-11-04T12:15:26.054Z"
   },
   {
    "duration": 6,
    "start_time": "2024-11-04T12:15:34.470Z"
   },
   {
    "duration": 351,
    "start_time": "2024-11-04T12:15:35.251Z"
   },
   {
    "duration": 5,
    "start_time": "2024-11-04T12:15:49.105Z"
   },
   {
    "duration": 371,
    "start_time": "2024-11-04T12:15:49.807Z"
   },
   {
    "duration": 5,
    "start_time": "2024-11-04T12:15:58.249Z"
   },
   {
    "duration": 370,
    "start_time": "2024-11-04T12:15:58.898Z"
   },
   {
    "duration": 6,
    "start_time": "2024-11-04T12:16:46.407Z"
   },
   {
    "duration": 345,
    "start_time": "2024-11-04T12:16:46.884Z"
   },
   {
    "duration": 16,
    "start_time": "2024-11-04T12:17:43.162Z"
   },
   {
    "duration": 94,
    "start_time": "2024-11-04T12:18:03.109Z"
   },
   {
    "duration": 11,
    "start_time": "2024-11-04T12:18:17.042Z"
   },
   {
    "duration": 11,
    "start_time": "2024-11-04T12:18:34.708Z"
   },
   {
    "duration": 108,
    "start_time": "2024-11-04T12:19:00.951Z"
   },
   {
    "duration": 13,
    "start_time": "2024-11-04T12:22:09.818Z"
   },
   {
    "duration": 4,
    "start_time": "2024-11-04T12:22:16.002Z"
   },
   {
    "duration": 5,
    "start_time": "2024-11-04T12:22:32.202Z"
   },
   {
    "duration": 4,
    "start_time": "2024-11-04T12:24:36.990Z"
   },
   {
    "duration": 5,
    "start_time": "2024-11-04T12:24:43.590Z"
   },
   {
    "duration": 37,
    "start_time": "2024-11-04T12:24:57.983Z"
   },
   {
    "duration": 35,
    "start_time": "2024-11-04T12:29:17.401Z"
   },
   {
    "duration": 13,
    "start_time": "2024-11-04T12:30:45.563Z"
   },
   {
    "duration": 4,
    "start_time": "2024-11-04T12:30:56.917Z"
   },
   {
    "duration": 23,
    "start_time": "2024-11-04T12:31:05.875Z"
   },
   {
    "duration": 40,
    "start_time": "2024-11-04T12:31:13.370Z"
   },
   {
    "duration": 65,
    "start_time": "2024-11-04T12:31:20.339Z"
   },
   {
    "duration": 58,
    "start_time": "2024-11-04T12:31:46.662Z"
   },
   {
    "duration": 12,
    "start_time": "2024-11-04T12:33:47.447Z"
   },
   {
    "duration": 12,
    "start_time": "2024-11-04T12:35:06.120Z"
   },
   {
    "duration": 7,
    "start_time": "2024-11-04T12:36:13.582Z"
   },
   {
    "duration": 11,
    "start_time": "2024-11-04T12:37:11.299Z"
   },
   {
    "duration": 2,
    "start_time": "2024-11-04T12:37:17.347Z"
   },
   {
    "duration": 8,
    "start_time": "2024-11-04T12:38:30.221Z"
   },
   {
    "duration": 6,
    "start_time": "2024-11-04T12:38:30.820Z"
   },
   {
    "duration": 2,
    "start_time": "2024-11-04T12:38:31.460Z"
   },
   {
    "duration": 386,
    "start_time": "2024-11-04T12:38:33.066Z"
   },
   {
    "duration": 4,
    "start_time": "2024-11-04T12:39:24.129Z"
   },
   {
    "duration": 2,
    "start_time": "2024-11-04T12:39:24.725Z"
   },
   {
    "duration": 348,
    "start_time": "2024-11-04T12:39:25.583Z"
   },
   {
    "duration": 12,
    "start_time": "2024-11-04T12:41:19.816Z"
   },
   {
    "duration": 29,
    "start_time": "2024-11-04T12:41:29.137Z"
   },
   {
    "duration": 10,
    "start_time": "2024-11-04T12:41:43.943Z"
   },
   {
    "duration": 5,
    "start_time": "2024-11-04T12:42:33.167Z"
   },
   {
    "duration": 773,
    "start_time": "2024-11-04T12:42:34.903Z"
   },
   {
    "duration": 780,
    "start_time": "2024-11-04T12:42:52.745Z"
   },
   {
    "duration": 2,
    "start_time": "2024-11-04T12:42:53.865Z"
   },
   {
    "duration": 1128,
    "start_time": "2024-11-04T12:42:54.993Z"
   },
   {
    "duration": 5,
    "start_time": "2024-11-04T12:43:07.459Z"
   },
   {
    "duration": 362,
    "start_time": "2024-11-04T12:43:09.398Z"
   },
   {
    "duration": 8,
    "start_time": "2024-11-04T12:44:41.822Z"
   },
   {
    "duration": 5,
    "start_time": "2024-11-04T12:44:43.409Z"
   },
   {
    "duration": 370,
    "start_time": "2024-11-04T12:44:44.529Z"
   },
   {
    "duration": 359,
    "start_time": "2024-11-04T12:45:19.342Z"
   },
   {
    "duration": 15,
    "start_time": "2024-11-04T12:45:40.619Z"
   },
   {
    "duration": 723,
    "start_time": "2024-11-04T12:46:09.318Z"
   },
   {
    "duration": 12,
    "start_time": "2024-11-04T12:46:14.275Z"
   },
   {
    "duration": 8,
    "start_time": "2024-11-04T12:46:14.836Z"
   },
   {
    "duration": 6,
    "start_time": "2024-11-04T12:46:15.556Z"
   },
   {
    "duration": 392,
    "start_time": "2024-11-04T12:46:17.478Z"
   },
   {
    "duration": 8,
    "start_time": "2024-11-04T12:47:58.739Z"
   },
   {
    "duration": 13,
    "start_time": "2024-11-04T12:48:04.708Z"
   },
   {
    "duration": 8,
    "start_time": "2024-11-04T12:48:06.492Z"
   },
   {
    "duration": 6,
    "start_time": "2024-11-04T12:48:06.961Z"
   },
   {
    "duration": 360,
    "start_time": "2024-11-04T12:48:07.849Z"
   },
   {
    "duration": 360,
    "start_time": "2024-11-04T12:48:17.084Z"
   },
   {
    "duration": 3,
    "start_time": "2024-11-04T12:49:09.988Z"
   },
   {
    "duration": 4,
    "start_time": "2024-11-04T12:51:16.030Z"
   },
   {
    "duration": 345,
    "start_time": "2024-11-04T12:51:16.867Z"
   },
   {
    "duration": 4,
    "start_time": "2024-11-04T12:51:59.257Z"
   },
   {
    "duration": 361,
    "start_time": "2024-11-04T12:52:00.094Z"
   },
   {
    "duration": 765,
    "start_time": "2024-11-04T12:52:46.771Z"
   },
   {
    "duration": 849,
    "start_time": "2024-11-04T12:52:53.461Z"
   },
   {
    "duration": 4,
    "start_time": "2024-11-04T12:53:08.668Z"
   },
   {
    "duration": 352,
    "start_time": "2024-11-04T12:53:10.266Z"
   },
   {
    "duration": 7,
    "start_time": "2024-11-04T12:54:04.335Z"
   },
   {
    "duration": 4,
    "start_time": "2024-11-04T12:54:04.988Z"
   },
   {
    "duration": 344,
    "start_time": "2024-11-04T12:54:05.832Z"
   },
   {
    "duration": 3,
    "start_time": "2024-11-04T12:58:10.601Z"
   },
   {
    "duration": 92,
    "start_time": "2024-11-04T12:58:10.962Z"
   },
   {
    "duration": 3,
    "start_time": "2024-11-04T12:58:11.662Z"
   },
   {
    "duration": 13,
    "start_time": "2024-11-04T12:58:11.940Z"
   },
   {
    "duration": 13,
    "start_time": "2024-11-04T12:58:12.227Z"
   },
   {
    "duration": 12,
    "start_time": "2024-11-04T12:58:12.439Z"
   },
   {
    "duration": 3,
    "start_time": "2024-11-04T12:58:13.038Z"
   },
   {
    "duration": 10,
    "start_time": "2024-11-04T12:58:13.254Z"
   },
   {
    "duration": 3,
    "start_time": "2024-11-04T12:58:14.085Z"
   },
   {
    "duration": 12,
    "start_time": "2024-11-04T12:58:14.295Z"
   },
   {
    "duration": 4,
    "start_time": "2024-11-04T12:58:14.523Z"
   },
   {
    "duration": 16,
    "start_time": "2024-11-04T12:58:14.964Z"
   },
   {
    "duration": 2,
    "start_time": "2024-11-04T12:58:16.379Z"
   },
   {
    "duration": 3,
    "start_time": "2024-11-04T12:58:16.631Z"
   },
   {
    "duration": 8,
    "start_time": "2024-11-04T12:58:16.888Z"
   },
   {
    "duration": 8,
    "start_time": "2024-11-04T12:58:17.230Z"
   },
   {
    "duration": 5,
    "start_time": "2024-11-04T12:58:20.319Z"
   },
   {
    "duration": 3,
    "start_time": "2024-11-04T12:58:20.673Z"
   },
   {
    "duration": 3,
    "start_time": "2024-11-04T12:58:20.969Z"
   },
   {
    "duration": 5,
    "start_time": "2024-11-04T12:58:21.274Z"
   },
   {
    "duration": 8,
    "start_time": "2024-11-04T12:58:21.597Z"
   },
   {
    "duration": 2,
    "start_time": "2024-11-04T12:58:21.938Z"
   },
   {
    "duration": 8,
    "start_time": "2024-11-04T12:58:22.546Z"
   },
   {
    "duration": 8,
    "start_time": "2024-11-04T12:58:22.838Z"
   },
   {
    "duration": 2,
    "start_time": "2024-11-04T12:58:23.134Z"
   },
   {
    "duration": 15,
    "start_time": "2024-11-04T12:58:24.208Z"
   },
   {
    "duration": 106,
    "start_time": "2024-11-04T12:58:26.047Z"
   },
   {
    "duration": 15,
    "start_time": "2024-11-04T12:58:27.747Z"
   },
   {
    "duration": 10,
    "start_time": "2024-11-04T12:58:29.940Z"
   },
   {
    "duration": 5,
    "start_time": "2024-11-04T12:58:31.247Z"
   },
   {
    "duration": 358,
    "start_time": "2024-11-04T12:58:32.423Z"
   },
   {
    "duration": 5,
    "start_time": "2024-11-04T12:58:34.633Z"
   },
   {
    "duration": 358,
    "start_time": "2024-11-04T12:58:34.998Z"
   },
   {
    "duration": 5,
    "start_time": "2024-11-04T12:58:37.728Z"
   },
   {
    "duration": 463,
    "start_time": "2024-11-04T12:58:38.190Z"
   },
   {
    "duration": 7,
    "start_time": "2024-11-04T12:58:43.174Z"
   },
   {
    "duration": 13,
    "start_time": "2024-11-04T12:58:44.207Z"
   },
   {
    "duration": 8,
    "start_time": "2024-11-04T12:58:46.098Z"
   },
   {
    "duration": 5,
    "start_time": "2024-11-04T12:58:47.555Z"
   },
   {
    "duration": 365,
    "start_time": "2024-11-04T12:58:48.486Z"
   },
   {
    "duration": 335,
    "start_time": "2024-11-04T12:59:27.247Z"
   },
   {
    "duration": 363,
    "start_time": "2024-11-04T12:59:37.585Z"
   },
   {
    "duration": 15,
    "start_time": "2024-11-04T13:01:49.829Z"
   },
   {
    "duration": 101,
    "start_time": "2024-11-04T13:02:12.135Z"
   },
   {
    "duration": 1340,
    "start_time": "2024-11-05T09:05:24.588Z"
   },
   {
    "duration": 225,
    "start_time": "2024-11-05T09:05:25.930Z"
   },
   {
    "duration": 3,
    "start_time": "2024-11-05T09:05:27.018Z"
   },
   {
    "duration": 19,
    "start_time": "2024-11-05T09:06:20.608Z"
   },
   {
    "duration": 14,
    "start_time": "2024-11-05T09:06:21.400Z"
   },
   {
    "duration": 12,
    "start_time": "2024-11-05T09:06:21.948Z"
   },
   {
    "duration": 3,
    "start_time": "2024-11-05T09:06:23.265Z"
   },
   {
    "duration": 9,
    "start_time": "2024-11-05T09:06:24.202Z"
   },
   {
    "duration": 2,
    "start_time": "2024-11-05T09:06:26.456Z"
   },
   {
    "duration": 16,
    "start_time": "2024-11-05T09:06:26.820Z"
   },
   {
    "duration": 5,
    "start_time": "2024-11-05T09:06:27.348Z"
   },
   {
    "duration": 13,
    "start_time": "2024-11-05T09:06:28.121Z"
   },
   {
    "duration": 2,
    "start_time": "2024-11-05T09:06:30.263Z"
   },
   {
    "duration": 3,
    "start_time": "2024-11-05T09:06:30.705Z"
   },
   {
    "duration": 8,
    "start_time": "2024-11-05T09:06:31.152Z"
   },
   {
    "duration": 9,
    "start_time": "2024-11-05T09:06:32.547Z"
   },
   {
    "duration": 4,
    "start_time": "2024-11-05T09:06:46.618Z"
   },
   {
    "duration": 3,
    "start_time": "2024-11-05T09:06:48.168Z"
   },
   {
    "duration": 2,
    "start_time": "2024-11-05T09:07:02.231Z"
   },
   {
    "duration": 4,
    "start_time": "2024-11-05T09:07:02.694Z"
   },
   {
    "duration": 8,
    "start_time": "2024-11-05T09:07:03.242Z"
   },
   {
    "duration": 2,
    "start_time": "2024-11-05T09:07:03.631Z"
   },
   {
    "duration": 8,
    "start_time": "2024-11-05T09:07:10.415Z"
   },
   {
    "duration": 8,
    "start_time": "2024-11-05T09:07:10.769Z"
   },
   {
    "duration": 2,
    "start_time": "2024-11-05T09:07:11.106Z"
   },
   {
    "duration": 16,
    "start_time": "2024-11-05T09:07:12.201Z"
   },
   {
    "duration": 10,
    "start_time": "2024-11-05T09:07:12.657Z"
   },
   {
    "duration": 15,
    "start_time": "2024-11-05T09:07:13.102Z"
   },
   {
    "duration": 10,
    "start_time": "2024-11-05T09:07:13.784Z"
   },
   {
    "duration": 5,
    "start_time": "2024-11-05T09:07:37.732Z"
   },
   {
    "duration": 338,
    "start_time": "2024-11-05T09:07:42.258Z"
   },
   {
    "duration": 5,
    "start_time": "2024-11-05T09:07:46.140Z"
   },
   {
    "duration": 339,
    "start_time": "2024-11-05T09:07:46.612Z"
   },
   {
    "duration": 4,
    "start_time": "2024-11-05T09:07:49.362Z"
   },
   {
    "duration": 465,
    "start_time": "2024-11-05T09:07:49.955Z"
   },
   {
    "duration": 5,
    "start_time": "2024-11-05T09:08:29.953Z"
   },
   {
    "duration": 278,
    "start_time": "2024-11-05T09:09:39.029Z"
   },
   {
    "duration": 275,
    "start_time": "2024-11-05T09:13:20.499Z"
   },
   {
    "duration": 536,
    "start_time": "2024-11-05T09:13:40.920Z"
   },
   {
    "duration": 12,
    "start_time": "2024-11-05T09:16:15.456Z"
   },
   {
    "duration": 57,
    "start_time": "2024-11-05T09:20:33.542Z"
   },
   {
    "duration": 52,
    "start_time": "2024-11-05T09:20:39.936Z"
   },
   {
    "duration": 60,
    "start_time": "2024-11-05T09:20:48.810Z"
   },
   {
    "duration": 53,
    "start_time": "2024-11-05T09:20:53.668Z"
   },
   {
    "duration": 52,
    "start_time": "2024-11-05T09:21:00.758Z"
   },
   {
    "duration": 28,
    "start_time": "2024-11-05T09:21:06.682Z"
   },
   {
    "duration": 24,
    "start_time": "2024-11-05T09:23:19.535Z"
   },
   {
    "duration": 344,
    "start_time": "2024-11-05T09:24:50.945Z"
   },
   {
    "duration": 328,
    "start_time": "2024-11-05T09:25:23.248Z"
   },
   {
    "duration": 359,
    "start_time": "2024-11-05T09:25:45.810Z"
   },
   {
    "duration": 274,
    "start_time": "2024-11-05T09:26:32.802Z"
   },
   {
    "duration": 743,
    "start_time": "2024-11-05T09:27:00.959Z"
   },
   {
    "duration": 389,
    "start_time": "2024-11-05T09:27:10.775Z"
   },
   {
    "duration": 21,
    "start_time": "2024-11-05T09:28:09.490Z"
   },
   {
    "duration": 20,
    "start_time": "2024-11-05T09:28:22.097Z"
   },
   {
    "duration": 13,
    "start_time": "2024-11-05T09:29:00.666Z"
   },
   {
    "duration": 16,
    "start_time": "2024-11-05T09:29:56.073Z"
   },
   {
    "duration": 17,
    "start_time": "2024-11-05T09:30:28.767Z"
   },
   {
    "duration": 5,
    "start_time": "2024-11-05T09:30:42.318Z"
   },
   {
    "duration": 6,
    "start_time": "2024-11-05T09:30:58.132Z"
   },
   {
    "duration": 284,
    "start_time": "2024-11-05T09:30:58.782Z"
   },
   {
    "duration": 32,
    "start_time": "2024-11-05T09:31:33.775Z"
   },
   {
    "duration": 25,
    "start_time": "2024-11-05T09:31:35.600Z"
   },
   {
    "duration": 27,
    "start_time": "2024-11-05T09:32:06.721Z"
   },
   {
    "duration": 32,
    "start_time": "2024-11-05T09:32:07.865Z"
   },
   {
    "duration": 32,
    "start_time": "2024-11-05T09:32:08.541Z"
   },
   {
    "duration": 11,
    "start_time": "2024-11-05T09:32:09.600Z"
   },
   {
    "duration": 6,
    "start_time": "2024-11-05T09:32:13.270Z"
   },
   {
    "duration": 281,
    "start_time": "2024-11-05T09:32:14.234Z"
   },
   {
    "duration": 24,
    "start_time": "2024-11-05T09:32:49.494Z"
   },
   {
    "duration": 28,
    "start_time": "2024-11-05T09:33:04.772Z"
   },
   {
    "duration": 33,
    "start_time": "2024-11-05T09:33:33.692Z"
   },
   {
    "duration": 30,
    "start_time": "2024-11-05T09:33:45.443Z"
   },
   {
    "duration": 5,
    "start_time": "2024-11-05T09:34:45.578Z"
   },
   {
    "duration": 32,
    "start_time": "2024-11-05T09:34:46.237Z"
   },
   {
    "duration": 28,
    "start_time": "2024-11-05T09:34:47.221Z"
   },
   {
    "duration": 12,
    "start_time": "2024-11-05T09:34:49.521Z"
   },
   {
    "duration": 18,
    "start_time": "2024-11-05T09:34:51.184Z"
   },
   {
    "duration": 6,
    "start_time": "2024-11-05T09:35:10.764Z"
   },
   {
    "duration": 17,
    "start_time": "2024-11-05T09:35:31.284Z"
   },
   {
    "duration": 16,
    "start_time": "2024-11-05T09:35:44.470Z"
   },
   {
    "duration": 4,
    "start_time": "2024-11-05T09:35:54.841Z"
   },
   {
    "duration": 4,
    "start_time": "2024-11-05T09:36:06.036Z"
   },
   {
    "duration": 784,
    "start_time": "2024-11-05T09:36:06.703Z"
   },
   {
    "duration": 10,
    "start_time": "2024-11-05T09:36:23.202Z"
   },
   {
    "duration": 4,
    "start_time": "2024-11-05T09:36:42.129Z"
   },
   {
    "duration": 292,
    "start_time": "2024-11-05T09:36:42.993Z"
   },
   {
    "duration": 146,
    "start_time": "2024-11-05T09:37:38.913Z"
   },
   {
    "duration": 148,
    "start_time": "2024-11-05T09:37:49.750Z"
   },
   {
    "duration": 144,
    "start_time": "2024-11-05T09:37:54.820Z"
   },
   {
    "duration": 114,
    "start_time": "2024-11-05T09:38:11.297Z"
   },
   {
    "duration": 122,
    "start_time": "2024-11-05T09:38:30.367Z"
   },
   {
    "duration": 10,
    "start_time": "2024-11-05T09:38:31.831Z"
   },
   {
    "duration": 5,
    "start_time": "2024-11-05T09:38:36.751Z"
   },
   {
    "duration": 285,
    "start_time": "2024-11-05T09:38:37.517Z"
   },
   {
    "duration": 329,
    "start_time": "2024-11-05T09:39:28.558Z"
   },
   {
    "duration": 10,
    "start_time": "2024-11-05T09:42:15.887Z"
   },
   {
    "duration": 11,
    "start_time": "2024-11-05T09:43:12.552Z"
   },
   {
    "duration": 832,
    "start_time": "2024-11-05T09:43:54.102Z"
   },
   {
    "duration": 5,
    "start_time": "2024-11-05T09:44:06.711Z"
   },
   {
    "duration": 11,
    "start_time": "2024-11-05T09:44:55.338Z"
   },
   {
    "duration": 6,
    "start_time": "2024-11-05T09:45:52.814Z"
   },
   {
    "duration": 5,
    "start_time": "2024-11-05T09:46:39.303Z"
   },
   {
    "duration": 6,
    "start_time": "2024-11-05T09:46:54.590Z"
   },
   {
    "duration": 321,
    "start_time": "2024-11-05T09:47:11.122Z"
   },
   {
    "duration": 7,
    "start_time": "2024-11-05T09:47:16.636Z"
   },
   {
    "duration": 8,
    "start_time": "2024-11-05T09:47:23.278Z"
   },
   {
    "duration": 7,
    "start_time": "2024-11-05T09:47:28.862Z"
   },
   {
    "duration": 302,
    "start_time": "2024-11-05T09:48:12.506Z"
   },
   {
    "duration": 173,
    "start_time": "2024-11-05T09:48:26.349Z"
   },
   {
    "duration": 370,
    "start_time": "2024-11-05T09:48:39.594Z"
   },
   {
    "duration": 15,
    "start_time": "2024-11-05T09:49:25.209Z"
   },
   {
    "duration": 15,
    "start_time": "2024-11-05T09:49:34.904Z"
   },
   {
    "duration": 15,
    "start_time": "2024-11-05T09:50:11.632Z"
   },
   {
    "duration": 10,
    "start_time": "2024-11-05T09:51:32.289Z"
   },
   {
    "duration": 7,
    "start_time": "2024-11-05T09:52:24.936Z"
   },
   {
    "duration": 283,
    "start_time": "2024-11-05T09:52:27.172Z"
   },
   {
    "duration": 15,
    "start_time": "2024-11-05T09:52:43.675Z"
   },
   {
    "duration": 2,
    "start_time": "2024-11-05T09:53:27.161Z"
   },
   {
    "duration": 14,
    "start_time": "2024-11-05T09:53:52.233Z"
   },
   {
    "duration": 14,
    "start_time": "2024-11-05T09:53:59.836Z"
   },
   {
    "duration": 15,
    "start_time": "2024-11-05T09:54:14.431Z"
   },
   {
    "duration": 13,
    "start_time": "2024-11-05T09:54:35.161Z"
   },
   {
    "duration": 5,
    "start_time": "2024-11-05T09:55:17.324Z"
   },
   {
    "duration": 9,
    "start_time": "2024-11-05T09:55:19.290Z"
   },
   {
    "duration": 181,
    "start_time": "2024-11-05T09:55:21.314Z"
   },
   {
    "duration": 4,
    "start_time": "2024-11-05T09:55:36.226Z"
   },
   {
    "duration": 166,
    "start_time": "2024-11-05T09:55:54.690Z"
   },
   {
    "duration": 4,
    "start_time": "2024-11-05T09:56:29.228Z"
   },
   {
    "duration": 174,
    "start_time": "2024-11-05T09:56:33.606Z"
   },
   {
    "duration": 172,
    "start_time": "2024-11-05T09:56:41.286Z"
   },
   {
    "duration": 60,
    "start_time": "2024-11-05T09:56:47.114Z"
   },
   {
    "duration": 159,
    "start_time": "2024-11-05T09:56:54.644Z"
   },
   {
    "duration": 262,
    "start_time": "2024-11-05T09:56:58.754Z"
   },
   {
    "duration": 121,
    "start_time": "2024-11-05T09:57:00.624Z"
   },
   {
    "duration": 271,
    "start_time": "2024-11-05T09:57:03.057Z"
   },
   {
    "duration": 5,
    "start_time": "2024-11-05T09:57:06.619Z"
   },
   {
    "duration": 296,
    "start_time": "2024-11-05T09:57:11.254Z"
   },
   {
    "duration": 11,
    "start_time": "2024-11-05T09:57:19.662Z"
   },
   {
    "duration": 12,
    "start_time": "2024-11-05T09:57:20.254Z"
   },
   {
    "duration": 7,
    "start_time": "2024-11-05T09:57:21.188Z"
   },
   {
    "duration": 3,
    "start_time": "2024-11-05T09:57:21.801Z"
   },
   {
    "duration": 4,
    "start_time": "2024-11-05T09:57:22.400Z"
   },
   {
    "duration": 31,
    "start_time": "2024-11-05T09:57:22.909Z"
   },
   {
    "duration": 7,
    "start_time": "2024-11-05T09:58:12.731Z"
   },
   {
    "duration": 7,
    "start_time": "2024-11-05T09:58:13.500Z"
   },
   {
    "duration": 7,
    "start_time": "2024-11-05T09:58:57.250Z"
   },
   {
    "duration": 7,
    "start_time": "2024-11-05T09:58:57.582Z"
   },
   {
    "duration": 4,
    "start_time": "2024-11-05T09:58:58.274Z"
   },
   {
    "duration": 5,
    "start_time": "2024-11-05T09:58:58.661Z"
   },
   {
    "duration": 31,
    "start_time": "2024-11-05T09:58:59.150Z"
   },
   {
    "duration": 3,
    "start_time": "2024-11-05T09:59:03.401Z"
   },
   {
    "duration": 8,
    "start_time": "2024-11-05T09:59:03.948Z"
   },
   {
    "duration": 15,
    "start_time": "2024-11-05T10:00:39.577Z"
   },
   {
    "duration": 16,
    "start_time": "2024-11-05T10:00:54.319Z"
   },
   {
    "duration": 15,
    "start_time": "2024-11-05T10:01:18.235Z"
   },
   {
    "duration": 772,
    "start_time": "2024-11-05T10:01:31.463Z"
   },
   {
    "duration": 15,
    "start_time": "2024-11-05T10:02:00.746Z"
   },
   {
    "duration": 5,
    "start_time": "2024-11-05T10:03:21.291Z"
   },
   {
    "duration": 452,
    "start_time": "2024-11-05T10:03:58.768Z"
   },
   {
    "duration": 417,
    "start_time": "2024-11-05T10:04:08.740Z"
   },
   {
    "duration": 3,
    "start_time": "2024-11-05T10:05:01.969Z"
   },
   {
    "duration": 7,
    "start_time": "2024-11-05T10:05:03.058Z"
   },
   {
    "duration": 12,
    "start_time": "2024-11-05T10:10:39.320Z"
   },
   {
    "duration": 4,
    "start_time": "2024-11-05T10:11:58.769Z"
   },
   {
    "duration": 5,
    "start_time": "2024-11-05T10:12:13.238Z"
   },
   {
    "duration": 5,
    "start_time": "2024-11-05T10:12:20.336Z"
   },
   {
    "duration": 2,
    "start_time": "2024-11-05T10:12:33.577Z"
   },
   {
    "duration": 8,
    "start_time": "2024-11-05T10:12:36.907Z"
   },
   {
    "duration": 3,
    "start_time": "2024-11-05T10:12:45.557Z"
   },
   {
    "duration": 79,
    "start_time": "2024-11-05T10:12:45.761Z"
   },
   {
    "duration": 3,
    "start_time": "2024-11-05T10:12:46.214Z"
   },
   {
    "duration": 13,
    "start_time": "2024-11-05T10:12:46.445Z"
   },
   {
    "duration": 13,
    "start_time": "2024-11-05T10:12:46.676Z"
   },
   {
    "duration": 12,
    "start_time": "2024-11-05T10:12:46.894Z"
   },
   {
    "duration": 3,
    "start_time": "2024-11-05T10:12:47.648Z"
   },
   {
    "duration": 10,
    "start_time": "2024-11-05T10:12:47.946Z"
   },
   {
    "duration": 3,
    "start_time": "2024-11-05T10:12:49.072Z"
   },
   {
    "duration": 12,
    "start_time": "2024-11-05T10:12:49.368Z"
   },
   {
    "duration": 4,
    "start_time": "2024-11-05T10:12:49.662Z"
   },
   {
    "duration": 15,
    "start_time": "2024-11-05T10:12:50.206Z"
   },
   {
    "duration": 2,
    "start_time": "2024-11-05T10:12:51.913Z"
   },
   {
    "duration": 2,
    "start_time": "2024-11-05T10:12:52.184Z"
   },
   {
    "duration": 7,
    "start_time": "2024-11-05T10:12:52.472Z"
   },
   {
    "duration": 8,
    "start_time": "2024-11-05T10:12:53.016Z"
   },
   {
    "duration": 4,
    "start_time": "2024-11-05T10:12:53.308Z"
   },
   {
    "duration": 2,
    "start_time": "2024-11-05T10:12:53.562Z"
   },
   {
    "duration": 2,
    "start_time": "2024-11-05T10:12:53.839Z"
   },
   {
    "duration": 4,
    "start_time": "2024-11-05T10:12:54.423Z"
   },
   {
    "duration": 8,
    "start_time": "2024-11-05T10:12:54.712Z"
   },
   {
    "duration": 2,
    "start_time": "2024-11-05T10:12:54.976Z"
   },
   {
    "duration": 7,
    "start_time": "2024-11-05T10:12:55.507Z"
   },
   {
    "duration": 7,
    "start_time": "2024-11-05T10:12:55.776Z"
   },
   {
    "duration": 2,
    "start_time": "2024-11-05T10:12:56.050Z"
   },
   {
    "duration": 15,
    "start_time": "2024-11-05T10:12:56.832Z"
   },
   {
    "duration": 10,
    "start_time": "2024-11-05T10:12:57.067Z"
   },
   {
    "duration": 15,
    "start_time": "2024-11-05T10:12:57.331Z"
   },
   {
    "duration": 9,
    "start_time": "2024-11-05T10:12:57.600Z"
   },
   {
    "duration": 4,
    "start_time": "2024-11-05T10:12:57.856Z"
   },
   {
    "duration": 347,
    "start_time": "2024-11-05T10:12:58.093Z"
   },
   {
    "duration": 5,
    "start_time": "2024-11-05T10:12:59.592Z"
   },
   {
    "duration": 333,
    "start_time": "2024-11-05T10:12:59.871Z"
   },
   {
    "duration": 4,
    "start_time": "2024-11-05T10:13:02.910Z"
   },
   {
    "duration": 411,
    "start_time": "2024-11-05T10:13:03.211Z"
   },
   {
    "duration": 2,
    "start_time": "2024-11-05T10:13:05.454Z"
   },
   {
    "duration": 3,
    "start_time": "2024-11-05T10:13:05.686Z"
   },
   {
    "duration": 2,
    "start_time": "2024-11-05T10:13:05.935Z"
   },
   {
    "duration": 2,
    "start_time": "2024-11-05T10:13:06.171Z"
   },
   {
    "duration": 6,
    "start_time": "2024-11-05T10:13:06.422Z"
   },
   {
    "duration": 148,
    "start_time": "2024-11-05T10:13:06.876Z"
   },
   {
    "duration": 110,
    "start_time": "2024-11-05T10:13:07.340Z"
   },
   {
    "duration": 12,
    "start_time": "2024-11-05T10:13:07.804Z"
   },
   {
    "duration": 7,
    "start_time": "2024-11-05T10:13:08.216Z"
   },
   {
    "duration": 331,
    "start_time": "2024-11-05T10:13:08.527Z"
   },
   {
    "duration": 2,
    "start_time": "2024-11-05T10:13:10.409Z"
   },
   {
    "duration": 13,
    "start_time": "2024-11-05T10:13:10.696Z"
   },
   {
    "duration": 5,
    "start_time": "2024-11-05T10:13:11.160Z"
   },
   {
    "duration": 397,
    "start_time": "2024-11-05T10:13:11.893Z"
   },
   {
    "duration": 9,
    "start_time": "2024-11-05T10:13:14.078Z"
   },
   {
    "duration": 167,
    "start_time": "2024-11-05T10:13:14.446Z"
   },
   {
    "duration": 5,
    "start_time": "2024-11-05T10:13:16.495Z"
   },
   {
    "duration": 158,
    "start_time": "2024-11-05T10:13:17.540Z"
   },
   {
    "duration": 269,
    "start_time": "2024-11-05T10:13:19.489Z"
   },
   {
    "duration": 195,
    "start_time": "2024-11-05T10:13:20.723Z"
   },
   {
    "duration": 275,
    "start_time": "2024-11-05T10:13:22.352Z"
   },
   {
    "duration": 4,
    "start_time": "2024-11-05T10:13:24.612Z"
   },
   {
    "duration": 279,
    "start_time": "2024-11-05T10:13:28.545Z"
   },
   {
    "duration": 11,
    "start_time": "2024-11-05T10:13:31.007Z"
   },
   {
    "duration": 12,
    "start_time": "2024-11-05T10:13:31.298Z"
   },
   {
    "duration": 7,
    "start_time": "2024-11-05T10:13:31.829Z"
   },
   {
    "duration": 3,
    "start_time": "2024-11-05T10:13:32.065Z"
   },
   {
    "duration": 4,
    "start_time": "2024-11-05T10:13:32.273Z"
   },
   {
    "duration": 30,
    "start_time": "2024-11-05T10:13:32.497Z"
   },
   {
    "duration": 6,
    "start_time": "2024-11-05T10:13:42.275Z"
   },
   {
    "duration": 7,
    "start_time": "2024-11-05T10:13:43.254Z"
   },
   {
    "duration": 7,
    "start_time": "2024-11-05T10:13:58.606Z"
   },
   {
    "duration": 9,
    "start_time": "2024-11-05T10:13:59.009Z"
   },
   {
    "duration": 7,
    "start_time": "2024-11-05T10:14:12.471Z"
   },
   {
    "duration": 7,
    "start_time": "2024-11-05T10:14:12.930Z"
   },
   {
    "duration": 4,
    "start_time": "2024-11-05T10:14:13.688Z"
   },
   {
    "duration": 4,
    "start_time": "2024-11-05T10:14:14.091Z"
   },
   {
    "duration": 30,
    "start_time": "2024-11-05T10:14:14.351Z"
   },
   {
    "duration": 7,
    "start_time": "2024-11-05T10:14:39.529Z"
   },
   {
    "duration": 7,
    "start_time": "2024-11-05T10:14:40.340Z"
   },
   {
    "duration": 7,
    "start_time": "2024-11-05T10:17:34.072Z"
   },
   {
    "duration": 7,
    "start_time": "2024-11-05T10:17:35.435Z"
   },
   {
    "duration": 34,
    "start_time": "2024-11-05T11:12:03.517Z"
   },
   {
    "duration": 910,
    "start_time": "2024-11-05T11:13:18.425Z"
   },
   {
    "duration": 8,
    "start_time": "2024-11-05T11:13:32.817Z"
   },
   {
    "duration": 7,
    "start_time": "2024-11-05T11:13:34.018Z"
   },
   {
    "duration": 20,
    "start_time": "2024-11-05T11:14:55.636Z"
   },
   {
    "duration": 253,
    "start_time": "2024-11-05T11:15:28.089Z"
   },
   {
    "duration": 9,
    "start_time": "2024-11-05T11:16:57.462Z"
   },
   {
    "duration": 30,
    "start_time": "2024-11-05T11:17:45.648Z"
   },
   {
    "duration": 6,
    "start_time": "2024-11-05T11:18:03.246Z"
   },
   {
    "duration": 8,
    "start_time": "2024-11-05T11:18:11.186Z"
   },
   {
    "duration": 99,
    "start_time": "2024-11-05T11:19:48.063Z"
   },
   {
    "duration": 8,
    "start_time": "2024-11-05T11:20:04.727Z"
   },
   {
    "duration": 8,
    "start_time": "2024-11-05T11:20:05.671Z"
   },
   {
    "duration": 1039,
    "start_time": "2024-11-05T16:08:04.151Z"
   },
   {
    "duration": 232,
    "start_time": "2024-11-05T16:08:05.192Z"
   },
   {
    "duration": 3,
    "start_time": "2024-11-05T16:08:05.425Z"
   },
   {
    "duration": 20,
    "start_time": "2024-11-05T16:08:05.431Z"
   },
   {
    "duration": 20,
    "start_time": "2024-11-05T16:08:05.452Z"
   },
   {
    "duration": 20,
    "start_time": "2024-11-05T16:08:05.474Z"
   },
   {
    "duration": 2,
    "start_time": "2024-11-05T16:08:05.495Z"
   },
   {
    "duration": 9,
    "start_time": "2024-11-05T16:08:05.499Z"
   },
   {
    "duration": 3,
    "start_time": "2024-11-05T16:08:05.509Z"
   },
   {
    "duration": 30,
    "start_time": "2024-11-05T16:08:05.514Z"
   },
   {
    "duration": 4,
    "start_time": "2024-11-05T16:08:05.545Z"
   },
   {
    "duration": 15,
    "start_time": "2024-11-05T16:08:05.550Z"
   },
   {
    "duration": 30,
    "start_time": "2024-11-05T16:08:05.567Z"
   },
   {
    "duration": 31,
    "start_time": "2024-11-05T16:08:05.598Z"
   },
   {
    "duration": 31,
    "start_time": "2024-11-05T16:08:05.630Z"
   },
   {
    "duration": 35,
    "start_time": "2024-11-05T16:08:05.663Z"
   },
   {
    "duration": 22,
    "start_time": "2024-11-05T16:08:05.699Z"
   },
   {
    "duration": 18,
    "start_time": "2024-11-05T16:08:05.723Z"
   },
   {
    "duration": 35,
    "start_time": "2024-11-05T16:08:05.742Z"
   },
   {
    "duration": 24,
    "start_time": "2024-11-05T16:08:05.778Z"
   },
   {
    "duration": 17,
    "start_time": "2024-11-05T16:08:05.804Z"
   },
   {
    "duration": 8,
    "start_time": "2024-11-05T16:08:05.823Z"
   },
   {
    "duration": 37,
    "start_time": "2024-11-05T16:08:05.832Z"
   },
   {
    "duration": 27,
    "start_time": "2024-11-05T16:08:05.870Z"
   },
   {
    "duration": 26,
    "start_time": "2024-11-05T16:08:05.898Z"
   },
   {
    "duration": 30,
    "start_time": "2024-11-05T16:08:05.926Z"
   },
   {
    "duration": 35,
    "start_time": "2024-11-05T16:08:05.957Z"
   },
   {
    "duration": 41,
    "start_time": "2024-11-05T16:08:05.996Z"
   },
   {
    "duration": 37,
    "start_time": "2024-11-05T16:08:06.038Z"
   },
   {
    "duration": 37,
    "start_time": "2024-11-05T16:08:06.077Z"
   },
   {
    "duration": 528,
    "start_time": "2024-11-05T16:08:06.115Z"
   },
   {
    "duration": 4,
    "start_time": "2024-11-05T16:08:06.644Z"
   },
   {
    "duration": 682,
    "start_time": "2024-11-05T16:08:06.649Z"
   },
   {
    "duration": 4,
    "start_time": "2024-11-05T16:08:07.333Z"
   },
   {
    "duration": 511,
    "start_time": "2024-11-05T16:08:07.338Z"
   },
   {
    "duration": 3,
    "start_time": "2024-11-05T16:08:07.850Z"
   },
   {
    "duration": 16,
    "start_time": "2024-11-05T16:08:07.854Z"
   },
   {
    "duration": 8,
    "start_time": "2024-11-05T16:08:07.871Z"
   },
   {
    "duration": 5,
    "start_time": "2024-11-05T16:08:07.880Z"
   },
   {
    "duration": 8,
    "start_time": "2024-11-05T16:08:07.886Z"
   },
   {
    "duration": 139,
    "start_time": "2024-11-05T16:08:07.895Z"
   },
   {
    "duration": 106,
    "start_time": "2024-11-05T16:08:08.035Z"
   },
   {
    "duration": 8,
    "start_time": "2024-11-05T16:08:08.142Z"
   },
   {
    "duration": 5,
    "start_time": "2024-11-05T16:08:08.152Z"
   },
   {
    "duration": 317,
    "start_time": "2024-11-05T16:08:08.158Z"
   },
   {
    "duration": 2,
    "start_time": "2024-11-05T16:08:08.477Z"
   },
   {
    "duration": 51,
    "start_time": "2024-11-05T16:08:08.480Z"
   },
   {
    "duration": 4,
    "start_time": "2024-11-05T16:08:08.532Z"
   },
   {
    "duration": 365,
    "start_time": "2024-11-05T16:08:08.537Z"
   },
   {
    "duration": 10,
    "start_time": "2024-11-05T16:08:08.904Z"
   },
   {
    "duration": 166,
    "start_time": "2024-11-05T16:08:08.915Z"
   },
   {
    "duration": 3,
    "start_time": "2024-11-05T16:08:09.083Z"
   },
   {
    "duration": 163,
    "start_time": "2024-11-05T16:08:09.088Z"
   },
   {
    "duration": 247,
    "start_time": "2024-11-05T16:08:09.253Z"
   },
   {
    "duration": 158,
    "start_time": "2024-11-05T16:08:09.501Z"
   },
   {
    "duration": 253,
    "start_time": "2024-11-05T16:08:09.661Z"
   },
   {
    "duration": 4,
    "start_time": "2024-11-05T16:08:09.915Z"
   },
   {
    "duration": 270,
    "start_time": "2024-11-05T16:08:09.920Z"
   },
   {
    "duration": 10,
    "start_time": "2024-11-05T16:08:10.191Z"
   },
   {
    "duration": 9,
    "start_time": "2024-11-05T16:08:10.212Z"
   },
   {
    "duration": 17,
    "start_time": "2024-11-05T16:08:10.223Z"
   },
   {
    "duration": 8,
    "start_time": "2024-11-05T16:08:10.241Z"
   },
   {
    "duration": 10,
    "start_time": "2024-11-05T16:08:10.250Z"
   },
   {
    "duration": 25,
    "start_time": "2024-11-05T16:08:10.262Z"
   },
   {
    "duration": 5,
    "start_time": "2024-11-05T16:08:10.288Z"
   },
   {
    "duration": 8,
    "start_time": "2024-11-05T16:08:10.295Z"
   },
   {
    "duration": 6,
    "start_time": "2024-11-05T16:08:10.312Z"
   },
   {
    "duration": 6,
    "start_time": "2024-11-05T16:08:10.319Z"
   },
   {
    "duration": 5,
    "start_time": "2024-11-05T16:08:10.326Z"
   },
   {
    "duration": 8,
    "start_time": "2024-11-05T16:08:10.333Z"
   },
   {
    "duration": 30,
    "start_time": "2024-11-05T16:08:10.343Z"
   },
   {
    "duration": 6,
    "start_time": "2024-11-05T16:08:10.374Z"
   },
   {
    "duration": 32,
    "start_time": "2024-11-05T16:08:10.382Z"
   }
  ],
  "kernelspec": {
   "display_name": "Python 3 (ipykernel)",
   "language": "python",
   "name": "python3"
  },
  "language_info": {
   "codemirror_mode": {
    "name": "ipython",
    "version": 3
   },
   "file_extension": ".py",
   "mimetype": "text/x-python",
   "name": "python",
   "nbconvert_exporter": "python",
   "pygments_lexer": "ipython3",
   "version": "3.9.5"
  },
  "toc": {
   "base_numbering": 1,
   "nav_menu": {},
   "number_sections": true,
   "sideBar": true,
   "skip_h1_title": true,
   "title_cell": "Table of Contents",
   "title_sidebar": "Contents",
   "toc_cell": false,
   "toc_position": {},
   "toc_section_display": true,
   "toc_window_display": true
  }
 },
 "nbformat": 4,
 "nbformat_minor": 2
}
